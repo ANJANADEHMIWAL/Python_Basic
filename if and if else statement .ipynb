{
 "cells": [
  {
   "cell_type": "markdown",
   "id": "0342b1db",
   "metadata": {},
   "source": [
    "#   if  and if else (condition statement )"
   ]
  },
  {
   "cell_type": "code",
   "execution_count": 5,
   "id": "da2056e1",
   "metadata": {},
   "outputs": [
    {
     "name": "stdout",
     "output_type": "stream",
     "text": [
      "Anjana\n",
      "word contain vowels Anjana\n"
     ]
    }
   ],
   "source": [
    "name = input()\n",
    "if name == \"e\" or \"a\" or \"i\" or \"o\" or \"u\" or \"E\" or \"A\" or \"I\" or \"O\" or \"U\" :\n",
    "    print(\"word contain vowels\" , name)\n",
    "else :\n",
    "    print(\"no vowels\" , name )"
   ]
  },
  {
   "cell_type": "code",
   "execution_count": 9,
   "id": "108b6001",
   "metadata": {},
   "outputs": [
    {
     "name": "stdout",
     "output_type": "stream",
     "text": [
      "give word : bob\n",
      "bob is a palindrom word\n"
     ]
    }
   ],
   "source": [
    "word = str(input(\"give word : \"))\n",
    "\n",
    "if word==word[ : : -1]:\n",
    "    print(f\"{word} is a palindrom word\")\n",
    "else:\n",
    "    print(f\"{word} is not a palindrom word  \")"
   ]
  },
  {
   "cell_type": "code",
   "execution_count": 14,
   "id": "8ba78905",
   "metadata": {},
   "outputs": [
    {
     "name": "stdout",
     "output_type": "stream",
     "text": [
      "enter the no. : 24\n",
      "24 is positive  number\n"
     ]
    }
   ],
   "source": [
    "number = int(input(\"enter the no. : \"))\n",
    "if number>0:\n",
    "    print(f\"{number} is positive  number\")\n",
    "else:\n",
    "    print(f\"{number} is negative  number \")"
   ]
  },
  {
   "cell_type": "code",
   "execution_count": 7,
   "id": "c8cfd889",
   "metadata": {},
   "outputs": [
    {
     "name": "stdout",
     "output_type": "stream",
     "text": [
      "enter the no. : -28\n",
      "-28 is negative  number \n"
     ]
    }
   ],
   "source": [
    "number = int(input(\"enter the no. : \"))\n",
    "if number>=0:\n",
    "    if number==0:\n",
    "        print(f\"{number} is the neither positive nor negaative .\")\n",
    "    else:\n",
    "        print(f\"{number} is positive  number\")\n",
    "else:\n",
    "    print(f\"{number} is negative  number \")"
   ]
  },
  {
   "cell_type": "code",
   "execution_count": 32,
   "id": "4cb3955a",
   "metadata": {},
   "outputs": [
    {
     "name": "stdout",
     "output_type": "stream",
     "text": [
      "enter the no. : 21\n",
      " 21 is divisible by 3 but not by 5 \n"
     ]
    }
   ],
   "source": [
    "number = int(input(\"enter the no. : \"))\n",
    "if number % 3==0 :\n",
    "    if number % 5 ==0:\n",
    "        print(f\" {number} is divisible by 5 nd 3 \")\n",
    "    else:\n",
    "        print(f\" {number} is divisible by 3 but not by 5 \")\n",
    "else :\n",
    "    print(f\" {number}  is  not divisible by 5 and 3 \")"
   ]
  },
  {
   "cell_type": "code",
   "execution_count": 43,
   "id": "8e59c63c",
   "metadata": {},
   "outputs": [
    {
     "name": "stdout",
     "output_type": "stream",
     "text": [
      "enter radius : 4\n",
      "small circle \n"
     ]
    }
   ],
   "source": [
    "radius = float(input(\"enter radius : \"))\n",
    "area = 3.14*radius \n",
    "\n",
    "if radius > 5 :\n",
    "    print(\"large circle\")\n",
    "else :\n",
    "    print(\"small circle \")"
   ]
  },
  {
   "cell_type": "code",
   "execution_count": 49,
   "id": "b560b22d",
   "metadata": {},
   "outputs": [
    {
     "name": "stdout",
     "output_type": "stream",
     "text": [
      "5\n",
      "3\n",
      "a is greater than b \n"
     ]
    }
   ],
   "source": [
    "a= int(input())\n",
    "b= int(input())\n",
    "if a<=b :\n",
    "      print(\"b is greater than a\")\n",
    "else:\n",
    "    print( \"a is greater than b \")"
   ]
  },
  {
   "cell_type": "code",
   "execution_count": 50,
   "id": "1f9cae29",
   "metadata": {},
   "outputs": [
    {
     "name": "stdout",
     "output_type": "stream",
     "text": [
      "ANJANA\n",
      "SANJANA\n",
      "b is greater in lenght than a\n"
     ]
    }
   ],
   "source": [
    "a = input()\n",
    "b= input()\n",
    "if a<=b :\n",
    "    print(\"b is greater in lenght than a\")\n",
    "else :\n",
    "    print(\"a is greater in length than b\")"
   ]
  },
  {
   "cell_type": "code",
   "execution_count": 52,
   "id": "2076a18e",
   "metadata": {},
   "outputs": [
    {
     "name": "stdout",
     "output_type": "stream",
     "text": [
      "enter the income : 25000\n",
      "they got 5% discount 1250.0\n"
     ]
    }
   ],
   "source": [
    "income=float(input(\"enter the income : \"))\n",
    "if income< 10000 :\n",
    "    print(\"they got 20% discount\" , income*0.20)\n",
    "elif income< 20000 :\n",
    "    print(\"they got 10% discount\", income*0.10 )\n",
    "elif income < 30000 :\n",
    "    print(\"they got 5% discount\", income*0.05 )\n",
    "else :\n",
    "    print(\"no discount\")"
   ]
  },
  {
   "cell_type": "code",
   "execution_count": 63,
   "id": "1095af79",
   "metadata": {},
   "outputs": [
    {
     "name": "stdout",
     "output_type": "stream",
     "text": [
      "enter the MRP : 25000\n",
      "they got 5% discount 1250.0\n"
     ]
    }
   ],
   "source": [
    "selling_price= int(input(\"enter the MRP : \"))\n",
    "\n",
    "if selling_price < 10000 :\n",
    "    print(\"they got 20% discount\" , selling_price*0.20)\n",
    "elif selling_price < 20000 :\n",
    "    print(\"they got 10% discount\",  selling_price*0.10 )\n",
    "elif selling_price < 30000 :\n",
    "    print(\"they got 5% discount\",  selling_price*0.05 )\n",
    "else :\n",
    "    print(\"no discount\")"
   ]
  },
  {
   "cell_type": "code",
   "execution_count": 58,
   "id": "5f9fc799",
   "metadata": {},
   "outputs": [
    {
     "name": "stdout",
     "output_type": "stream",
     "text": [
      " enter any value of a : 50\n",
      "no. is  divisible by 5 \n"
     ]
    }
   ],
   "source": [
    "# order of condition is imp\n",
    "\n",
    "a= int(input(\" enter any value of a : \"))\n",
    "if a%3==0 and a%5==0 :\n",
    "        print(\"no. is divisible by both 3 and 5 \")\n",
    "elif a% 3 ==0:\n",
    "    print(\" no. is  divisible by 3\")\n",
    "elif a% 5 ==0 :\n",
    "    print (\"no. is  divisible by 5 \")\n",
    "else:\n",
    "    print(\"not divisible by 3 and 5 \")"
   ]
  },
  {
   "cell_type": "code",
   "execution_count": 66,
   "id": "353c3738",
   "metadata": {},
   "outputs": [
    {
     "name": "stdout",
     "output_type": "stream",
     "text": [
      "ANJANA\n",
      "SANJANA\n",
      " both are not same\n"
     ]
    }
   ],
   "source": [
    "a= input()\n",
    "b = input ()\n",
    "if len(a)==len(b):  \n",
    "    print(\" both are same\")\n",
    "else:\n",
    "    print (\" both are not same\" )"
   ]
  },
  {
   "cell_type": "code",
   "execution_count": 71,
   "id": "2e4b363b",
   "metadata": {},
   "outputs": [
    {
     "name": "stdout",
     "output_type": "stream",
     "text": [
      "anjana\n",
      "sanjana\n",
      "b is greater in lenght than a\n"
     ]
    }
   ],
   "source": [
    "a = input()\n",
    "b= input()\n",
    "if len(a)<=len(b) :\n",
    "    if len(a)==len(b):\n",
    "        print(\"both are same in len \")\n",
    "    else:\n",
    "        print(\"b is greater in lenght than a\")\n",
    "else :\n",
    "    print(\"a is greater in length than b\")"
   ]
  },
  {
   "cell_type": "code",
   "execution_count": 74,
   "id": "8beb479d",
   "metadata": {},
   "outputs": [
    {
     "name": "stdout",
     "output_type": "stream",
     "text": [
      "enter any no. :  34\n",
      "enter operator ( + ,- ,% , /, **, * )  :  +\n",
      "enter any no. :  34\n",
      "68\n"
     ]
    }
   ],
   "source": [
    "#  calculator =\n",
    "\n",
    "first = int(input(\"enter any no. :  \"))\n",
    "operator = input(\"enter operator ( + ,- ,% , /, **, * )  :  \")\n",
    "second = int(input(\"enter any no. :  \"))\n",
    "\n",
    "if operator == \"+\":\n",
    "    print ( first + second)\n",
    "elif operator == \"-\":\n",
    "    print ( first - second)\n",
    "elif operator == \"%\":\n",
    "    print ( first % second)\n",
    "elif operator == \"/\":\n",
    "    print ( first / second)\n",
    "elif operator == \"**\":\n",
    "    print ( first ** second)\n",
    "elif operator == \"*\":\n",
    "    print ( first * second)\n",
    "else:\n",
    "    print(\"invalid operater\")"
   ]
  },
  {
   "cell_type": "code",
   "execution_count": 6,
   "id": "1fd46c7d",
   "metadata": {},
   "outputs": [
    {
     "name": "stdout",
     "output_type": "stream",
     "text": [
      "enter your height in cm : 159\n",
      " height is ok \n",
      " you can participate in games \n"
     ]
    }
   ],
   "source": [
    "height = float(input(\"enter your height in cm : \"))\n",
    "\n",
    "if height >= 153 :\n",
    "    print(\" height is ok \")\n",
    "    print(\" you can participate in games \")\n",
    "else:\n",
    "    print(\" need to improve diet \")"
   ]
  },
  {
   "cell_type": "code",
   "execution_count": 6,
   "id": "daf4ee8a",
   "metadata": {},
   "outputs": [
    {
     "name": "stdout",
     "output_type": "stream",
     "text": [
      "enter number : 24\n",
      "24 is even number \n"
     ]
    }
   ],
   "source": [
    "even =  int(input(\"enter number : \"))\n",
    "\n",
    "if even%2==0:\n",
    "    print(f\"{even} is even number \")\n",
    "else:\n",
    "    print(f\" {even} is odd number \")"
   ]
  },
  {
   "cell_type": "code",
   "execution_count": 10,
   "id": "270387a1",
   "metadata": {},
   "outputs": [],
   "source": []
  },
  {
   "cell_type": "code",
   "execution_count": 44,
   "id": "00c4c3e3",
   "metadata": {},
   "outputs": [
    {
     "name": "stdout",
     "output_type": "stream",
     "text": [
      "enter temperature in celcious : 32\n",
      "89.6\n",
      "cooling room temperature \n"
     ]
    }
   ],
   "source": [
    "celcious = float(input(\"enter temperature in celcious : \"))\n",
    "\n",
    "fahrenheit = celcious*9/5+32 \n",
    "\n",
    "print(fahrenheit)\n",
    "\n",
    "if   fahrenheit >212:\n",
    "    print(\"boiling point\")\n",
    "elif fahrenheit > 98.62 :\n",
    "    print(\"body temperature\")\n",
    "elif fahrenheit > 68 :\n",
    "    print(\"cooling room temperature \")\n",
    "elif fahrenheit >32 :\n",
    "    print(\"freezing point\")\n"
   ]
  },
  {
   "cell_type": "code",
   "execution_count": null,
   "id": "20928a62",
   "metadata": {},
   "outputs": [],
   "source": []
  },
  {
   "cell_type": "markdown",
   "id": "1eafc786",
   "metadata": {},
   "source": [
    "# Nested if else and elif  statement "
   ]
  },
  {
   "cell_type": "code",
   "execution_count": 12,
   "id": "c1f1521e",
   "metadata": {},
   "outputs": [
    {
     "name": "stdout",
     "output_type": "stream",
     "text": [
      "enter your height(feet) : 4\n",
      "enter your age :  20\n",
      "allowed for ride\n",
      "Fees will be Rs 1000 \n",
      "bye\n"
     ]
    }
   ],
   "source": [
    "height = float(input(\"enter your height(feet) : \"))\n",
    "age = int(input(\"enter your age :  \"))\n",
    "\n",
    "if height>=3 :\n",
    "    print(\"allowed for ride\")\n",
    "    if age <=18:\n",
    "        print(\"Fees will be Rs 500 \")\n",
    "    else :\n",
    "        print(\"Fees will be Rs 1000 \")\n",
    "else:\n",
    "    print(\"not allowed for ride \")\n",
    "    \n",
    "print(\"bye\")"
   ]
  },
  {
   "cell_type": "code",
   "execution_count": 13,
   "id": "0c5b19ca",
   "metadata": {
    "scrolled": true
   },
   "outputs": [
    {
     "name": "stdout",
     "output_type": "stream",
     "text": [
      "enter your height(feet) : 4\n",
      "enter your age :  20\n",
      "allowed for ride\n",
      "fees will be Rs 2000 \n",
      "bye\n"
     ]
    }
   ],
   "source": [
    "height = float(input(\"enter your height(feet) : \"))\n",
    "age = int(input(\"enter your age :  \"))\n",
    "\n",
    "if height>=3 :\n",
    "    print(\"allowed for ride\")\n",
    "    if age <=12:\n",
    "        print(\"Fees will be Rs 500 \")\n",
    "    elif age <= 18:\n",
    "        print(\"Fees will be Rs 1000 \")\n",
    "    else :\n",
    "        print(\"fees will be Rs 2000 \")\n",
    "else:\n",
    "    print(\"not allowed for ride \")\n",
    "    \n",
    "print(\"bye\")"
   ]
  },
  {
   "cell_type": "code",
   "execution_count": 21,
   "id": "fc6514fc",
   "metadata": {},
   "outputs": [
    {
     "name": "stdout",
     "output_type": "stream",
     "text": [
      "enter your weight (kg) : 20\n",
      "enter your height (feet) : 2\n",
      " your bmi is 5.0 and you are under weighht \n"
     ]
    }
   ],
   "source": [
    "weight = float(input(\"enter your weight (kg) : \"))\n",
    "height = float(input(\"enter your height (feet) : \"))\n",
    "\n",
    "bmi = weight / height ** 2 \n",
    "\n",
    "if bmi <= 18.5 :\n",
    "    print(f\" your bmi is {bmi} and you are under weighht \")\n",
    "elif bmi <=25 :\n",
    "    print(f\" your bmi is {bmi} and you are normal weight \")\n",
    "elif bmi<=30:\n",
    "    print(f\" your bmi is {bmi} and you are over weight \")\n",
    "elif bmi <=35:\n",
    "    print(f\"your bmi is {bmi} and you are obese \")\n",
    "else :\n",
    "    print(f\" your bmi is {bmi} and you are clinically obese \")"
   ]
  },
  {
   "cell_type": "code",
   "execution_count": 25,
   "id": "1510ed35",
   "metadata": {},
   "outputs": [
    {
     "name": "stdout",
     "output_type": "stream",
     "text": [
      "enter year : 2020\n",
      "it is a leap year \n",
      "bye\n"
     ]
    }
   ],
   "source": [
    "#  whether year is leap year(366 days) or not(365 days) .\n",
    "\n",
    "year = int(input(\"enter year : \"))\n",
    "\n",
    "if year%4==0:\n",
    "    if year % 100 != 0 :\n",
    "        print(\"it is a leap year \")\n",
    "else:\n",
    "    print(\"it is not a leap year \")\n",
    "    \n",
    "print('bye')"
   ]
  },
  {
   "cell_type": "code",
   "execution_count": 37,
   "id": "da5df807",
   "metadata": {},
   "outputs": [
    {
     "name": "stdout",
     "output_type": "stream",
     "text": [
      "enter year : 2020\n",
      "it is a leap year \n",
      "bye\n"
     ]
    }
   ],
   "source": [
    "#  whether year is leap year(366 days) or not(365 days) .\n",
    "\n",
    "year = int(input(\"enter year : \"))\n",
    "\n",
    "if year%4==0 and  year % 100 != 0 :\n",
    "            print(\"it is a leap year \")\n",
    "else:\n",
    "    print(\"it is not a leap year \")\n",
    "    \n",
    "print('bye')"
   ]
  },
  {
   "cell_type": "raw",
   "id": "4dddbe6a",
   "metadata": {},
   "source": [
    "rock paper scissor \n",
    " \n",
    " rock win aganist scissor \n",
    " scissor win aganist paper\n",
    " paper wins aganist rock \n",
    " \n",
    " 0 for rock \n",
    " 1 for paper\n",
    " 2 for scissor \n",
    " \n",
    " user(0,1,2)           computer(0,1,2)\n",
    "    0                      0            draw\n",
    "    0                      1            computer win\n",
    "    0                      2            user win         (exception need seperate condition )\n",
    "    1                      0            user win\n",
    "    1                      1            draw\n",
    "    1                      2            computer win\n",
    "    2                      0            computer win     (expection need seperate condition)\n",
    "    2                      1            user win\n",
    "    2                      2            draw\n",
    "    \n",
    "order of putting condition is imp ....\n",
    "\n",
    "HINT = whoever putting bigger no. is winning ....\n",
    "       use import random module for computer side .....\n",
    "       \n",
    "       radint(0,2) with every run computer will give no. between 0,1,2 ....every time different no. "
   ]
  },
  {
   "cell_type": "code",
   "execution_count": 5,
   "id": "b055da20",
   "metadata": {},
   "outputs": [
    {
     "name": "stdout",
     "output_type": "stream",
     "text": [
      " 0 = rock , 1 = paper,  2= scissor :  2\n",
      "computer : \n",
      "1\n",
      "you win\n"
     ]
    }
   ],
   "source": [
    "#  rock paper scissor\n",
    "\n",
    "import random\n",
    "\n",
    "user = int(input(\" 0 = rock , 1 = paper,  2= scissor :  \"))\n",
    "# imp\n",
    "if user >=3 or user<=-1:\n",
    "    print(\"you entered invalid number , you loss : \")\n",
    "\n",
    "else:\n",
    "    computer = random.randint(0,2)\n",
    "    print(\"computer : \")\n",
    "    print(computer)\n",
    "\n",
    "# now put condition \n",
    "\n",
    "    if computer == user:\n",
    "        print(\"draw\")\n",
    "    \n",
    "#  these two condition are expection (preference)\n",
    "    elif user ==0 and computer == 2:\n",
    "        print(\"you win\")\n",
    "    elif user ==2 and computer == 0 :\n",
    "        print(\"you loss\")    \n",
    "\n",
    "    elif computer >user :\n",
    "        print(\"you loss\")\n",
    "    elif user>computer :\n",
    "        print(\"you win\")\n",
    "   \n",
    "    "
   ]
  },
  {
   "cell_type": "code",
   "execution_count": null,
   "id": "cb607773",
   "metadata": {},
   "outputs": [],
   "source": []
  },
  {
   "cell_type": "markdown",
   "id": "8e5ae8dd",
   "metadata": {},
   "source": [
    "#  Multiple if statement "
   ]
  },
  {
   "cell_type": "code",
   "execution_count": 1,
   "id": "16926776",
   "metadata": {},
   "outputs": [
    {
     "name": "stdout",
     "output_type": "stream",
     "text": [
      "enter your height(feet) : 2\n",
      "enter your age :  13\n",
      "not allowed \n",
      "bye\n"
     ]
    }
   ],
   "source": [
    "height = float(input(\"enter your height(feet) : \"))\n",
    "age = int(input(\"enter your age :  \"))\n",
    "bill = 0\n",
    "#  in starting bill is zero.\n",
    "\n",
    "if height>=3 :\n",
    "    print(\"allowed for ride\")\n",
    "    if age <=12:\n",
    "        fees= 500\n",
    "        print(f\"Fees will be {fees}\")\n",
    "        \n",
    "    elif age <= 18:\n",
    "        fees=  1000\n",
    "        print(f\"Fees will be {fees} \")\n",
    "    else :\n",
    "        fees = 1500\n",
    "        print(f\"fees will be {fees} \")\n",
    "        \n",
    "        \n",
    "        want_photo = input(\" yes or no : \")\n",
    "        if want_photo == \"yes\" :\n",
    "            bill = fees + 50\n",
    "            print(f\" your bill will be {bill}\")\n",
    "        else:\n",
    "            bill = fees \n",
    "            print(f\" your bill will be {bill}\")\n",
    "else:\n",
    "    print(\"not allowed \")\n",
    "    \n",
    "print(\"bye\")\n",
    "    "
   ]
  },
  {
   "cell_type": "code",
   "execution_count": 1,
   "id": "a109cb32",
   "metadata": {},
   "outputs": [
    {
     "name": "stdout",
     "output_type": "stream",
     "text": [
      "pizza size S/M/L : m\n",
      "cost will be 200 for medium pizza \n",
      " WANT PEPPERONI  Y/N :y\n",
      " total bill will be  250\n",
      "ok for cheese or not for no cheese: ok\n",
      " total amount will be  270\n",
      "thank you\n"
     ]
    }
   ],
   "source": [
    "#  order  pizza\n",
    "\n",
    "\n",
    "pizza= input(\"pizza size S/M/L : \")\n",
    "\n",
    "bill=0\n",
    "\n",
    "total_amount = 0\n",
    "\n",
    "if pizza == \"s\" or pizza== 'S':\n",
    "    cost = 100\n",
    "    print(f\"coat will be {cost} for small pizza \")\n",
    "     \n",
    "elif pizza == \"m\"or pizza == \"M\":\n",
    "    cost = 200\n",
    "    print(f\"cost will be {cost} for medium pizza \")\n",
    "\n",
    "else:\n",
    "    cost = 300\n",
    "    print(f\"cost will be {cost} for large pizza \")\n",
    "    \n",
    "pepperoni =input(\" WANT PEPPERONI  Y/N :\")\n",
    "if pepperoni == \"y\" or pepperoni == \"Y\" :\n",
    "    if pizza == \"s\" or pizza ==\"s\":\n",
    "        bill= cost + 30\n",
    "        print(f\" total bill will be  {bill}\")\n",
    "    else:\n",
    "        bill = cost +50\n",
    "        print(f\" total bill will be  {bill}\")\n",
    "else:\n",
    "    bill = cost+0\n",
    "    print(f\" total bill will be  {bill}\")\n",
    "\n",
    "extracheese = input(\"ok for cheese or not for no cheese: \")\n",
    "if extracheese == \"ok\":\n",
    "    total_amount = bill+ 20\n",
    "    print(f\" total amount will be  {total_amount}\")\n",
    "else:\n",
    "    total_amount = bill\n",
    "    print(f\" total amount will be  {total_amount}\")\n",
    "    \n",
    "    \n",
    "\n",
    "\n",
    "print(\"thank you\")"
   ]
  },
  {
   "cell_type": "code",
   "execution_count": 4,
   "id": "05f55956",
   "metadata": {},
   "outputs": [
    {
     "data": {
      "text/plain": [
       "'anjana'"
      ]
     },
     "execution_count": 4,
     "metadata": {},
     "output_type": "execute_result"
    }
   ],
   "source": [
    "\"ANJANA\".lower()"
   ]
  },
  {
   "cell_type": "code",
   "execution_count": 5,
   "id": "7cb08feb",
   "metadata": {},
   "outputs": [
    {
     "data": {
      "text/plain": [
       "1"
      ]
     },
     "execution_count": 5,
     "metadata": {},
     "output_type": "execute_result"
    }
   ],
   "source": [
    "\"anjana\".count(\"j\")"
   ]
  },
  {
   "cell_type": "code",
   "execution_count": 7,
   "id": "8305eb28",
   "metadata": {},
   "outputs": [
    {
     "data": {
      "text/plain": [
       "3"
      ]
     },
     "execution_count": 7,
     "metadata": {},
     "output_type": "execute_result"
    }
   ],
   "source": [
    "\"anjana\".count(\"a\")"
   ]
  },
  {
   "cell_type": "code",
   "execution_count": 19,
   "id": "5fa66a49",
   "metadata": {},
   "outputs": [
    {
     "data": {
      "text/plain": [
       "8"
      ]
     },
     "execution_count": 19,
     "metadata": {},
     "output_type": "execute_result"
    }
   ],
   "source": [
    "a= \"anjana\"\n",
    "b=\"sanjana\"\n",
    "c= a+b\n",
    "c\n",
    "c.count(\"a\")+c.count(\"j\")"
   ]
  },
  {
   "cell_type": "code",
   "execution_count": null,
   "id": "296f5b56",
   "metadata": {},
   "outputs": [],
   "source": []
  }
 ],
 "metadata": {
  "kernelspec": {
   "display_name": "Python 3 (ipykernel)",
   "language": "python",
   "name": "python3"
  },
  "language_info": {
   "codemirror_mode": {
    "name": "ipython",
    "version": 3
   },
   "file_extension": ".py",
   "mimetype": "text/x-python",
   "name": "python",
   "nbconvert_exporter": "python",
   "pygments_lexer": "ipython3",
   "version": "3.11.3"
  }
 },
 "nbformat": 4,
 "nbformat_minor": 5
}
