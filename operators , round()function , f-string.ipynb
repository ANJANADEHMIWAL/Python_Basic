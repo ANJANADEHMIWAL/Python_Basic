{
 "cells": [
  {
   "cell_type": "markdown",
   "id": "2448bd97",
   "metadata": {},
   "source": [
    "             Arithmetic operator \n",
    "      "
   ]
  },
  {
   "cell_type": "code",
   "execution_count": 42,
   "id": "f5a8358f",
   "metadata": {},
   "outputs": [
    {
     "data": {
      "text/plain": [
       "2.0"
      ]
     },
     "execution_count": 42,
     "metadata": {},
     "output_type": "execute_result"
    }
   ],
   "source": [
    "4/2"
   ]
  },
  {
   "cell_type": "code",
   "execution_count": 41,
   "id": "5a624969",
   "metadata": {},
   "outputs": [
    {
     "data": {
      "text/plain": [
       "2.5"
      ]
     },
     "execution_count": 41,
     "metadata": {},
     "output_type": "execute_result"
    }
   ],
   "source": [
    "5/2"
   ]
  },
  {
   "cell_type": "code",
   "execution_count": 4,
   "id": "2c7ec8cb",
   "metadata": {},
   "outputs": [
    {
     "data": {
      "text/plain": [
       "2"
      ]
     },
     "execution_count": 4,
     "metadata": {},
     "output_type": "execute_result"
    }
   ],
   "source": [
    "5//2"
   ]
  },
  {
   "cell_type": "code",
   "execution_count": 5,
   "id": "e151e552",
   "metadata": {},
   "outputs": [
    {
     "data": {
      "text/plain": [
       "2"
      ]
     },
     "execution_count": 5,
     "metadata": {},
     "output_type": "execute_result"
    }
   ],
   "source": [
    "4//2"
   ]
  },
  {
   "cell_type": "code",
   "execution_count": 7,
   "id": "91cc77fb",
   "metadata": {},
   "outputs": [
    {
     "data": {
      "text/plain": [
       "6"
      ]
     },
     "execution_count": 7,
     "metadata": {},
     "output_type": "execute_result"
    }
   ],
   "source": [
    "2*3"
   ]
  },
  {
   "cell_type": "code",
   "execution_count": 8,
   "id": "7f30240c",
   "metadata": {},
   "outputs": [
    {
     "data": {
      "text/plain": [
       "8"
      ]
     },
     "execution_count": 8,
     "metadata": {},
     "output_type": "execute_result"
    }
   ],
   "source": [
    "2**3"
   ]
  },
  {
   "cell_type": "code",
   "execution_count": 10,
   "id": "85f6133d",
   "metadata": {},
   "outputs": [
    {
     "data": {
      "text/plain": [
       "11"
      ]
     },
     "execution_count": 10,
     "metadata": {},
     "output_type": "execute_result"
    }
   ],
   "source": [
    "5+2*3"
   ]
  },
  {
   "cell_type": "raw",
   "id": "bfad7e14",
   "metadata": {},
   "source": [
    "preference of arithmetic sign in operator\n",
    "\n",
    "()\n",
    "**\n",
    "* / // %\n",
    "+ - "
   ]
  },
  {
   "cell_type": "markdown",
   "id": "ddc0ff2b",
   "metadata": {},
   "source": [
    "                   ASSIGNMENT OPERATORS\n",
    "                   "
   ]
  },
  {
   "cell_type": "code",
   "execution_count": 11,
   "id": "7ee66e7a",
   "metadata": {},
   "outputs": [
    {
     "data": {
      "text/plain": [
       "8"
      ]
     },
     "execution_count": 11,
     "metadata": {},
     "output_type": "execute_result"
    }
   ],
   "source": [
    "a=5\n",
    "a=a+3\n",
    "a"
   ]
  },
  {
   "cell_type": "code",
   "execution_count": 12,
   "id": "d5fd37ac",
   "metadata": {},
   "outputs": [
    {
     "data": {
      "text/plain": [
       "8"
      ]
     },
     "execution_count": 12,
     "metadata": {},
     "output_type": "execute_result"
    }
   ],
   "source": [
    "# assignment operator\n",
    "a=5\n",
    "a+=3\n",
    "a"
   ]
  },
  {
   "cell_type": "code",
   "execution_count": 15,
   "id": "6945daf3",
   "metadata": {},
   "outputs": [
    {
     "data": {
      "text/plain": [
       "5.0"
      ]
     },
     "execution_count": 15,
     "metadata": {},
     "output_type": "execute_result"
    }
   ],
   "source": [
    "a= 10\n",
    "a/= 2\n",
    "a"
   ]
  },
  {
   "cell_type": "markdown",
   "id": "2f4f8c3c",
   "metadata": {},
   "source": [
    "comparision operator"
   ]
  },
  {
   "cell_type": "code",
   "execution_count": 14,
   "id": "c7c8523c",
   "metadata": {},
   "outputs": [],
   "source": [
    "# < ,> ,= , <= , >= , == , != "
   ]
  },
  {
   "cell_type": "code",
   "execution_count": 33,
   "id": "f6403b40",
   "metadata": {},
   "outputs": [
    {
     "name": "stdout",
     "output_type": "stream",
     "text": [
      "3\n",
      "5\n",
      "4\n"
     ]
    }
   ],
   "source": [
    "a,b,c= 3,5,4\n",
    "print(a)\n",
    "print(b)\n",
    "print(c)"
   ]
  },
  {
   "cell_type": "code",
   "execution_count": 35,
   "id": "5cc0f2f3",
   "metadata": {},
   "outputs": [
    {
     "name": "stdout",
     "output_type": "stream",
     "text": [
      "9\n"
     ]
    }
   ],
   "source": [
    "d= a+b\n",
    "\n",
    "a+=2\n",
    "\n",
    "c+=a\n",
    "\n",
    "print(c)"
   ]
  },
  {
   "cell_type": "code",
   "execution_count": 38,
   "id": "a9f57216",
   "metadata": {},
   "outputs": [
    {
     "name": "stdout",
     "output_type": "stream",
     "text": [
      "True\n",
      "False\n",
      "True\n",
      "False\n",
      "True\n"
     ]
    }
   ],
   "source": [
    "a= 5\n",
    "\n",
    "print(a==5)\n",
    "print(a!=5)\n",
    "print(a<6)\n",
    "print(a>7)\n",
    "\n",
    "\n",
    "print((a+1)>5)"
   ]
  },
  {
   "cell_type": "markdown",
   "id": "15a9949d",
   "metadata": {},
   "source": [
    "              logical operators "
   ]
  },
  {
   "cell_type": "code",
   "execution_count": 39,
   "id": "1b448795",
   "metadata": {},
   "outputs": [],
   "source": [
    "#  and   for true both condition need to be correct \n",
    "#  or    if one condition is true than alsoo it is true \n",
    "#  not   it reverse the result "
   ]
  },
  {
   "cell_type": "code",
   "execution_count": 43,
   "id": "0f91ed49",
   "metadata": {},
   "outputs": [
    {
     "name": "stdout",
     "output_type": "stream",
     "text": [
      "True\n"
     ]
    }
   ],
   "source": [
    "a,b = 2,4\n",
    "\n",
    "print(a==2 and b==4)"
   ]
  },
  {
   "cell_type": "code",
   "execution_count": 45,
   "id": "e3cdc6fe",
   "metadata": {},
   "outputs": [
    {
     "name": "stdout",
     "output_type": "stream",
     "text": [
      "False\n"
     ]
    }
   ],
   "source": [
    "a,b=  2, 4\n",
    "\n",
    "print(a==2 and b==3)"
   ]
  },
  {
   "cell_type": "code",
   "execution_count": 46,
   "id": "63a1e8df",
   "metadata": {},
   "outputs": [
    {
     "name": "stdout",
     "output_type": "stream",
     "text": [
      "True\n"
     ]
    }
   ],
   "source": [
    "a,b= 2,4 \n",
    "\n",
    "print(a==2 or b==4)"
   ]
  },
  {
   "cell_type": "code",
   "execution_count": 47,
   "id": "0ed00adc",
   "metadata": {},
   "outputs": [
    {
     "name": "stdout",
     "output_type": "stream",
     "text": [
      "True\n"
     ]
    }
   ],
   "source": [
    "a,b = 2,4\n",
    "\n",
    "print(a==2 or b==3)"
   ]
  },
  {
   "cell_type": "code",
   "execution_count": 49,
   "id": "92bac9b1",
   "metadata": {},
   "outputs": [
    {
     "name": "stdout",
     "output_type": "stream",
     "text": [
      "True\n",
      "False\n"
     ]
    }
   ],
   "source": [
    "a= 5\n",
    "\n",
    "print(a==5)\n",
    "\n",
    "print(not ( a==5))"
   ]
  },
  {
   "cell_type": "markdown",
   "id": "ff3dd1aa",
   "metadata": {},
   "source": [
    "              bitwise operator   "
   ]
  },
  {
   "cell_type": "code",
   "execution_count": 61,
   "id": "9a5f40a9",
   "metadata": {},
   "outputs": [],
   "source": [
    "#  &  and \n",
    "#  |  or\n",
    "#  ^  xor\n",
    "#  ~  not(complinant)    inverse the bit \n",
    "# <<  left shift \n",
    "#  >>  right shift \n"
   ]
  },
  {
   "cell_type": "code",
   "execution_count": 55,
   "id": "cb544a0a",
   "metadata": {},
   "outputs": [
    {
     "name": "stdout",
     "output_type": "stream",
     "text": [
      "4\n"
     ]
    }
   ],
   "source": [
    "a= 5\n",
    "b= 6\n",
    "print ( a & b) "
   ]
  },
  {
   "cell_type": "code",
   "execution_count": 56,
   "id": "2eb396d4",
   "metadata": {},
   "outputs": [
    {
     "name": "stdout",
     "output_type": "stream",
     "text": [
      "3\n"
     ]
    }
   ],
   "source": [
    "print( a ^ b)"
   ]
  },
  {
   "cell_type": "code",
   "execution_count": 57,
   "id": "867051b2",
   "metadata": {},
   "outputs": [
    {
     "name": "stdout",
     "output_type": "stream",
     "text": [
      "7\n"
     ]
    }
   ],
   "source": [
    "print(a|b)"
   ]
  },
  {
   "cell_type": "code",
   "execution_count": 60,
   "id": "d39d283d",
   "metadata": {},
   "outputs": [
    {
     "name": "stdout",
     "output_type": "stream",
     "text": [
      "-7\n"
     ]
    }
   ],
   "source": [
    "print(~b)"
   ]
  },
  {
   "cell_type": "markdown",
   "id": "bb75880d",
   "metadata": {},
   "source": [
    "           identity operator  "
   ]
  },
  {
   "cell_type": "code",
   "execution_count": 62,
   "id": "c924cd26",
   "metadata": {},
   "outputs": [],
   "source": [
    "#  is \n",
    "#  is not "
   ]
  },
  {
   "cell_type": "code",
   "execution_count": 70,
   "id": "8ce45d7c",
   "metadata": {},
   "outputs": [
    {
     "name": "stdout",
     "output_type": "stream",
     "text": [
      "True\n",
      "True\n"
     ]
    }
   ],
   "source": [
    "a= 5\n",
    "b= 5\n",
    "\n",
    "print(a is b)\n",
    "\n",
    "#  true because memory address(id) is same(identity operator).\n",
    "\n",
    "\n",
    "#  in this case value of a aand b is compare that is 5 ......(logical operator)\n",
    "print(a==b)"
   ]
  },
  {
   "cell_type": "code",
   "execution_count": 67,
   "id": "ef0cd802",
   "metadata": {},
   "outputs": [
    {
     "data": {
      "text/plain": [
       "140709659972520"
      ]
     },
     "execution_count": 67,
     "metadata": {},
     "output_type": "execute_result"
    }
   ],
   "source": [
    "id(a)"
   ]
  },
  {
   "cell_type": "code",
   "execution_count": 68,
   "id": "56202193",
   "metadata": {},
   "outputs": [
    {
     "data": {
      "text/plain": [
       "140709659972520"
      ]
     },
     "execution_count": 68,
     "metadata": {},
     "output_type": "execute_result"
    }
   ],
   "source": [
    "id(b)"
   ]
  },
  {
   "cell_type": "code",
   "execution_count": 82,
   "id": "c426fc8e",
   "metadata": {},
   "outputs": [
    {
     "name": "stdout",
     "output_type": "stream",
     "text": [
      "True\n"
     ]
    }
   ],
   "source": [
    "print(  (id(a)) == (id(b)) )"
   ]
  },
  {
   "cell_type": "code",
   "execution_count": 81,
   "id": "143b3150",
   "metadata": {},
   "outputs": [
    {
     "name": "stdout",
     "output_type": "stream",
     "text": [
      "False\n",
      "True\n",
      "False\n"
     ]
    }
   ],
   "source": [
    "c= \"5\"\n",
    "d=   5\n",
    "\n",
    "print(c is d)\n",
    "\n",
    "#  operator(identity operator ) giving false because aadress(id) is different as one is string and one is integer .\n",
    "\n",
    "\n",
    "\n",
    "#  is not  = reverse of is \n",
    "print(c is not d)\n",
    "\n",
    "\n",
    "\n",
    "print(  (id(c)) == (id(d)) )"
   ]
  },
  {
   "cell_type": "code",
   "execution_count": 79,
   "id": "b91b49f6",
   "metadata": {},
   "outputs": [
    {
     "data": {
      "text/plain": [
       "140709660015968"
      ]
     },
     "execution_count": 79,
     "metadata": {},
     "output_type": "execute_result"
    }
   ],
   "source": [
    "id(c)\n"
   ]
  },
  {
   "cell_type": "code",
   "execution_count": 80,
   "id": "42c5e76e",
   "metadata": {},
   "outputs": [
    {
     "data": {
      "text/plain": [
       "140709659972520"
      ]
     },
     "execution_count": 80,
     "metadata": {},
     "output_type": "execute_result"
    }
   ],
   "source": [
    "id(d)"
   ]
  },
  {
   "cell_type": "code",
   "execution_count": 87,
   "id": "d72ff723",
   "metadata": {},
   "outputs": [
    {
     "name": "stdout",
     "output_type": "stream",
     "text": [
      "True\n"
     ]
    }
   ],
   "source": [
    "a= 5\n",
    "\n",
    "a= 8\n",
    "\n",
    "\n",
    "print(a is a)"
   ]
  },
  {
   "cell_type": "raw",
   "id": "32c583b4",
   "metadata": {},
   "source": [
    "the variable a is first assigned the value 5 , but then it is reassigned to the value 8 . therefore, the second assignment a =8 change the value that a refer to . \n",
    "The expression a is a checks  if a is the same object as a , which is always true because it is the same variable . however , the value of a has change from 5 to 8 .So, the output will be true because it is comparing the same object , even though the value has changed ."
   ]
  },
  {
   "cell_type": "code",
   "execution_count": 88,
   "id": "b0de9670",
   "metadata": {},
   "outputs": [
    {
     "data": {
      "text/plain": [
       "140709659972616"
      ]
     },
     "execution_count": 88,
     "metadata": {},
     "output_type": "execute_result"
    }
   ],
   "source": [
    "id(a)"
   ]
  },
  {
   "cell_type": "markdown",
   "id": "c3a73e80",
   "metadata": {},
   "source": [
    "                           Membership operator "
   ]
  },
  {
   "cell_type": "code",
   "execution_count": 90,
   "id": "c6fd0f04",
   "metadata": {},
   "outputs": [],
   "source": [
    "#  in \n",
    "#  not in \n",
    "\n",
    "#  membership operator is used to check wheather a character in present in a string or a sequences ."
   ]
  },
  {
   "cell_type": "code",
   "execution_count": 96,
   "id": "5d53b2f1",
   "metadata": {},
   "outputs": [
    {
     "name": "stdout",
     "output_type": "stream",
     "text": [
      "True\n",
      "True\n"
     ]
    }
   ],
   "source": [
    "a= \" anjana\"\n",
    "\n",
    "print(\"j\"  in a )\n",
    "\n",
    "print(\"j\" in \"anjana\")"
   ]
  },
  {
   "cell_type": "code",
   "execution_count": 97,
   "id": "8f5dedb0",
   "metadata": {},
   "outputs": [
    {
     "name": "stdout",
     "output_type": "stream",
     "text": [
      "False\n"
     ]
    }
   ],
   "source": [
    "b= \"anjana\"\n",
    "\n",
    "print(\"A\" in b)"
   ]
  },
  {
   "cell_type": "code",
   "execution_count": 101,
   "id": "ad6ab656",
   "metadata": {},
   "outputs": [
    {
     "name": "stdout",
     "output_type": "stream",
     "text": [
      "False\n",
      "True\n"
     ]
    }
   ],
   "source": [
    "c =\"papa\"\n",
    "\n",
    "print(\"p\" not in c)\n",
    "\n",
    "print(\"p\" in c)"
   ]
  },
  {
   "cell_type": "code",
   "execution_count": 104,
   "id": "80e2a05c",
   "metadata": {},
   "outputs": [
    {
     "name": "stdout",
     "output_type": "stream",
     "text": [
      "True\n",
      "False\n"
     ]
    }
   ],
   "source": [
    "l= [1,2,7,10]\n",
    "print(10 in l )\n",
    "\n",
    "print(10 not in l)"
   ]
  },
  {
   "cell_type": "code",
   "execution_count": 110,
   "id": "9ce4f891",
   "metadata": {},
   "outputs": [
    {
     "name": "stdout",
     "output_type": "stream",
     "text": [
      "True\n",
      "True\n",
      "True\n"
     ]
    }
   ],
   "source": [
    "a= \"anjana\"\n",
    "\n",
    "print(\"anj\" in \"anjana\")\n",
    "\n",
    "print(\"anj\" in a)\n",
    "\n",
    "print(\"anjana\" in \"anjana\")"
   ]
  },
  {
   "cell_type": "code",
   "execution_count": 4,
   "id": "4c0b9387",
   "metadata": {},
   "outputs": [
    {
     "name": "stdout",
     "output_type": "stream",
     "text": [
      "enter weight in kg  : 20\n",
      "enter height in meter : 59.3\n",
      "bmi is :   0.00568748951369121\n"
     ]
    }
   ],
   "source": [
    "weight = float(input(\"enter weight in kg  : \"))\n",
    "height = float(input(\"enter height in meter : \"))\n",
    "\n",
    "bmi = weight / height**2\n",
    "\n",
    "print(\"bmi is :  \", bmi)"
   ]
  },
  {
   "cell_type": "markdown",
   "id": "24b74b83",
   "metadata": {},
   "source": [
    "                round()  function  "
   ]
  },
  {
   "cell_type": "code",
   "execution_count": 6,
   "id": "78d54b43",
   "metadata": {},
   "outputs": [
    {
     "data": {
      "text/plain": [
       "21.33"
      ]
     },
     "execution_count": 6,
     "metadata": {},
     "output_type": "execute_result"
    }
   ],
   "source": [
    "round(21.33456732, 2)"
   ]
  },
  {
   "cell_type": "code",
   "execution_count": 7,
   "id": "6293c1ca",
   "metadata": {},
   "outputs": [
    {
     "data": {
      "text/plain": [
       "678.3"
      ]
     },
     "execution_count": 7,
     "metadata": {},
     "output_type": "execute_result"
    }
   ],
   "source": [
    "round(678.345,1)"
   ]
  },
  {
   "cell_type": "code",
   "execution_count": 9,
   "id": "f84d0064",
   "metadata": {},
   "outputs": [
    {
     "data": {
      "text/plain": [
       "7"
      ]
     },
     "execution_count": 9,
     "metadata": {},
     "output_type": "execute_result"
    }
   ],
   "source": [
    "round(6.7)"
   ]
  },
  {
   "cell_type": "code",
   "execution_count": 10,
   "id": "f074c8ec",
   "metadata": {},
   "outputs": [
    {
     "data": {
      "text/plain": [
       "6"
      ]
     },
     "execution_count": 10,
     "metadata": {},
     "output_type": "execute_result"
    }
   ],
   "source": [
    "round(6.5)"
   ]
  },
  {
   "cell_type": "code",
   "execution_count": 15,
   "id": "b5fc3725",
   "metadata": {},
   "outputs": [
    {
     "data": {
      "text/plain": [
       "6"
      ]
     },
     "execution_count": 15,
     "metadata": {},
     "output_type": "execute_result"
    }
   ],
   "source": [
    "round(6.4)\n",
    "\n",
    "# possibility is of 6 or 7 ...preference will be given to the closest even no. to the 6.4"
   ]
  },
  {
   "cell_type": "code",
   "execution_count": 16,
   "id": "72de4921",
   "metadata": {},
   "outputs": [
    {
     "data": {
      "text/plain": [
       "12"
      ]
     },
     "execution_count": 16,
     "metadata": {},
     "output_type": "execute_result"
    }
   ],
   "source": [
    "round(11.5)\n",
    "\n",
    "\n",
    "# possibility is of 12 or 11 ...preference will be given to the closest even no. to the 11.5  "
   ]
  },
  {
   "cell_type": "code",
   "execution_count": 17,
   "id": "b1990f6d",
   "metadata": {},
   "outputs": [
    {
     "data": {
      "text/plain": [
       "12"
      ]
     },
     "execution_count": 17,
     "metadata": {},
     "output_type": "execute_result"
    }
   ],
   "source": [
    "round(12.5)\n",
    "\n",
    "# possibility is of 12 or 11 ...preference will be given to the closest even no. to the 12.5  "
   ]
  },
  {
   "cell_type": "code",
   "execution_count": 18,
   "id": "7a73f07b",
   "metadata": {},
   "outputs": [
    {
     "data": {
      "text/plain": [
       "654"
      ]
     },
     "execution_count": 18,
     "metadata": {},
     "output_type": "execute_result"
    }
   ],
   "source": [
    "round(654,2)"
   ]
  },
  {
   "cell_type": "code",
   "execution_count": 19,
   "id": "ea0b4c19",
   "metadata": {},
   "outputs": [
    {
     "data": {
      "text/plain": [
       "600"
      ]
     },
     "execution_count": 19,
     "metadata": {},
     "output_type": "execute_result"
    }
   ],
   "source": [
    "round(632,-2)\n",
    "\n",
    "# "
   ]
  },
  {
   "cell_type": "code",
   "execution_count": 20,
   "id": "7e5aeaf1",
   "metadata": {},
   "outputs": [
    {
     "data": {
      "text/plain": [
       "630"
      ]
     },
     "execution_count": 20,
     "metadata": {},
     "output_type": "execute_result"
    }
   ],
   "source": [
    "round(632,-1)"
   ]
  },
  {
   "cell_type": "code",
   "execution_count": 21,
   "id": "99921e93",
   "metadata": {},
   "outputs": [
    {
     "data": {
      "text/plain": [
       "680"
      ]
     },
     "execution_count": 21,
     "metadata": {},
     "output_type": "execute_result"
    }
   ],
   "source": [
    "round(678,-1)"
   ]
  },
  {
   "cell_type": "code",
   "execution_count": 22,
   "id": "1c350fd6",
   "metadata": {},
   "outputs": [
    {
     "data": {
      "text/plain": [
       "700"
      ]
     },
     "execution_count": 22,
     "metadata": {},
     "output_type": "execute_result"
    }
   ],
   "source": [
    "round(678,-2)"
   ]
  },
  {
   "cell_type": "code",
   "execution_count": 24,
   "id": "fa201323",
   "metadata": {},
   "outputs": [
    {
     "data": {
      "text/plain": [
       "660"
      ]
     },
     "execution_count": 24,
     "metadata": {},
     "output_type": "execute_result"
    }
   ],
   "source": [
    "round(665,-1)"
   ]
  },
  {
   "cell_type": "code",
   "execution_count": 25,
   "id": "32b9b387",
   "metadata": {},
   "outputs": [
    {
     "data": {
      "text/plain": [
       "680"
      ]
     },
     "execution_count": 25,
     "metadata": {},
     "output_type": "execute_result"
    }
   ],
   "source": [
    "round(675,-1)"
   ]
  },
  {
   "cell_type": "code",
   "execution_count": 28,
   "id": "f696b0f9",
   "metadata": {},
   "outputs": [
    {
     "data": {
      "text/plain": [
       "34.5"
      ]
     },
     "execution_count": 28,
     "metadata": {},
     "output_type": "execute_result"
    }
   ],
   "source": [
    "round(34.53,1)"
   ]
  },
  {
   "cell_type": "code",
   "execution_count": 29,
   "id": "fa6bc88b",
   "metadata": {},
   "outputs": [
    {
     "data": {
      "text/plain": [
       "30.0"
      ]
     },
     "execution_count": 29,
     "metadata": {},
     "output_type": "execute_result"
    }
   ],
   "source": [
    "round(34.53,-1)"
   ]
  },
  {
   "cell_type": "code",
   "execution_count": 30,
   "id": "cc43ef4d",
   "metadata": {},
   "outputs": [
    {
     "data": {
      "text/plain": [
       "350.0"
      ]
     },
     "execution_count": 30,
     "metadata": {},
     "output_type": "execute_result"
    }
   ],
   "source": [
    "round(345.54,-1)"
   ]
  },
  {
   "cell_type": "code",
   "execution_count": 31,
   "id": "b6d94a72",
   "metadata": {},
   "outputs": [
    {
     "data": {
      "text/plain": [
       "1200"
      ]
     },
     "execution_count": 31,
     "metadata": {},
     "output_type": "execute_result"
    }
   ],
   "source": [
    "round(1212,-2)"
   ]
  },
  {
   "cell_type": "markdown",
   "id": "d9b07f60",
   "metadata": {},
   "source": [
    "# f- strings"
   ]
  },
  {
   "cell_type": "code",
   "execution_count": 52,
   "id": "bb3ed98a",
   "metadata": {},
   "outputs": [
    {
     "name": "stdout",
     "output_type": "stream",
     "text": [
      "My name is  anjana ,  I am  20 years old and my height is  1.6 meter .\n",
      "My name is anjana ,  I am 20 years old and my height is 1.6 meter .\n",
      " My  name is anjana. I am 20 year old . My height is 1.6 meter \n",
      " Anjana's father age is 50\n",
      "anjana's another name is anjana dehmiwal\n",
      "anjana's another name is False\n"
     ]
    }
   ],
   "source": [
    "name= \"anjana\"\n",
    "age = 20\n",
    "height =1.6\n",
    "\n",
    "print(\"My name is \", name , \",  I am \", age, \"years old and my height is \" , height , \"meter .\")\n",
    "\n",
    "\n",
    "#  when we use + for concetination all should be in one data type either int or str ..if not then we need to convert .\n",
    "print(\"My name is \" + name , \",  I am \" +str(age), \"years old and my height is \"  + str(height) , \"meter .\")\n",
    "\n",
    "\n",
    "#  using f- string\n",
    "print(f\" My  name is {name}. I am {age} year old . My height is {height} meter \")\n",
    "\n",
    "\n",
    "print(f\" Anjana's father age is {age+30}\")\n",
    "\n",
    "\n",
    "print(f\"anjana's another name is {name +' dehmiwal'}\")\n",
    "\n",
    "print(f\"anjana's another name is {name =='anjana dehmiwal'}\")\n",
    "\n",
    "\n"
   ]
  },
  {
   "cell_type": "code",
   "execution_count": 60,
   "id": "3eee08ab",
   "metadata": {},
   "outputs": [
    {
     "name": "stdout",
     "output_type": "stream",
     "text": [
      "enter your age : 20\n",
      " My age is 20 . I am left with 70 years or 3640 weeks or 840 months or 25480 days \n"
     ]
    }
   ],
   "source": [
    "a = int(input(\"enter your age : \" ))\n",
    "\n",
    "years = 90 -  a \n",
    "week_in_oneyear = 52\n",
    "days_in_oneyear = 364\n",
    "month_in_oneyear =12 \n",
    "\n",
    "\n",
    "print(f\" My age is {a} . I am left with {years} years or {years*week_in_oneyear} weeks or {years * month_in_oneyear } months or {years * days_in_oneyear} days \")"
   ]
  },
  {
   "cell_type": "code",
   "execution_count": null,
   "id": "c30f352a",
   "metadata": {},
   "outputs": [],
   "source": []
  }
 ],
 "metadata": {
  "kernelspec": {
   "display_name": "Python 3 (ipykernel)",
   "language": "python",
   "name": "python3"
  },
  "language_info": {
   "codemirror_mode": {
    "name": "ipython",
    "version": 3
   },
   "file_extension": ".py",
   "mimetype": "text/x-python",
   "name": "python",
   "nbconvert_exporter": "python",
   "pygments_lexer": "ipython3",
   "version": "3.11.3"
  }
 },
 "nbformat": 4,
 "nbformat_minor": 5
}
