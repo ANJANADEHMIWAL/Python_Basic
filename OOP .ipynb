{
 "cells": [
  {
   "cell_type": "markdown",
   "id": "1fe46fa2",
   "metadata": {},
   "source": [
    "#  OOP : Object Oriented Programming ."
   ]
  },
  {
   "cell_type": "code",
   "execution_count": 1,
   "id": "bb6f7cd8",
   "metadata": {},
   "outputs": [
    {
     "name": "stdout",
     "output_type": "stream",
     "text": [
      "<class 'int'>\n"
     ]
    }
   ],
   "source": [
    "a = 1\n",
    "print(type(a))\n",
    "# class is str ."
   ]
  },
  {
   "cell_type": "code",
   "execution_count": 2,
   "id": "96b5e53b",
   "metadata": {},
   "outputs": [
    {
     "name": "stdout",
     "output_type": "stream",
     "text": [
      "<class 'str'>\n"
     ]
    }
   ],
   "source": [
    "a = 1\n",
    "print(type(\"hello\"))"
   ]
  },
  {
   "cell_type": "code",
   "execution_count": 3,
   "id": "cf90fede",
   "metadata": {},
   "outputs": [
    {
     "name": "stdout",
     "output_type": "stream",
     "text": [
      "<class 'function'>\n"
     ]
    }
   ],
   "source": [
    "def display():\n",
    "    pass\n",
    "print(type(display))"
   ]
  },
  {
   "cell_type": "code",
   "execution_count": 5,
   "id": "8f65d236",
   "metadata": {},
   "outputs": [],
   "source": [
    "# wheather, it is int,str,or function etc all these are object of a particular class in python .\n",
    "# int , str , float , bullion etc all are data type."
   ]
  },
  {
   "cell_type": "code",
   "execution_count": 12,
   "id": "68cff1c4",
   "metadata": {},
   "outputs": [
    {
     "name": "stdout",
     "output_type": "stream",
     "text": [
      "<class '__main__.Instructor'>\n"
     ]
    }
   ],
   "source": [
    "class Instructor:\n",
    "    pass\n",
    "instructor_1 = Instructor()\n",
    "print(type(instructor_1))\n",
    "\n",
    "# now we have created our own data type ...i.e Instructor.\n",
    "# class is user define data type ...."
   ]
  },
  {
   "cell_type": "code",
   "execution_count": 16,
   "id": "68d1eaa7",
   "metadata": {},
   "outputs": [
    {
     "name": "stdout",
     "output_type": "stream",
     "text": [
      "anjana\n",
      "sanjana\n"
     ]
    }
   ],
   "source": [
    "class Instructor:\n",
    "    pass\n",
    "# no use of class here ..\n",
    "\n",
    "instructor_1 = Instructor()\n",
    "\n",
    "instructor_1.name = \"anjana\"\n",
    "instructor_1.address =  \"haryana\"\n",
    "print(instructor_1.name)\n",
    "\n",
    "instructor_2 = Instructor()\n",
    "\n",
    "instructor_2.name = \"sanjana\"\n",
    "instructor_2.address =  \"HARYANA\"\n",
    "print(instructor_2.name)"
   ]
  },
  {
   "cell_type": "raw",
   "id": "1f0775fe",
   "metadata": {},
   "source": [
    "class = car than honda , tesla are object .\n",
    "\n",
    "CLASS HAS ATTRIBUTE AND METHOD\n",
    "ATRIBUTE - what object has .(given variable)(i.e self , __init__)\n",
    "METHOD - what object does .(given in function form)\n"
   ]
  },
  {
   "cell_type": "code",
   "execution_count": 36,
   "id": "ac260eb8",
   "metadata": {},
   "outputs": [
    {
     "name": "stdout",
     "output_type": "stream",
     "text": [
      "anjana\n",
      "sanjana\n"
     ]
    }
   ],
   "source": [
    "class Instructor:\n",
    "    def __init__(self , name , address ):\n",
    "        self.name =  name\n",
    "        self.address = address\n",
    "\n",
    "instructor_1 = Instructor(\"anjana\" ,\"haryana\")\n",
    "\n",
    "print(instructor_1.name)\n",
    "\n",
    "instructor_2 = Instructor(\"sanjana\" , \"HARYANA\")\n",
    "\n",
    "print(instructor_2.name) "
   ]
  },
  {
   "cell_type": "code",
   "execution_count": 43,
   "id": "1a4f2f83",
   "metadata": {},
   "outputs": [
    {
     "name": "stdout",
     "output_type": "stream",
     "text": [
      "anjana\n",
      "0\n",
      "HARYANA\n",
      "0\n"
     ]
    }
   ],
   "source": [
    "class Instructor:\n",
    "    followeres = 0\n",
    "# this is (followeres) class object variable.\n",
    "    def __init__(self , name , address ):\n",
    "        self.name =  name\n",
    "        self.address = address\n",
    "\n",
    "instructor_1 = Instructor(\"anjana\" ,\"haryana\")\n",
    "print(instructor_1.name)\n",
    "print(instructor_1.followeres)\n",
    "\n",
    "instructor_2 = Instructor(\"sanjana\" , \"HARYANA\")\n",
    "print(instructor_2.address)\n",
    "print(instructor_2.followeres)"
   ]
  },
  {
   "cell_type": "code",
   "execution_count": 47,
   "id": "970bd494",
   "metadata": {},
   "outputs": [
    {
     "name": "stdout",
     "output_type": "stream",
     "text": [
      "anjana\n",
      "hello\n",
      "HARYANA\n",
      "hello\n"
     ]
    }
   ],
   "source": [
    "class Instructor:\n",
    " \n",
    "    def __init__(self , name , address ):\n",
    "        self.name =  name\n",
    "        self.address = address\n",
    "    def display(self):\n",
    "        print(\"hello\")\n",
    "\n",
    "instructor_1 = Instructor(\"anjana\" ,\"haryana\")\n",
    "print(instructor_1.name)\n",
    "instructor_1.display()\n",
    "\n",
    "instructor_2 = Instructor(\"sanjana\" , \"HARYANA\")\n",
    "print(instructor_2.address)\n",
    "instructor_2.display()"
   ]
  },
  {
   "cell_type": "code",
   "execution_count": 66,
   "id": "15933aca",
   "metadata": {},
   "outputs": [
    {
     "name": "stdout",
     "output_type": "stream",
     "text": [
      "anjana\n",
      "Hi, I am anjana\n"
     ]
    }
   ],
   "source": [
    "class Intro():\n",
    "    def __init__(self,name,address):\n",
    "        self.name = name\n",
    "        self.address = address\n",
    "    def teacher(self):\n",
    "        print(f\"Hi, I am {self.name}\")\n",
    "\n",
    "person_1 = Intro('anjana' , 20 )\n",
    "print(person_1.name)\n",
    "person_1.teacher()"
   ]
  },
  {
   "cell_type": "code",
   "execution_count": 76,
   "id": "f5c1579b",
   "metadata": {},
   "outputs": [
    {
     "name": "stdout",
     "output_type": "stream",
     "text": [
      "anjana\n",
      "sanjana\n"
     ]
    }
   ],
   "source": [
    "class Intro():\n",
    "    def __init__(self,name,address):\n",
    "        self.name = name\n",
    "        self.address = address\n",
    "    def teacher(self):\n",
    "        print(f\"Hi, I am {self.name} and i teach {subject} \")\n",
    "    def teacher_1(self):\n",
    "        print(f\"i am {self.name} and i teach {subject}\")\n",
    "\n",
    "ok = Intro(\"anjana\" , 20)\n",
    "ok_1 =Intro(\"sanjana\" , 20)\n",
    "\n",
    "print(ok.name)\n",
    "print(ok_1.name)"
   ]
  },
  {
   "cell_type": "code",
   "execution_count": 84,
   "id": "64ca4678",
   "metadata": {},
   "outputs": [
    {
     "name": "stdout",
     "output_type": "stream",
     "text": [
      "120\n",
      "-80\n"
     ]
    }
   ],
   "source": [
    "class calculate():\n",
    "    def __init__(self,a,b):\n",
    "        self.a = a\n",
    "        self.b = b\n",
    "        \n",
    "    def add_1(self):\n",
    "        return self.a+self.b\n",
    "        \n",
    "    def sub_1(self):\n",
    "        return self.a - self.b\n",
    "    \n",
    "    def div_1(self):\n",
    "        return self.a/self.b\n",
    "        \n",
    "        \n",
    "cal = calculate(20,100)\n",
    "print(cal.add_1())\n",
    "print(cal.sub_1())"
   ]
  },
  {
   "cell_type": "code",
   "execution_count": 88,
   "id": "a559168e",
   "metadata": {},
   "outputs": [
    {
     "name": "stdout",
     "output_type": "stream",
     "text": [
      "enter no. :  20\n",
      " enter no.  : 100\n",
      "120\n",
      "-80\n"
     ]
    }
   ],
   "source": [
    "class calculate():\n",
    "    def __init__(self,a,b):\n",
    "        self.a = a\n",
    "        self.b = b\n",
    "        \n",
    "    def add_1(self):\n",
    "        return self.a+self.b\n",
    "        \n",
    "    def sub_1(self):\n",
    "        return self.a - self.b\n",
    "    \n",
    "    def div_1(self):\n",
    "        return self.a/self.b\n",
    "    \n",
    "a = int(input( \"enter no. :  \"))\n",
    "b = int(input(\" enter no.  : \"))\n",
    "\n",
    "cal = calculate(a,b)\n",
    "print(cal.add_1())\n",
    "print(cal.sub_1())    "
   ]
  },
  {
   "cell_type": "code",
   "execution_count": 104,
   "id": "5019a039",
   "metadata": {},
   "outputs": [
    {
     "name": "stdout",
     "output_type": "stream",
     "text": [
      "enter radius : 20\n",
      "1256.0\n",
      "125.60000000000001\n"
     ]
    }
   ],
   "source": [
    "class Circle():\n",
    "    pi = 3.14\n",
    "    def __init__(self,radius):\n",
    "        self.r = radius\n",
    "    def Circle_area(self):\n",
    "        return  self.pi * self.r* self.r\n",
    "    def Circle_perimeter(self):\n",
    "        return  2* Circle.pi *self.r\n",
    "\n",
    "# we can use self.r or Circle.r (Circle is class name)\n",
    "r = int(input(\"enter radius : \"))\n",
    "\n",
    "work = Circle(r)\n",
    "print(work.Circle_area())\n",
    "print(work.Circle_perimeter())"
   ]
  },
  {
   "cell_type": "code",
   "execution_count": 108,
   "id": "65c456ab",
   "metadata": {},
   "outputs": [
    {
     "name": "stdout",
     "output_type": "stream",
     "text": [
      "enter radius : 20\n",
      "1256.0\n",
      "125.60000000000001\n",
      "enter radius : 30\n",
      "2826.0\n",
      "188.4\n"
     ]
    }
   ],
   "source": [
    "class Circle():\n",
    "    pi = 3.14\n",
    "    def __init__(self,radius):\n",
    "        self.r = radius\n",
    "    def Circle_area(self):\n",
    "        return  self.pi * self.r * self.r\n",
    "    def Circle_perimeter(self):\n",
    "        return  2* Circle.pi *self.r\n",
    "\n",
    "# we can use self.r or Circle.r (Circle is class name)\n",
    "r = int(input(\"enter radius : \"))\n",
    "\n",
    "work1 = Circle(r)\n",
    "print(work1.Circle_area())\n",
    "print(work1.Circle_perimeter())\n",
    "\n",
    "r = int(input(\"enter radius : \"))\n",
    "work2 = Circle(r)\n",
    "print(work2.Circle_area())\n",
    "print(work2.Circle_perimeter())"
   ]
  },
  {
   "cell_type": "markdown",
   "id": "656ef4bd",
   "metadata": {},
   "source": [
    "#    INHERITANCE"
   ]
  },
  {
   "cell_type": "raw",
   "id": "47521089",
   "metadata": {},
   "source": [
    "reusing of class again..."
   ]
  },
  {
   "cell_type": "code",
   "execution_count": 113,
   "id": "80a77a6b",
   "metadata": {},
   "outputs": [
    {
     "name": "stdout",
     "output_type": "stream",
     "text": [
      "i can eat\n"
     ]
    }
   ],
   "source": [
    "# this iis not inheritance..\n",
    "\n",
    "class human():\n",
    "    def eat(self):\n",
    "        print(\"i can eat\")\n",
    "    def work (self):\n",
    "        print(\"i can work\")\n",
    "\n",
    "class male():\n",
    "    def eat(self):\n",
    "        print(\"i can eat\")\n",
    "    def work(self):\n",
    "        print(\"i can work\")\n",
    "        \n",
    "male_1 = male()\n",
    "male_1.eat()"
   ]
  },
  {
   "cell_type": "code",
   "execution_count": 114,
   "id": "3fab9969",
   "metadata": {},
   "outputs": [
    {
     "name": "stdout",
     "output_type": "stream",
     "text": [
      "i can eat\n"
     ]
    }
   ],
   "source": [
    "#  this is inheritance\n",
    "class human():\n",
    "    def eat(self):\n",
    "        print(\"i can eat\")\n",
    "    def work (self):\n",
    "        print(\"i can work\")\n",
    "class male(human):\n",
    "    pass\n",
    "        \n",
    "male_1 = male()\n",
    "male_1.eat()"
   ]
  },
  {
   "cell_type": "code",
   "execution_count": 117,
   "id": "3d0f636c",
   "metadata": {},
   "outputs": [
    {
     "name": "stdout",
     "output_type": "stream",
     "text": [
      "i can eat\n",
      "i can't cook \n",
      "i can code \n"
     ]
    }
   ],
   "source": [
    "class human():\n",
    "    def eat(self):\n",
    "        print(\"i can eat\")\n",
    "    def work (self):\n",
    "        print(\"i can work\")\n",
    "class male(human):\n",
    "    def cook(self):\n",
    "        print(\"i can't cook \")\n",
    "    def work(self):\n",
    "        print(\"i can code \")\n",
    "        \n",
    "male_1 = male()\n",
    "male_1.eat()\n",
    "male_1.cook()\n",
    "male_1.work()"
   ]
  },
  {
   "cell_type": "code",
   "execution_count": null,
   "id": "1be361f9",
   "metadata": {},
   "outputs": [],
   "source": []
  },
  {
   "cell_type": "code",
   "execution_count": null,
   "id": "de2ead9a",
   "metadata": {},
   "outputs": [],
   "source": []
  },
  {
   "cell_type": "code",
   "execution_count": null,
   "id": "0f614e8c",
   "metadata": {},
   "outputs": [],
   "source": []
  }
 ],
 "metadata": {
  "kernelspec": {
   "display_name": "Python 3 (ipykernel)",
   "language": "python",
   "name": "python3"
  },
  "language_info": {
   "codemirror_mode": {
    "name": "ipython",
    "version": 3
   },
   "file_extension": ".py",
   "mimetype": "text/x-python",
   "name": "python",
   "nbconvert_exporter": "python",
   "pygments_lexer": "ipython3",
   "version": "3.11.3"
  }
 },
 "nbformat": 4,
 "nbformat_minor": 5
}
