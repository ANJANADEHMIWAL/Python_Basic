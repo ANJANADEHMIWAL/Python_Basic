{
 "cells": [
  {
   "cell_type": "code",
   "execution_count": 2,
   "id": "ab6b2b19",
   "metadata": {},
   "outputs": [
    {
     "name": "stdout",
     "output_type": "stream",
     "text": [
      "hello\n",
      "I am Anjana\n"
     ]
    }
   ],
   "source": [
    "print(\"hello\")\n",
    "print(\"I am Anjana\")"
   ]
  },
  {
   "cell_type": "markdown",
   "id": "0a6e78eb",
   "metadata": {},
   "source": [
    "# FUNCTIONS"
   ]
  },
  {
   "cell_type": "code",
   "execution_count": 8,
   "id": "fd73f565",
   "metadata": {},
   "outputs": [
    {
     "name": "stdout",
     "output_type": "stream",
     "text": [
      "hello\n",
      "I am Anjana\n"
     ]
    }
   ],
   "source": [
    "# this is the use of function..to make programming easy you don't have to print again and again just define (def) function...\n",
    "# during programming we have to define the function....\n",
    "\n",
    "def introduction():\n",
    "    print(\"hello\")\n",
    "    print(\"I am Anjana\")\n",
    "    \n",
    "introduction()"
   ]
  },
  {
   "cell_type": "raw",
   "id": "aeae5e5e",
   "metadata": {},
   "source": [
    "There are two types of function\n",
    "1- built in function (alreaady define in python)\n",
    "  eg = len() ,max() etc\n",
    "\n",
    "2- user define function  (define by user at the time of coding)\n",
    "   eg = introduction()"
   ]
  },
  {
   "cell_type": "code",
   "execution_count": 9,
   "id": "2907602f",
   "metadata": {},
   "outputs": [
    {
     "name": "stdout",
     "output_type": "stream",
     "text": [
      "0\n",
      "1\n",
      "2\n",
      "3\n"
     ]
    }
   ],
   "source": [
    "for i in range(4):\n",
    "    print(i)"
   ]
  },
  {
   "cell_type": "code",
   "execution_count": 5,
   "id": "d508d69a",
   "metadata": {},
   "outputs": [
    {
     "name": "stdout",
     "output_type": "stream",
     "text": [
      " hi anjana\n",
      "are you from cs department\n"
     ]
    }
   ],
   "source": [
    "def greet(name):\n",
    "    print(f\" hi {name}\")\n",
    "    print(\"are you from cs department\")\n",
    "          \n",
    "greet(\"anjana\")"
   ]
  },
  {
   "cell_type": "code",
   "execution_count": 6,
   "id": "f67c4fa4",
   "metadata": {},
   "outputs": [
    {
     "name": "stdout",
     "output_type": "stream",
     "text": [
      " hi anjana\n",
      "are you from cs department\n",
      " hi sanjana\n",
      "are you from cs department\n"
     ]
    }
   ],
   "source": [
    "def greet(name):\n",
    "    print(f\" hi {name}\")\n",
    "    print(\"are you from cs department\")\n",
    "          \n",
    "greet(\"anjana\")\n",
    "greet(\"sanjana\")"
   ]
  },
  {
   "cell_type": "raw",
   "id": "f85a51db",
   "metadata": {},
   "source": [
    "syntax of function-\n",
    "\n",
    "\n",
    "def function(parameter):\n",
    "    function body \n",
    "    return expression\n",
    "   \n",
    "funtion(argument)\n",
    "\n",
    "\n",
    "parameter (or formal parameter) = variable which hold value ...\n",
    "argument = actual parameter...(value of parameter)\n"
   ]
  },
  {
   "cell_type": "code",
   "execution_count": 14,
   "id": "efc698f2",
   "metadata": {},
   "outputs": [
    {
     "name": "stdout",
     "output_type": "stream",
     "text": [
      "8\n",
      "17\n"
     ]
    }
   ],
   "source": [
    "def add(a,b):\n",
    "    print(a+b)\n",
    "add(3,5)\n",
    "add(8,9)"
   ]
  },
  {
   "cell_type": "raw",
   "id": "fab3f86f",
   "metadata": {},
   "source": [
    "types of argumments\n",
    "1- default\n",
    "2- positional\n",
    "3- keyward\n",
    "4- arbitrary/variable length\n",
    "\n",
    "arbitary are of two types\n",
    "1- arbitrary positional argument\n",
    "2- arbitrary keyward argument "
   ]
  },
  {
   "cell_type": "markdown",
   "id": "55cc0b39",
   "metadata": {},
   "source": [
    "POSITIONAL ARGUMENT"
   ]
  },
  {
   "cell_type": "code",
   "execution_count": 18,
   "id": "d4ba1b11",
   "metadata": {},
   "outputs": [
    {
     "name": "stdout",
     "output_type": "stream",
     "text": [
      "hi anjana\n",
      "Are you from CS department\n"
     ]
    }
   ],
   "source": [
    "def greet(name, dept):\n",
    "    print(f\"hi {name}\")\n",
    "    print(f\"Are you from {dept} department\")\n",
    "    \n",
    "greet(\"anjana\" , \"CS\")\n",
    "# positional argument...\n",
    "#  here anjana and cs is positional argument as we have to write a/c to the print order first name and than department....."
   ]
  },
  {
   "cell_type": "markdown",
   "id": "c5f62b95",
   "metadata": {},
   "source": [
    "KEYWARD ARGUMENT "
   ]
  },
  {
   "cell_type": "code",
   "execution_count": 23,
   "id": "576b1d9d",
   "metadata": {},
   "outputs": [
    {
     "name": "stdout",
     "output_type": "stream",
     "text": [
      "hi anjana\n",
      "Are you from CS department\n"
     ]
    }
   ],
   "source": [
    "def greet(name, dept):\n",
    "    print(f\"hi {name}\")\n",
    "    print(f\"Are you from {dept} department\")\n",
    "    \n",
    "greet( name=\"anjana\", dept= \"CS\")\n",
    "# keyward argument \n",
    "# here order does not matter as we are using keyward(parameter)..."
   ]
  },
  {
   "cell_type": "code",
   "execution_count": 22,
   "id": "8d2e94fd",
   "metadata": {},
   "outputs": [
    {
     "name": "stdout",
     "output_type": "stream",
     "text": [
      "hi anjana\n",
      "Are you from CS department\n"
     ]
    }
   ],
   "source": [
    "def greet(name, dept):\n",
    "    print(f\"hi {name}\")\n",
    "    print(f\"Are you from {dept} department\")\n",
    "    \n",
    "greet(dept =\"CS\", name= \"anjana\")\n",
    "# keyward argument"
   ]
  },
  {
   "cell_type": "code",
   "execution_count": 30,
   "id": "faa4ddff",
   "metadata": {},
   "outputs": [
    {
     "ename": "SyntaxError",
     "evalue": "positional argument follows keyword argument (2553066373.py, line 5)",
     "output_type": "error",
     "traceback": [
      "\u001b[1;36m  Cell \u001b[1;32mIn[30], line 5\u001b[1;36m\u001b[0m\n\u001b[1;33m    greet(dept = \"CS\" , \"anjana\")\u001b[0m\n\u001b[1;37m                                ^\u001b[0m\n\u001b[1;31mSyntaxError\u001b[0m\u001b[1;31m:\u001b[0m positional argument follows keyword argument\n"
     ]
    }
   ],
   "source": [
    "def greet(name, dept):\n",
    "    print(f\"hi {name}\")\n",
    "    print(f\"Are you from {dept} department\")\n",
    "    \n",
    "greet(dept = \"CS\" , \"anjana\")\n",
    "# there is error because keyward argument should follow positional argument.(first parament need to define first )."
   ]
  },
  {
   "cell_type": "code",
   "execution_count": 28,
   "id": "1123a4ac",
   "metadata": {},
   "outputs": [
    {
     "name": "stdout",
     "output_type": "stream",
     "text": [
      "hi anjana\n",
      "Are you from CS department\n"
     ]
    }
   ],
   "source": [
    "def greet(name, dept):\n",
    "    print(f\"hi {name}\")\n",
    "    print(f\"Are you from {dept} department\")\n",
    "    \n",
    "greet(\"anjana\", dept =\"CS\")"
   ]
  },
  {
   "cell_type": "markdown",
   "id": "c0ec482c",
   "metadata": {},
   "source": [
    "DEFAULT AARGUMENT"
   ]
  },
  {
   "cell_type": "code",
   "execution_count": 44,
   "id": "7db5c6c6",
   "metadata": {},
   "outputs": [
    {
     "name": "stdout",
     "output_type": "stream",
     "text": [
      "hi anjana\n",
      "you are from science subject \n",
      "Are you from CS department\n"
     ]
    }
   ],
   "source": [
    "def greet(name, sub , dept = \"CS\"):\n",
    "    print(f\"hi {name}\")\n",
    "    print(f\"you are from {sub} subject \")\n",
    "    print(f\"Are you from {dept} department\")\n",
    "    \n",
    "greet(\"anjana\", \"science\")\n",
    "\n",
    "# default argument are define by default (in def).\n",
    "# there is no limit of defaault argument."
   ]
  },
  {
   "cell_type": "code",
   "execution_count": 43,
   "id": "450d5803",
   "metadata": {},
   "outputs": [
    {
     "name": "stdout",
     "output_type": "stream",
     "text": [
      "hi anjana\n",
      "you are from science subject \n",
      "Are you from CS department\n",
      "hi sanjana\n",
      "you are from science subject \n",
      "Are you from CS department\n"
     ]
    }
   ],
   "source": [
    "def greet(name, sub=\"science\", dept = \"CS\"):\n",
    "    print(f\"hi {name}\")\n",
    "    print(f\"you are from {sub} subject \")\n",
    "    print(f\"Are you from {dept} department\")\n",
    "    \n",
    "greet(\"anjana\")\n",
    "greet(\"sanjana\")"
   ]
  },
  {
   "cell_type": "code",
   "execution_count": 45,
   "id": "bca4a149",
   "metadata": {},
   "outputs": [
    {
     "name": "stdout",
     "output_type": "stream",
     "text": [
      "hi anjana\n",
      "you are from python subject \n",
      "Are you from CS department\n"
     ]
    }
   ],
   "source": [
    "def greet(name, sub=\"science\" , dept = \"CS\"):\n",
    "    print(f\"hi {name}\")\n",
    "    print(f\"you are from {sub} subject \")\n",
    "    print(f\"Are you from {dept} department\")\n",
    "    \n",
    "greet(\"anjana\", \"python\")\n",
    "# if you  give value during calling then that will print..."
   ]
  },
  {
   "cell_type": "code",
   "execution_count": 46,
   "id": "511d6783",
   "metadata": {},
   "outputs": [
    {
     "ename": "SyntaxError",
     "evalue": "non-default argument follows default argument (1642434816.py, line 1)",
     "output_type": "error",
     "traceback": [
      "\u001b[1;36m  Cell \u001b[1;32mIn[46], line 1\u001b[1;36m\u001b[0m\n\u001b[1;33m    def greet(name, sub=\"science\" , dept ):\u001b[0m\n\u001b[1;37m                                    ^\u001b[0m\n\u001b[1;31mSyntaxError\u001b[0m\u001b[1;31m:\u001b[0m non-default argument follows default argument\n"
     ]
    }
   ],
   "source": [
    "def greet(name, sub=\"science\" , dept ):\n",
    "    print(f\"hi {name}\")\n",
    "    print(f\"you are from {sub} subject \")\n",
    "    print(f\"Are you from {dept} department\")\n",
    "    \n",
    "greet(\"anjana\", \"CS\")\n",
    "# error beacuse non-default argument follows default argument\n",
    "# default argument = sub\n",
    "# non default argument = dept"
   ]
  },
  {
   "cell_type": "code",
   "execution_count": 48,
   "id": "46bf9cda",
   "metadata": {},
   "outputs": [
    {
     "name": "stdout",
     "output_type": "stream",
     "text": [
      "hi anjana\n",
      "you are from python subject \n",
      "Are you from CS department\n"
     ]
    }
   ],
   "source": [
    "def greet(name, dept , sub=\"python\" ):\n",
    "    print(f\"hi {name}\")\n",
    "    print(f\"you are from {sub} subject \")\n",
    "    print(f\"Are you from {dept} department\")\n",
    "    \n",
    "greet(\"anjana\", \"CS\")"
   ]
  },
  {
   "cell_type": "markdown",
   "id": "f2a1c049",
   "metadata": {},
   "source": [
    "ARBITRARY ARGUMENT "
   ]
  },
  {
   "cell_type": "code",
   "execution_count": 65,
   "id": "ae7f1379",
   "metadata": {},
   "outputs": [
    {
     "name": "stdout",
     "output_type": "stream",
     "text": [
      " sum is 50\n",
      " sum is 16\n"
     ]
    }
   ],
   "source": [
    "def add(*number):\n",
    "    c=0\n",
    "    for i in number:\n",
    "        c=c+i\n",
    "    print(f\" sum is {c}\")\n",
    "\n",
    "add(10,10,10,10,10)\n",
    "add(10,5,1)\n",
    "\n",
    "# take any variable(number) ...this variable will transfer all given no. in tuple ....than for loop with procced.\n",
    "# tuple because it is imputable ....we can use index no. for slicing..but we cannot change(inmmutable)..\n",
    "# there is singlee asterik (*) which is used to define arbitrary position argument.."
   ]
  },
  {
   "cell_type": "markdown",
   "id": "ba2eb754",
   "metadata": {},
   "source": [
    "#   *args  and  **kwargs"
   ]
  },
  {
   "cell_type": "raw",
   "id": "5a125263",
   "metadata": {},
   "source": [
    "*args = arbitrary position argument.\n",
    "**kwargs = arbitrary keyward argument "
   ]
  },
  {
   "cell_type": "code",
   "execution_count": 57,
   "id": "7126747c",
   "metadata": {},
   "outputs": [
    {
     "name": "stdout",
     "output_type": "stream",
     "text": [
      " sum is 50\n",
      " sum is 16\n"
     ]
    }
   ],
   "source": [
    "# *args\n",
    "def add(*number):\n",
    "    c=0\n",
    "    for i in number:\n",
    "        c=c+i\n",
    "    print(f\" sum is {c}\")\n",
    "\n",
    "add(10,10,10,10,10)\n",
    "add(10,5,1)"
   ]
  },
  {
   "cell_type": "code",
   "execution_count": 64,
   "id": "b03fb997",
   "metadata": {},
   "outputs": [
    {
     "name": "stdout",
     "output_type": "stream",
     "text": [
      "(100, 10, 10, 10, 10)\n",
      "100\n",
      " sum is 140\n",
      "(10, 5, 1)\n",
      "10\n",
      " sum is 16\n"
     ]
    }
   ],
   "source": [
    "# *args\n",
    "def add(*number):\n",
    "    print( number)\n",
    "    print(number[0])\n",
    "    c=0\n",
    "    for i in number:\n",
    "        c=c+i\n",
    "    print(f\" sum is {c}\")\n",
    "\n",
    "add(100,10,10,10,10)\n",
    "add(10,5,1)\n",
    "\n",
    "# take any variable(number) ...this variable will transfer all given no. in tuple ....than for loop with procced.\n",
    "# tuple because it is imputable ....we can use index no. for slicing..but we cannot change(inmmutable)..\n",
    "# there is singlee asterik (*) which is used to define arbitrary position argument.."
   ]
  },
  {
   "cell_type": "code",
   "execution_count": 68,
   "id": "627605b3",
   "metadata": {},
   "outputs": [
    {
     "name": "stdout",
     "output_type": "stream",
     "text": [
      "(1, 2)\n",
      "1\n"
     ]
    }
   ],
   "source": [
    "a= (1,2)\n",
    "print(a)\n",
    "# it is a tuple\n",
    "print(a[0])\n",
    "# slicing with the help of index no. "
   ]
  },
  {
   "cell_type": "code",
   "execution_count": 71,
   "id": "774ff0de",
   "metadata": {},
   "outputs": [
    {
     "ename": "TypeError",
     "evalue": "'tuple' object does not support item assignment",
     "output_type": "error",
     "traceback": [
      "\u001b[1;31m---------------------------------------------------------------------------\u001b[0m",
      "\u001b[1;31mTypeError\u001b[0m                                 Traceback (most recent call last)",
      "Cell \u001b[1;32mIn[71], line 1\u001b[0m\n\u001b[1;32m----> 1\u001b[0m a[\u001b[38;5;241m0\u001b[39m]\u001b[38;5;241m=\u001b[39m\u001b[38;5;241m4\u001b[39m\n",
      "\u001b[1;31mTypeError\u001b[0m: 'tuple' object does not support item assignment"
     ]
    }
   ],
   "source": [
    "a[0]=4\n",
    "# but you can not change / assign the items in tuple like in list......"
   ]
  },
  {
   "cell_type": "code",
   "execution_count": 72,
   "id": "1d321644",
   "metadata": {},
   "outputs": [
    {
     "name": "stdout",
     "output_type": "stream",
     "text": [
      "(2, 78, 56, 'anjana')\n"
     ]
    }
   ],
   "source": [
    "def add(*number):\n",
    "    print(number)\n",
    "    \n",
    "add(2,78,56,\"anjana\")"
   ]
  },
  {
   "cell_type": "code",
   "execution_count": 78,
   "id": "8da60c28",
   "metadata": {},
   "outputs": [
    {
     "name": "stdout",
     "output_type": "stream",
     "text": [
      "(2, 78, 56)\n"
     ]
    }
   ],
   "source": [
    "def add(*number, name):\n",
    "    print(number)\n",
    "    \n",
    "add(2,78,56,name=\"anjana\")"
   ]
  },
  {
   "cell_type": "code",
   "execution_count": 77,
   "id": "455611c4",
   "metadata": {},
   "outputs": [
    {
     "name": "stdout",
     "output_type": "stream",
     "text": [
      "(23, 54, 67)\n",
      "anjana\n"
     ]
    }
   ],
   "source": [
    "def add(*number,name):\n",
    "    print(number)\n",
    "    print(name)\n",
    "    \n",
    "add(23,54,67,name=\"anjana\")"
   ]
  },
  {
   "cell_type": "code",
   "execution_count": 85,
   "id": "1f7c9f54",
   "metadata": {},
   "outputs": [
    {
     "name": "stdout",
     "output_type": "stream",
     "text": [
      "(3, 67, 45, 99)\n",
      "sum of number 214\n"
     ]
    }
   ],
   "source": [
    "def add(*number,name):\n",
    "    print(number)\n",
    "    count=0\n",
    "    for i in number:\n",
    "        count+= i\n",
    "    print(f\"sum of number {count}\")\n",
    "    \n",
    "add(3,67,45,99, name=\"anjana\")\n",
    "\n",
    "#  *number = arbitrary position argument (*args).\n",
    "#  name = arbitrary keyward argument."
   ]
  },
  {
   "cell_type": "raw",
   "id": "21a8282c",
   "metadata": {},
   "source": [
    "IMP SEQUENCE (IN PARAMETER)\n",
    "- position argument (a or b or any..),than arbitrary position argument(*a...) and than at last arbitrary  keyward argument(**a...).\n",
    " \n",
    "1- position argument (any variable eg a,b, g etc)\n",
    "2- arbitrary position argument (*args) (eg = *a ,*b, *d ,*u ,....etc)\n",
    "3 - arbitrary keyward argument (**kargs) (eg = **a, **b , **c , **h etc)\n",
    "\n",
    "syntax = def add( a, *a , **a) ; \n",
    "         **a need too mention in argument like = (\"anjana\" ,\"CS\" , **a = \"value\")"
   ]
  },
  {
   "cell_type": "code",
   "execution_count": 92,
   "id": "84cb2713",
   "metadata": {},
   "outputs": [
    {
     "name": "stdout",
     "output_type": "stream",
     "text": [
      "1\n"
     ]
    }
   ],
   "source": [
    "def add(a,*b):\n",
    "    print(a)\n",
    "add(1,2,3)\n",
    "# a will contin only first argument , remaing will go to *b"
   ]
  },
  {
   "cell_type": "code",
   "execution_count": 94,
   "id": "3d7e5cf3",
   "metadata": {},
   "outputs": [
    {
     "name": "stdout",
     "output_type": "stream",
     "text": [
      "(2, 3)\n"
     ]
    }
   ],
   "source": [
    "def add(a,*b):\n",
    "    print(b)\n",
    "add(1,2,3)"
   ]
  },
  {
   "cell_type": "code",
   "execution_count": 93,
   "id": "600ea164",
   "metadata": {},
   "outputs": [
    {
     "ename": "TypeError",
     "evalue": "add() missing 1 required keyword-only argument: 'b'",
     "output_type": "error",
     "traceback": [
      "\u001b[1;31m---------------------------------------------------------------------------\u001b[0m",
      "\u001b[1;31mTypeError\u001b[0m                                 Traceback (most recent call last)",
      "Cell \u001b[1;32mIn[93], line 3\u001b[0m\n\u001b[0;32m      1\u001b[0m \u001b[38;5;28;01mdef\u001b[39;00m \u001b[38;5;21madd\u001b[39m(\u001b[38;5;241m*\u001b[39ma,b):\n\u001b[0;32m      2\u001b[0m     \u001b[38;5;28mprint\u001b[39m(a)\n\u001b[1;32m----> 3\u001b[0m add(\u001b[38;5;241m1\u001b[39m,\u001b[38;5;241m2\u001b[39m,\u001b[38;5;241m3\u001b[39m)\n",
      "\u001b[1;31mTypeError\u001b[0m: add() missing 1 required keyword-only argument: 'b'"
     ]
    }
   ],
   "source": [
    "def add(*a,b):\n",
    "    print(a)\n",
    "add(1,2,3)\n",
    "# sequence is wrong....*args is followed by position argument..."
   ]
  },
  {
   "cell_type": "code",
   "execution_count": 6,
   "id": "28e15d44",
   "metadata": {},
   "outputs": [
    {
     "name": "stdout",
     "output_type": "stream",
     "text": [
      "name anjana\n",
      "age 20\n",
      "dept CSE\n",
      "name sanjana\n",
      "age 20\n",
      "dept CS\n"
     ]
    }
   ],
   "source": [
    "def info_person(**data):\n",
    "    for key , value in data.items():\n",
    "        print(key , value)\n",
    "    \n",
    "info_person( name = \"anjana\" , age =20 , dept = \"CSE\")\n",
    "info_person( name = \"sanjana\" , age = 20 ,dept = \"CS\")\n",
    "# there is dictionary unlike tuple in other argument...... \n",
    "# item() function use to return the list with all dictionary keys with values..."
   ]
  },
  {
   "cell_type": "code",
   "execution_count": 11,
   "id": "df615a3e",
   "metadata": {},
   "outputs": [
    {
     "data": {
      "text/plain": [
       "dict"
      ]
     },
     "execution_count": 11,
     "metadata": {},
     "output_type": "execute_result"
    }
   ],
   "source": [
    "dict1 = { \"a\" : \"anjana\" ,\"b\" :\"sanjana\"}\n",
    "type(dict1)"
   ]
  },
  {
   "cell_type": "code",
   "execution_count": 13,
   "id": "87a5dff8",
   "metadata": {},
   "outputs": [
    {
     "name": "stdout",
     "output_type": "stream",
     "text": [
      "dict_items([('a', 'anjana'), ('b', 'sanjana')])\n"
     ]
    }
   ],
   "source": [
    "print(dict1.items())\n",
    "# item() function use to return the list with all dictionary keys with values..."
   ]
  },
  {
   "cell_type": "code",
   "execution_count": 17,
   "id": "4f3d4452",
   "metadata": {},
   "outputs": [
    {
     "name": "stdout",
     "output_type": "stream",
     "text": [
      "('hello',)\n",
      "name anjana\n",
      "age 20\n",
      "dept CSE\n",
      "('hello',)\n",
      "name sanjana\n",
      "age 20\n",
      "dept CS\n"
     ]
    }
   ],
   "source": [
    "def info_person(*word , **data):\n",
    "    print(word)\n",
    "    for key , value in data.items():\n",
    "        print(key , value)\n",
    "    \n",
    "info_person( \"hello\" ,  name = \"anjana\" , age =20 , dept = \"CSE\")\n",
    "info_person( \"hello\" , name = \"sanjana\" , age = 20 ,dept = \"CS\")\n",
    "\n",
    "# **data will contain all key  and value of dict.\n",
    "# *word will contain all item apart from key and value of dict."
   ]
  },
  {
   "cell_type": "code",
   "execution_count": 20,
   "id": "153a631a",
   "metadata": {},
   "outputs": [
    {
     "name": "stdout",
     "output_type": "stream",
     "text": [
      "(100, 'hello')\n",
      "name anjana\n",
      "age 20\n",
      "dept CSE\n",
      "(555, 'welcome ')\n",
      "name sanjana\n",
      "age 20\n",
      "dept CS\n"
     ]
    }
   ],
   "source": [
    "def info_person(*word , **data):\n",
    "    print(word)\n",
    "    for key , value in data.items():\n",
    "        print(key , value)\n",
    "    \n",
    "info_person( 100,\"hello\" ,  name = \"anjana\" , age =20 , dept = \"CSE\")\n",
    "info_person( 555,\"welcome \" , name = \"sanjana\" , age = 20 ,dept = \"CS\")"
   ]
  },
  {
   "cell_type": "code",
   "execution_count": 23,
   "id": "56ef0c98",
   "metadata": {},
   "outputs": [
    {
     "name": "stdout",
     "output_type": "stream",
     "text": [
      "100\n",
      "name anjana\n",
      "age 20\n",
      "dept CSE\n",
      "hello\n",
      "name sanjana\n",
      "age 20\n",
      "dept CS\n"
     ]
    }
   ],
   "source": [
    "def info_person(word , **data):\n",
    "    print(word)\n",
    "    for key , value in data.items():\n",
    "        print(key , value)\n",
    "    \n",
    "info_person( 100 ,  name = \"anjana\" , age =20 , dept = \"CSE\")\n",
    "info_person( \"hello\"  , name = \"sanjana\" , age = 20 ,dept = \"CS\")\n",
    "\n",
    "#  when positional argument is there then he will take only first given argument....if there are two apart from dict then it \n",
    "# show error."
   ]
  },
  {
   "cell_type": "code",
   "execution_count": 30,
   "id": "7ff32b80",
   "metadata": {},
   "outputs": [
    {
     "name": "stdout",
     "output_type": "stream",
     "text": [
      "100\n",
      "(234, 'sanjana')\n",
      "{'name': 'anjana', 'age': 20, 'dept': 'CSE'}\n",
      "name anjana\n",
      "age 20\n",
      "dept CSE\n"
     ]
    }
   ],
   "source": [
    " def info_person(word, *args , **data):\n",
    "        print(word)\n",
    "        print(args)\n",
    "        print(data)\n",
    "        for key , value in data.items():\n",
    "            print(key , value)\n",
    "    \n",
    "info_person( 100 ,234,\"sanjana\" , name = \"anjana\" , age =20 , dept = \"CSE\")\n",
    "\n",
    "# 100 = position argument (take first one only from argument).\n",
    "# 234,\"sanjana\" = *args and there is tuple(take all from argument apart from key ,value and of position argument ).\n",
    "# key and value = **kwarg and there is dict ."
   ]
  },
  {
   "cell_type": "code",
   "execution_count": 34,
   "id": "5b627552",
   "metadata": {},
   "outputs": [
    {
     "name": "stdout",
     "output_type": "stream",
     "text": [
      "(2, 10, 2)\n",
      "40\n"
     ]
    }
   ],
   "source": [
    "def multi(*number):\n",
    "    print(number)\n",
    "    total =1\n",
    "    for i in number:\n",
    "        total*= i\n",
    "    print(total)\n",
    "multi(2,10,2)\n",
    "        \n",
    "    "
   ]
  },
  {
   "cell_type": "code",
   "execution_count": 9,
   "id": "082f9511",
   "metadata": {},
   "outputs": [
    {
     "name": "stdout",
     "output_type": "stream",
     "text": [
      "enter the height of wall in meter : \n",
      " 10\n",
      "enter the width of wall in meters : \n",
      " 9\n",
      "you will need 12.857142857142858 cans of paint . \n"
     ]
    }
   ],
   "source": [
    "def paint_calculation(height,width,cover):\n",
    "    area = height*width\n",
    "    no_of_cans = area/cover\n",
    "    print(f\"you will need {no_of_cans} cans of paint . \")\n",
    "    \n",
    "height= int(input(\"enter the height of wall in meter : \\n \"))\n",
    "width = int(input(\"enter the width of wall in meters : \\n \"))\n",
    "cover = 7\n",
    "# here cover is area of wall\n",
    "\n",
    "paint_calculation(height  , width  , cover )\n",
    "\n",
    "# Answers is in point we want round of answer ...so we can use round() function but we will use ceil() function.... "
   ]
  },
  {
   "cell_type": "raw",
   "id": "df587ecb",
   "metadata": {},
   "source": [
    "we will use ceil() fuction because if answer is 1.7 it will give 2 ....and if amswer is 1.4 it will still give 2 and this is\n",
    "ok because more is ok ....less iis not we want to cover whole wall..."
   ]
  },
  {
   "cell_type": "code",
   "execution_count": 12,
   "id": "238a240f",
   "metadata": {},
   "outputs": [
    {
     "name": "stdout",
     "output_type": "stream",
     "text": [
      "enter the height of wall : \n",
      "10\n",
      "enter the widhh of wall :  \n",
      "9\n",
      " you will need 13 cans of paint . \n"
     ]
    }
   ],
   "source": [
    "import math\n",
    "\n",
    "\n",
    "def paint_calculation(height,width,cover):\n",
    "    area = height*width\n",
    "    no_of_cans = math.ceil(area/cover)\n",
    "    print(f\" you will need {no_of_cans} cans of paint . \")\n",
    "    \n",
    "height = int(input(\"enter the height of wall : \\n\"))\n",
    "width = int(input(\"enter the widhh of wall :  \\n\"))\n",
    "cover = 7\n",
    "\n",
    "paint_calculation(height,width,cover)    "
   ]
  },
  {
   "cell_type": "code",
   "execution_count": 33,
   "id": "f0844829",
   "metadata": {},
   "outputs": [
    {
     "name": "stdout",
     "output_type": "stream",
     "text": [
      "enter the no. : 11\n",
      "it is the prime no. : \n"
     ]
    }
   ],
   "source": [
    "def prime_number(number):\n",
    "    is_prime = True   #true = it ia a prime no. (whatever user giving is prime no.)\n",
    "    if number == 1:\n",
    "        is_prime = False   # 1 is the composite no.        \n",
    "    for i in range(2,number):\n",
    "        if number %i == 0:\n",
    "            is_prime = False   # false = if given condition fullfill then no. is not a prime no. (reverse the true)             \n",
    "    \n",
    "    \n",
    "    if is_prime == True:\n",
    "        print(\"it is the prime no. : \")\n",
    "    else:\n",
    "        print(\"it is not a prime no. : \\n \")\n",
    "\n",
    "\n",
    "number = int(input(\"enter the no. : \"))\n",
    "\n",
    "prime_number(number)"
   ]
  },
  {
   "cell_type": "markdown",
   "id": "4fed97ae",
   "metadata": {},
   "source": [
    "# FUNCTION WITH RETURN VALUE"
   ]
  },
  {
   "cell_type": "raw",
   "id": "5097baa2",
   "metadata": {},
   "source": [
    "return statement we use only inside a function . \n",
    "after return statement function end."
   ]
  },
  {
   "cell_type": "code",
   "execution_count": 49,
   "id": "4bf6b4d0",
   "metadata": {},
   "outputs": [
    {
     "name": "stdout",
     "output_type": "stream",
     "text": [
      "5\n"
     ]
    }
   ],
   "source": [
    "def add(a,b):\n",
    "    c= a+b\n",
    "    print(c)\n",
    "\n",
    "add(2,3)"
   ]
  },
  {
   "cell_type": "code",
   "execution_count": 86,
   "id": "f98f2940",
   "metadata": {},
   "outputs": [
    {
     "data": {
      "text/plain": [
       "5"
      ]
     },
     "execution_count": 86,
     "metadata": {},
     "output_type": "execute_result"
    }
   ],
   "source": [
    "def add(a,b):\n",
    "    c= a+b\n",
    "    return c\n",
    "\n",
    "add(2,3) "
   ]
  },
  {
   "cell_type": "code",
   "execution_count": 87,
   "id": "431feb5c",
   "metadata": {},
   "outputs": [
    {
     "name": "stdout",
     "output_type": "stream",
     "text": [
      "5\n"
     ]
    }
   ],
   "source": [
    "def add(a,b):\n",
    "    c= a+b\n",
    "    return c\n",
    "\n",
    "print(add(2,3)) "
   ]
  },
  {
   "cell_type": "code",
   "execution_count": 27,
   "id": "f46c7ad5",
   "metadata": {},
   "outputs": [
    {
     "name": "stdout",
     "output_type": "stream",
     "text": [
      "5\n"
     ]
    }
   ],
   "source": [
    "def add(a,b):\n",
    "    c= a+b\n",
    "    return c\n",
    "\n",
    "result = add(2,3)\n",
    "print(result)"
   ]
  },
  {
   "cell_type": "code",
   "execution_count": 48,
   "id": "3893676b",
   "metadata": {},
   "outputs": [
    {
     "data": {
      "text/plain": [
       "5"
      ]
     },
     "execution_count": 48,
     "metadata": {},
     "output_type": "execute_result"
    }
   ],
   "source": [
    "def add(a,b):\n",
    "    return a+b\n",
    "    print(\"end of function \")\n",
    "\n",
    "add(2,3)\n",
    "\n",
    "# afterreturn function end ..thats why print's statement does not printed....."
   ]
  },
  {
   "cell_type": "code",
   "execution_count": 32,
   "id": "62766270",
   "metadata": {},
   "outputs": [
    {
     "data": {
      "text/plain": [
       "(21.142857142857142, 3, 3)"
      ]
     },
     "execution_count": 32,
     "metadata": {},
     "output_type": "execute_result"
    }
   ],
   "source": [
    "import statistics\n",
    "\n",
    "def mean_median_mode(list1):\n",
    "    return statistics.mean(list1) , statistics.median(list1) , statistics.mode(list1)\n",
    "\n",
    "mean_median_mode([3,5,45,3,2,1,89])"
   ]
  },
  {
   "cell_type": "code",
   "execution_count": 39,
   "id": "7145b036",
   "metadata": {},
   "outputs": [
    {
     "data": {
      "text/plain": [
       "[21.142857142857142, 3, 3]"
      ]
     },
     "execution_count": 39,
     "metadata": {},
     "output_type": "execute_result"
    }
   ],
   "source": [
    "import statistics\n",
    "\n",
    "def mean_median_mode(list1):\n",
    "    return [statistics.mean(list1) , statistics.median(list1) , statistics.mode(list1)]\n",
    "\n",
    "mean_median_mode([3,5,45,3,2,1,89])\n",
    "\n",
    "# when we want answer in list..."
   ]
  },
  {
   "cell_type": "code",
   "execution_count": 46,
   "id": "c199b666",
   "metadata": {},
   "outputs": [
    {
     "name": "stdout",
     "output_type": "stream",
     "text": [
      " Mean is 21.142857142857142 , Median is 3 , Mode is 3 \n"
     ]
    }
   ],
   "source": [
    "import statistics\n",
    "\n",
    "def mean_median_mode(list1):\n",
    "    return statistics.mean(list1) , statistics.median(list1) , statistics.mode(list1)\n",
    "\n",
    "a , b , c  =  mean_median_mode([3,5,45,3,2,1,89])\n",
    " \n",
    "print(f\" Mean is {a} , Median is {b} , Mode is {c} \")"
   ]
  },
  {
   "cell_type": "code",
   "execution_count": 47,
   "id": "8ea9d5eb",
   "metadata": {},
   "outputs": [
    {
     "name": "stdout",
     "output_type": "stream",
     "text": [
      " Mean is 21.142857142857142 \n",
      " Median is 3 \n",
      " Mode is 3 \n"
     ]
    }
   ],
   "source": [
    "import statistics\n",
    "\n",
    "def mean_median_mode(list1):\n",
    "    return statistics.mean(list1) , statistics.median(list1) , statistics.mode(list1)\n",
    "\n",
    "a,b,c = mean_median_mode([3,5,45,3,2,1,89])\n",
    "\n",
    "print(f\" Mean is {a} \\n Median is {b} \\n Mode is {c} \")"
   ]
  },
  {
   "cell_type": "code",
   "execution_count": 61,
   "id": "2b6745e3",
   "metadata": {},
   "outputs": [
    {
     "name": "stdout",
     "output_type": "stream",
     "text": [
      "enter no. =  \n",
      "0\n",
      "enter no. =  \n",
      "0\n"
     ]
    },
    {
     "data": {
      "text/plain": [
       "'non'"
      ]
     },
     "execution_count": 61,
     "metadata": {},
     "output_type": "execute_result"
    }
   ],
   "source": [
    "def add(a,b):\n",
    "    if a== 0 and b ==0:\n",
    "        return \"non\"\n",
    "    else:\n",
    "        return a+b\n",
    "    \n",
    "variable1 = int(input(\"enter no. =  \\n\"))\n",
    "variable2 = int(input(\"enter no. =  \\n\"))\n",
    "\n",
    "add(variable1 , variable2)"
   ]
  },
  {
   "cell_type": "code",
   "execution_count": 94,
   "id": "68f8d9e8",
   "metadata": {},
   "outputs": [
    {
     "name": "stdout",
     "output_type": "stream",
     "text": [
      "enter year no.  \n",
      " 2020\n",
      "enter month : \n",
      " 2\n",
      "29\n"
     ]
    }
   ],
   "source": [
    "def leap_year(year):\n",
    "    if year % 4 ==0 :\n",
    "        if year % 100 != 0 :\n",
    "            return True\n",
    "        else:\n",
    "            return False\n",
    "    else:\n",
    "        return  False\n",
    "        \n",
    "def days_in_month(year , month):\n",
    "    days_list1 =[31,28,31,30,31,30,31,30,31,30,31,30]\n",
    "    if leap_year(year) and month == 2 :\n",
    "        return 29\n",
    "    else:\n",
    "        return days_list1[month-1]\n",
    "    \n",
    "    \n",
    "year = int(input(\"enter year no.  \\n \"))\n",
    "month = int(input(\"enter month : \\n \"))\n",
    "\n",
    "days = days_in_month(year , month)\n",
    "print(days)"
   ]
  },
  {
   "cell_type": "code",
   "execution_count": 85,
   "id": "141bf79c",
   "metadata": {},
   "outputs": [
    {
     "name": "stdout",
     "output_type": "stream",
     "text": [
      "enter year . \n",
      " 2020\n",
      "it ia leap year \n"
     ]
    }
   ],
   "source": [
    "def leap_year(year):\n",
    "    if year % 4 ==0 :\n",
    "        if year % 100 != 0 :\n",
    "            return \"it ia leap year \"\n",
    "    else:\n",
    "        return \"it is not a leap year\"\n",
    "    \n",
    "year = int(input(\"enter year . \\n \"))\n",
    "YEAR = leap_year(year)\n",
    "print(YEAR)"
   ]
  },
  {
   "cell_type": "code",
   "execution_count": 10,
   "id": "f1d28600",
   "metadata": {},
   "outputs": [
    {
     "name": "stdout",
     "output_type": "stream",
     "text": [
      "enter your no. :   \n",
      "1\n",
      "enter operator + , % , ** ,* , / , -  :  \n",
      " +\n",
      "enter your no. :  \n",
      " 1\n",
      " 1 + 1 = 2\n",
      "enter 'y'to continue calculation with 2 or 'n' to exist y\n",
      "enter operator + , % , ** ,* , / , -  :  \n",
      " +\n",
      "enter your no. :  \n",
      " 2\n",
      " 2 + 2 = 4\n"
     ]
    }
   ],
   "source": [
    "def calculation1(num1 ,operator , num2):\n",
    "    if operator == \"+\" : \n",
    "        return num1 +num2\n",
    "    elif  operator == \"%\" :\n",
    "        return num1 % num2\n",
    "    elif operator == \"**\" :\n",
    "        return num1 ** num2\n",
    "    elif operator == \"*\" :\n",
    "        return num1 * num2\n",
    "    elif operator == \"/\" :\n",
    "        return num1 / num2\n",
    "    elif operator == \"-\" :\n",
    "        return num1 - num\n",
    "    else:\n",
    "        return  \"wrong operator\"\n",
    "\n",
    "\n",
    "\n",
    "num1 = int(input(\"enter your no. :   \\n\"))\n",
    "operator = input(\"enter operator + , % , ** ,* , / , -  :  \\n \")\n",
    "num2 = int(input(\"enter your no. :  \\n \"))\n",
    "cal1 = calculation1(num1 , operator, num2)\n",
    "print(f\" {num1} {operator} {num2} = {cal1}\")\n",
    "\n",
    "next_step = input(f\"enter 'y'to continue calculation with {cal1} or 'n' to exist \" ).lower()\n",
    "# lower() = convert capital letter in smaller (given by user) .\n",
    "if next_step == 'y':\n",
    "    num1 = cal1\n",
    "    operator = input(\"enter operator + , % , ** ,* , / , -  :  \\n \")\n",
    "    num3 = int(input(\"enter your no. :  \\n \"))\n",
    "    cal2 = calculation1(num1 , operator, num3)\n",
    "    print(f\" {cal1} {operator} {num3} = {cal2}\")\n",
    "else :\n",
    "    print(\"bye\")\n",
    "\n"
   ]
  },
  {
   "cell_type": "raw",
   "id": "13d088c9",
   "metadata": {},
   "source": [
    "display() function is uuse for infinite loop..."
   ]
  },
  {
   "cell_type": "markdown",
   "id": "21579a4d",
   "metadata": {},
   "source": []
  },
  {
   "cell_type": "code",
   "execution_count": 3,
   "id": "2e29491c",
   "metadata": {},
   "outputs": [
    {
     "name": "stdout",
     "output_type": "stream",
     "text": [
      "enter your no. : \n",
      " 1\n",
      "+\n",
      "-\n",
      "*\n",
      "/\n",
      "enter operator from operation : \n",
      " +\n",
      "enter no. :  \n",
      " 1\n",
      "1 + 1 = 2 \n",
      " enter 'y' to continue with 2 or 'n' to start new :  or 's' to stop  :  \n",
      " n\n",
      "enter operator from operation : \n",
      " +\n",
      "enter no. : \n",
      " 1\n",
      "enter no. :  \n",
      " 1\n",
      "1 + 1 = 2 \n",
      "done with calculation\n"
     ]
    }
   ],
   "source": [
    "def add(a,b):\n",
    "    return a+b\n",
    "def subtract(a,b):\n",
    "    return a-b\n",
    "def multiply(a,b):\n",
    "    return a*b\n",
    "def divide(a,b):\n",
    "    return a/b\n",
    "operation = {\"+\" : add , \"-\" : subtract, \"*\" : multiply , \"/\" : divide}\n",
    "\n",
    "number1 = int(input(\"enter your no. : \\n \"))\n",
    "for symbols in operation :\n",
    "        print(symbols)\n",
    "        \n",
    "        \n",
    "# loop start from here... \n",
    "\n",
    "calculator = True\n",
    "while calculator == True :\n",
    "    pick_operator = input(\"enter operator from operation : \\n \")\n",
    "    number2 = int(input(\"enter no. :  \\n \"))\n",
    "    calculator_function = operation[pick_operator]\n",
    "#calculator_function is equal to function in def.....in starting of the programme ....\n",
    "    output = calculator_function(number1,number2)\n",
    "    print(f\"{number1} {pick_operator} {number2} = {output} \")\n",
    "    \n",
    "    next_step = input(f\" enter 'y' to continue with {output} or 'n' to start new :  or 's' to stop  :  \\n \").lower()\n",
    "    if next_step == 'y':\n",
    "        number1  = output\n",
    "    elif next_step == 's' :\n",
    "        calculator = False\n",
    "        print(\"bye\")\n",
    "    else:\n",
    "        pick_operator = input(\"enter operator from operation : \\n \")\n",
    "        number3 = int(input(\"enter no. : \\n \"))\n",
    "        number4 = int(input(\"enter no. :  \\n \"))\n",
    "        calculator_function = operation[pick_operator]\n",
    "        output = calculator_function(number3,number4)\n",
    "        print(f\"{number3} {pick_operator} {number4} = {output} \")\n",
    "        break\n",
    "        \n",
    "        \n",
    "print(\"done with calculation\")"
   ]
  },
  {
   "cell_type": "markdown",
   "id": "9d92a0f0",
   "metadata": {},
   "source": [
    "# LOCAL AND GLOBAL SCOPE /VARIABLE"
   ]
  },
  {
   "cell_type": "raw",
   "id": "4be0a5a4",
   "metadata": {},
   "source": [
    "global variable is outside the function...\n",
    "local variable is inside the function..."
   ]
  },
  {
   "cell_type": "code",
   "execution_count": 11,
   "id": "d845dc91",
   "metadata": {},
   "outputs": [
    {
     "name": "stdout",
     "output_type": "stream",
     "text": [
      "15\n"
     ]
    }
   ],
   "source": [
    "a= 10\n",
    "def display():\n",
    "    a= 15\n",
    "    print(a)\n",
    "display()\n",
    "\n",
    "#  a= 10 show global variable or scope.\n",
    "# a=15 show local variable or scope ...."
   ]
  },
  {
   "cell_type": "code",
   "execution_count": 12,
   "id": "6f55cea9",
   "metadata": {},
   "outputs": [
    {
     "name": "stdout",
     "output_type": "stream",
     "text": [
      "10\n"
     ]
    }
   ],
   "source": [
    "a= 10\n",
    "def display():\n",
    "    print(a)\n",
    "display()\n",
    "\n",
    "# global variabe will print only if there is no locaal variable .."
   ]
  },
  {
   "cell_type": "code",
   "execution_count": 2,
   "id": "4ccc2f66",
   "metadata": {},
   "outputs": [
    {
     "name": "stdout",
     "output_type": "stream",
     "text": [
      "15\n"
     ]
    },
    {
     "ename": "NameError",
     "evalue": "name 'a' is not defined",
     "output_type": "error",
     "traceback": [
      "\u001b[1;31m---------------------------------------------------------------------------\u001b[0m",
      "\u001b[1;31mNameError\u001b[0m                                 Traceback (most recent call last)",
      "Cell \u001b[1;32mIn[2], line 5\u001b[0m\n\u001b[0;32m      3\u001b[0m     \u001b[38;5;28mprint\u001b[39m(a)\n\u001b[0;32m      4\u001b[0m display()\n\u001b[1;32m----> 5\u001b[0m \u001b[38;5;28mprint\u001b[39m(a)\n",
      "\u001b[1;31mNameError\u001b[0m: name 'a' is not defined"
     ]
    }
   ],
   "source": [
    "def display():\n",
    "    a= 15\n",
    "    print(a)\n",
    "display()\n",
    "print(a)\n",
    "\n",
    "# there is error beacuse we are asking for global vaariable also which is not define"
   ]
  },
  {
   "cell_type": "code",
   "execution_count": 13,
   "id": "21f9a5c3",
   "metadata": {},
   "outputs": [
    {
     "name": "stdout",
     "output_type": "stream",
     "text": [
      "15\n",
      "10\n"
     ]
    }
   ],
   "source": [
    "a= 10\n",
    "def display():\n",
    "    a= 15\n",
    "    def show():\n",
    "        print(a)\n",
    "    show()\n",
    "display()\n",
    "print(a)\n",
    "        \n",
    "# a=10 ; gloabal variaable.\n",
    "# a=15 ; local variable to display().\n",
    "# show() ; local to diaplay"
   ]
  },
  {
   "cell_type": "code",
   "execution_count": 14,
   "id": "ecfd509d",
   "metadata": {},
   "outputs": [
    {
     "name": "stdout",
     "output_type": "stream",
     "text": [
      "11\n"
     ]
    }
   ],
   "source": [
    "a,b = 5,6\n",
    "if a<b:\n",
    "    c= a+b\n",
    "print(c)"
   ]
  },
  {
   "cell_type": "code",
   "execution_count": 10,
   "id": "9297c553",
   "metadata": {},
   "outputs": [
    {
     "ename": "NameError",
     "evalue": "name 'c' is not defined",
     "output_type": "error",
     "traceback": [
      "\u001b[1;31m---------------------------------------------------------------------------\u001b[0m",
      "\u001b[1;31mNameError\u001b[0m                                 Traceback (most recent call last)",
      "Cell \u001b[1;32mIn[10], line 5\u001b[0m\n\u001b[0;32m      3\u001b[0m     \u001b[38;5;28;01mif\u001b[39;00m a\u001b[38;5;241m<\u001b[39mb:\n\u001b[0;32m      4\u001b[0m         c\u001b[38;5;241m=\u001b[39m a\u001b[38;5;241m+\u001b[39mb\n\u001b[1;32m----> 5\u001b[0m \u001b[38;5;28mprint\u001b[39m(c)\n",
      "\u001b[1;31mNameError\u001b[0m: name 'c' is not defined"
     ]
    }
   ],
   "source": [
    "a,b = 5,6\n",
    "def display():\n",
    "    if a<b:\n",
    "        c= a+b\n",
    "print(c)\n",
    "# it is showing error because c is local (under display) ...\n",
    "# c need to be in the function...."
   ]
  },
  {
   "cell_type": "code",
   "execution_count": 11,
   "id": "86f99ee4",
   "metadata": {},
   "outputs": [
    {
     "name": "stdout",
     "output_type": "stream",
     "text": [
      "11\n"
     ]
    }
   ],
   "source": [
    "# correect way is this....\n",
    "a,b = 5,6\n",
    "def display():\n",
    "    if a<b:\n",
    "        c= a+b\n",
    "    print(c)\n",
    "display()\n",
    "# local variable need to be in the  function......"
   ]
  },
  {
   "cell_type": "markdown",
   "id": "20148d3f",
   "metadata": {},
   "source": [
    "# GLOBAL KEYWARD"
   ]
  },
  {
   "cell_type": "raw",
   "id": "1efba93b",
   "metadata": {},
   "source": [
    "global keyward use -\n",
    "1- To make change in global variable.\n",
    "2- To make local variable as global variable\n",
    "\n",
    "synax - global "
   ]
  },
  {
   "cell_type": "code",
   "execution_count": 2,
   "id": "0893c743",
   "metadata": {},
   "outputs": [
    {
     "name": "stdout",
     "output_type": "stream",
     "text": [
      "10\n"
     ]
    }
   ],
   "source": [
    "a= 10\n",
    "def display():\n",
    "    print(a)\n",
    "display()\n",
    "# a= 10 ; is a global variable ."
   ]
  },
  {
   "cell_type": "code",
   "execution_count": 7,
   "id": "3457cd06",
   "metadata": {},
   "outputs": [
    {
     "name": "stdout",
     "output_type": "stream",
     "text": [
      "11\n",
      "11\n"
     ]
    }
   ],
   "source": [
    "a= 10\n",
    "def display():\n",
    "    global a\n",
    "    a=a+1\n",
    "    print(a)\n",
    "\n",
    "display()\n",
    "print(a)\n",
    "# global = change in global variable only ."
   ]
  },
  {
   "cell_type": "code",
   "execution_count": 8,
   "id": "cf37f7f7",
   "metadata": {},
   "outputs": [
    {
     "name": "stdout",
     "output_type": "stream",
     "text": [
      "15\n",
      "15\n"
     ]
    }
   ],
   "source": [
    "def display():\n",
    "    global a\n",
    "    a= 15\n",
    "    print(a)\n",
    "\n",
    "display()\n",
    "print(a)\n",
    "\n",
    "# now local as well as global variable is same ....another function of global keywards."
   ]
  },
  {
   "cell_type": "code",
   "execution_count": 11,
   "id": "84ea4468",
   "metadata": {},
   "outputs": [
    {
     "name": "stdout",
     "output_type": "stream",
     "text": [
      "Anjana Dehmiwal\n"
     ]
    }
   ],
   "source": [
    "name =\"Anjana\"\n",
    "def display():\n",
    "    global name\n",
    "    name = name + \" Dehmiwal\"\n",
    "display()\n",
    "print(name)"
   ]
  },
  {
   "cell_type": "code",
   "execution_count": null,
   "id": "6839176a",
   "metadata": {},
   "outputs": [],
   "source": []
  }
 ],
 "metadata": {
  "kernelspec": {
   "display_name": "Python 3 (ipykernel)",
   "language": "python",
   "name": "python3"
  },
  "language_info": {
   "codemirror_mode": {
    "name": "ipython",
    "version": 3
   },
   "file_extension": ".py",
   "mimetype": "text/x-python",
   "name": "python",
   "nbconvert_exporter": "python",
   "pygments_lexer": "ipython3",
   "version": "3.11.3"
  }
 },
 "nbformat": 4,
 "nbformat_minor": 5
}
