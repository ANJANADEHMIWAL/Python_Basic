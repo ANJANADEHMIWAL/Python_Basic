{
 "cells": [
  {
   "cell_type": "raw",
   "id": "facde2f9",
   "metadata": {},
   "source": [
    "1- For loop use , when we know the no. of itteration of loop i.e how many time loop body will be exceuted.\n",
    "2- While loop when we don't know how many times loop body will executed ...so we use condition (byb using while)."
   ]
  },
  {
   "cell_type": "code",
   "execution_count": 2,
   "id": "7da91def",
   "metadata": {},
   "outputs": [
    {
     "name": "stdout",
     "output_type": "stream",
     "text": [
      "1\n",
      "2\n",
      "3\n",
      "4\n",
      "5\n"
     ]
    }
   ],
   "source": [
    "count= 1\n",
    "while count<= 5:\n",
    "    print(count)\n",
    "    count+= 1\n",
    "# here we know statement going to print 5 time ....because it is a small programme"
   ]
  },
  {
   "cell_type": "code",
   "execution_count": 3,
   "id": "07b1aca2",
   "metadata": {},
   "outputs": [
    {
     "name": "stdout",
     "output_type": "stream",
     "text": [
      "3 X 1 = 3\n",
      "3 X 2 = 6\n",
      "3 X 3 = 9\n",
      "3 X 4 = 12\n",
      "3 X 5 = 15\n",
      "3 X 6 = 18\n",
      "3 X 7 = 21\n",
      "3 X 8 = 24\n",
      "3 X 9 = 27\n",
      "3 X 10 = 30\n"
     ]
    }
   ],
   "source": [
    "count=1\n",
    "while count<=10:\n",
    "    print(3 ,\"X\", count , \"=\", 3*count)\n",
    "    count+= 1"
   ]
  },
  {
   "cell_type": "code",
   "execution_count": 6,
   "id": "7ca2ac7a",
   "metadata": {},
   "outputs": [
    {
     "name": "stdout",
     "output_type": "stream",
     "text": [
      "1\n",
      "2\n",
      "3\n",
      "4\n",
      "5\n"
     ]
    }
   ],
   "source": [
    "count = 1\n",
    "for i in range(0,5):\n",
    "    print(count)\n",
    "    count+=1"
   ]
  },
  {
   "cell_type": "code",
   "execution_count": 34,
   "id": "7c3033f1",
   "metadata": {},
   "outputs": [
    {
     "name": "stdout",
     "output_type": "stream",
     "text": [
      "5\n",
      "4\n",
      "3\n",
      "2\n",
      "1\n"
     ]
    }
   ],
   "source": [
    "count = 5\n",
    "while count>0:\n",
    "    print(count)\n",
    "    count -= 1"
   ]
  },
  {
   "cell_type": "code",
   "execution_count": 35,
   "id": "168a928d",
   "metadata": {},
   "outputs": [
    {
     "name": "stdout",
     "output_type": "stream",
     "text": [
      "5\n",
      "4\n",
      "3\n",
      "2\n",
      "1\n",
      "done\n",
      "out from loop \n"
     ]
    }
   ],
   "source": [
    "count= 5\n",
    "while count>0:\n",
    "    print(count)\n",
    "    count -= 1\n",
    "else:\n",
    "    print(\"done\")\n",
    "\n",
    "print(\"out from loop \")"
   ]
  },
  {
   "cell_type": "code",
   "execution_count": 1,
   "id": "99779038",
   "metadata": {},
   "outputs": [
    {
     "name": "stdout",
     "output_type": "stream",
     "text": [
      "hi , anjana\n",
      "hi , anjana\n",
      "hi , anjana\n",
      "hi , anjana\n",
      "hi , anjana\n",
      "hi , anjana\n"
     ]
    }
   ],
   "source": [
    "list1 = [1,2,3,4,5,6]\n",
    "while list1 :\n",
    "    print(\"hi , anjana\" )\n",
    "    list1.pop()\n",
    "# here we have to use pop() functon to remove item from list1 by default after every print (hi,\"anjana\") to make it print ...\n",
    "# ...only 6 time..because condition is \"while list1\" i.e print \"hi,anjana\" till the existence  of list1 . "
   ]
  },
  {
   "cell_type": "code",
   "execution_count": 27,
   "id": "eba62cc5",
   "metadata": {},
   "outputs": [
    {
     "name": "stdout",
     "output_type": "stream",
     "text": [
      "1\n",
      "2\n",
      "3\n",
      "4\n",
      "5\n",
      "out from loop \n"
     ]
    }
   ],
   "source": [
    "count = 1\n",
    "while count<= 5 :\n",
    "    print(count)\n",
    "    count+= 1\n",
    "else:\n",
    "    print(\"out from loop \")\n",
    "    \n",
    "# else block will execute only after while block become false i.e when count is 6 not matching the condition ...\n",
    "# else block will execute only when loop come out of while block....after complition only ....."
   ]
  },
  {
   "cell_type": "code",
   "execution_count": 11,
   "id": "e9149ef8",
   "metadata": {},
   "outputs": [
    {
     "name": "stdout",
     "output_type": "stream",
     "text": [
      "1\n",
      "2\n"
     ]
    }
   ],
   "source": [
    "count = 1\n",
    "while count <= 5:\n",
    "    print(count)\n",
    "    count +=1\n",
    "    if count == 3:\n",
    "        break"
   ]
  },
  {
   "cell_type": "code",
   "execution_count": 26,
   "id": "3ff45526",
   "metadata": {},
   "outputs": [
    {
     "name": "stdout",
     "output_type": "stream",
     "text": [
      "1\n",
      "2\n"
     ]
    }
   ],
   "source": [
    "count = 1\n",
    "while count<= 5:\n",
    "    print(count)\n",
    "    count+= 1\n",
    "    if count== 3 :\n",
    "        break \n",
    "else:\n",
    "    print(\"out from loop \")\n",
    "    \n",
    "# else block will not be executed because we have forcefully terminated this loop by useing break "
   ]
  },
  {
   "cell_type": "code",
   "execution_count": 43,
   "id": "4255c28e",
   "metadata": {},
   "outputs": [
    {
     "name": "stdout",
     "output_type": "stream",
     "text": [
      "1\n",
      "2\n",
      "it is  = 3\n",
      "4\n",
      "5\n",
      "out from loop \n"
     ]
    }
   ],
   "source": [
    "count = 1\n",
    "while count<= 5:\n",
    "    print(count)\n",
    "    count+= 1\n",
    "    if count== 3 :\n",
    "        print (\"it is \", end =\" = \")\n",
    "\n",
    "print(\"out from loop \")"
   ]
  },
  {
   "cell_type": "code",
   "execution_count": 33,
   "id": "8849474b",
   "metadata": {},
   "outputs": [
    {
     "name": "stdout",
     "output_type": "stream",
     "text": [
      "out from loop \n"
     ]
    }
   ],
   "source": [
    "count = 1\n",
    "while count<1 :\n",
    "    print(count)\n",
    "    count+= 1\n",
    "else:\n",
    "    print(\"out from loop \")"
   ]
  },
  {
   "cell_type": "code",
   "execution_count": 40,
   "id": "2e7b9cda",
   "metadata": {},
   "outputs": [
    {
     "name": "stdout",
     "output_type": "stream",
     "text": [
      "5\n",
      "even no. = 4\n",
      "3\n",
      "even no. = 2\n",
      "1\n",
      "even no. = out from loop\n"
     ]
    }
   ],
   "source": [
    "count =5 \n",
    "while count>0:\n",
    "    print(count)\n",
    "    count -= 1\n",
    "    if count%2 ==0 :\n",
    "        print(\"even no.\", end =\" = \")\n",
    "    \n",
    "print(\"out from loop\")"
   ]
  },
  {
   "cell_type": "raw",
   "id": "7dfa9008",
   "metadata": {},
   "source": [
    "WHILE LOOP \n",
    "\n",
    "- when we want to terminate loop at a specific condition (sentimental value) and that need to be true for termination .\n"
   ]
  },
  {
   "cell_type": "code",
   "execution_count": 2,
   "id": "4181a461",
   "metadata": {},
   "outputs": [
    {
     "name": "stdout",
     "output_type": "stream",
     "text": [
      "5\n",
      "out from loop \n"
     ]
    }
   ],
   "source": [
    "count = 5 \n",
    "while count>0:\n",
    "    print(count)\n",
    "    count-= 1\n",
    "    if count%2 ==0:\n",
    "        break\n",
    "else:\n",
    "    print(\"done\")\n",
    "    \n",
    "print(\"out from loop \")"
   ]
  },
  {
   "cell_type": "code",
   "execution_count": 41,
   "id": "aefdd81b",
   "metadata": {},
   "outputs": [
    {
     "name": "stdout",
     "output_type": "stream",
     "text": [
      "5\n",
      "done\n",
      "4\n",
      "done\n",
      "3\n",
      "done\n",
      "2\n",
      "done\n",
      "1\n",
      "out from loop \n"
     ]
    }
   ],
   "source": [
    "count = 5 \n",
    "while count>0:\n",
    "    print(count)\n",
    "    count-= 1\n",
    "    if count%7 ==0:\n",
    "        break\n",
    "    else:\n",
    "        print(\"done\")\n",
    "    \n",
    "print(\"out from loop \")"
   ]
  },
  {
   "cell_type": "code",
   "execution_count": 20,
   "id": "f053f035",
   "metadata": {},
   "outputs": [
    {
     "name": "stdout",
     "output_type": "stream",
     "text": [
      "enter number : -98\n",
      "has entered in else block \n",
      " out from loop \n"
     ]
    }
   ],
   "source": [
    "# only +ve no. \n",
    "number = int(input(\"enter number : \"))\n",
    "while number >= 0:\n",
    "    print(number , \" is greater than zero \")\n",
    "    number *= -1   # this is imp to stop loop of a input no. otherwise it will print infinite time .\n",
    "                   # .making no. -ve after print stop loop (becoz condition say print only if no. is +ve). \n",
    "else :\n",
    "    print(\"has entered in else block \")\n",
    "    \n",
    "print(\" out from loop \")"
   ]
  },
  {
   "cell_type": "code",
   "execution_count": 10,
   "id": "1ecf7d0d",
   "metadata": {},
   "outputs": [
    {
     "name": "stdout",
     "output_type": "stream",
     "text": [
      "enter a number (-1 to quit )  :    23\n",
      "23\n",
      "enter a another no. (-1 to quit )  :    -9\n",
      "-9\n",
      "enter a another no. (-1 to quit )  :    -1\n",
      "you chose -1 to quit\n",
      "out from loop \n"
     ]
    }
   ],
   "source": [
    "# enter -1 to stop.\n",
    "number = int(input(\"enter a number (-1 to quit )  :    \"))\n",
    "while number != -1:\n",
    "    print(number)\n",
    "    number = int(input(\"enter a another no. (-1 to quit )  :    \"))\n",
    "else:\n",
    "    print(\"you chose -1 to quit\")\n",
    "    \n",
    "print(\"out from loop \")    "
   ]
  },
  {
   "cell_type": "code",
   "execution_count": 38,
   "id": "e4c0bbdc",
   "metadata": {},
   "outputs": [
    {
     "name": "stdout",
     "output_type": "stream",
     "text": [
      "enter a number (0 to qiut) :    5\n",
      "enter a another no. (0 to quit )  :    -5\n",
      "enter a another no. (0 to quit )  :    10\n",
      "enter a another no. (0 to quit )  :    0\n",
      "sum of number :   10\n"
     ]
    }
   ],
   "source": [
    "number = int(input(\"enter a number (0 to qiut) :    \"))\n",
    "sum1=0\n",
    "\n",
    "while number != 0 :\n",
    "    sum1 = sum1 + number\n",
    "    number = int(input(\"enter a another no. (0 to quit )  :    \"))\n",
    "    \n",
    "print(\"sum of number :  \" , sum1)"
   ]
  },
  {
   "cell_type": "raw",
   "id": "ea99c00f",
   "metadata": {},
   "source": [
    "break = to terminate loop (exist from loop)\n",
    "\n",
    "continue = to skip (loop will start from starting again ...as continue will came to skip remaing body of loop if condition is true.\n",
    "\n",
    "pass = "
   ]
  },
  {
   "cell_type": "code",
   "execution_count": 52,
   "id": "56781a3d",
   "metadata": {},
   "outputs": [
    {
     "name": "stdout",
     "output_type": "stream",
     "text": [
      "1\n",
      "hello , 2\n",
      "hello , 3\n",
      "hello , 4\n",
      "out from loop\n"
     ]
    }
   ],
   "source": [
    "count = 1\n",
    "while count <= 10:\n",
    "    print(count)\n",
    "    count = count + 1\n",
    "    if count == 5:\n",
    "        break\n",
    "    print(\"hello\" , end = \" , \")\n",
    "\n",
    "print(\"out from loop\")"
   ]
  },
  {
   "cell_type": "code",
   "execution_count": 51,
   "id": "f4ed36e1",
   "metadata": {},
   "outputs": [
    {
     "name": "stdout",
     "output_type": "stream",
     "text": [
      "1\n",
      "2\n",
      "3\n",
      "4\n",
      "out from loop\n"
     ]
    }
   ],
   "source": [
    "count = 1\n",
    "while count <= 10:\n",
    "    print(count)\n",
    "    count = count + 1\n",
    "    if count == 5:\n",
    "        break\n",
    "else:\n",
    "    print(\"hello\" , end = \" , \")\n",
    "\n",
    "print(\"out from loop\")\n",
    "\n",
    "# this else is out of while loop block..."
   ]
  },
  {
   "cell_type": "code",
   "execution_count": 50,
   "id": "e43bcb9a",
   "metadata": {},
   "outputs": [
    {
     "name": "stdout",
     "output_type": "stream",
     "text": [
      "1\n",
      "hello , 2\n",
      "hello , 3\n",
      "hello , 4\n",
      "out from loop\n"
     ]
    }
   ],
   "source": [
    "count = 1\n",
    "while count <= 10:\n",
    "    print(count)\n",
    "    count = count + 1\n",
    "    if count == 5:\n",
    "        break\n",
    "    else:\n",
    "        print(\"hello\" , end = \" , \")\n",
    "print(\"out from loop\")\n",
    "# this else is within while loop  block that goes with the while condition ......"
   ]
  },
  {
   "cell_type": "code",
   "execution_count": 55,
   "id": "4f45e17d",
   "metadata": {},
   "outputs": [
    {
     "name": "stdout",
     "output_type": "stream",
     "text": [
      "hi anjana\n",
      "hi sanjana\n",
      "hi vandana\n",
      "hello anjana\n",
      "hello sanjana\n",
      "hello vandana\n",
      "welcome anjana\n",
      "welcome sanjana\n",
      "welcome vandana\n"
     ]
    }
   ],
   "source": [
    "list1 = [\"hi\",\"hello\" ,\"welcome\"]\n",
    "names = [\"anjana\",\"sanjana\" ,\"vandana\"]\n",
    "\n",
    "for item in list1:\n",
    "    for name in names:\n",
    "        print(item , name)"
   ]
  },
  {
   "cell_type": "code",
   "execution_count": 17,
   "id": "b8508471",
   "metadata": {},
   "outputs": [
    {
     "name": "stdout",
     "output_type": "stream",
     "text": [
      "hi anjana\n",
      "hi sanjana\n",
      "hi vandana\n",
      "--------------------out from inner loop \n",
      "hello anjana\n",
      "hello sanjana\n",
      "--------------------out from inner loop \n",
      "welcome anjana\n",
      "welcome sanjana\n",
      "welcome vandana\n",
      "--------------------out from inner loop \n",
      "out from loop\n"
     ]
    }
   ],
   "source": [
    "list1 = [\"hi\",\"hello\" ,\"welcome\"]\n",
    "names = [\"anjana\",\"sanjana\" ,\"vandana\"]\n",
    "\n",
    "for item in list1:\n",
    "    for name in names:\n",
    "        print(item , name)\n",
    "        if item == \"hello\" and name == \"sanjana\":\n",
    "            break\n",
    "    print(\"--------------------out from inner loop \")  # this statement is under \"for\" of list1 .\n",
    "\n",
    "print(\"out from loop\")\n",
    "\n",
    "# when we put print(after break) under for (of names), it shows that print this statememt after done with one name from names.."
   ]
  },
  {
   "cell_type": "code",
   "execution_count": 18,
   "id": "885b3667",
   "metadata": {},
   "outputs": [
    {
     "name": "stdout",
     "output_type": "stream",
     "text": [
      "hi anjana\n",
      "---------------done \n",
      "hi sanjana\n",
      "---------------done \n",
      "hi vandana\n",
      "---------------done \n",
      "hello anjana\n",
      "---------------done \n",
      "hello sanjana\n",
      "welcome anjana\n",
      "---------------done \n",
      "welcome sanjana\n",
      "---------------done \n",
      "welcome vandana\n",
      "---------------done \n",
      "out from loop\n"
     ]
    }
   ],
   "source": [
    "list1 = [\"hi\",\"hello\" ,\"welcome\"]\n",
    "names = [\"anjana\",\"sanjana\" ,\"vandana\"]\n",
    "\n",
    "for item in list1:\n",
    "    for name in names:\n",
    "        print(item , name)\n",
    "        if item == \"hello\" and name == \"sanjana\":\n",
    "            break\n",
    "        print(\"---------------done \")  # print this statement after done with one name of names..... \n",
    "                                                      # this print is under \"for\" of list1. \n",
    "print(\"out from loop\")"
   ]
  },
  {
   "cell_type": "markdown",
   "id": "7bc80467",
   "metadata": {},
   "source": [
    "CONTINUE"
   ]
  },
  {
   "cell_type": "code",
   "execution_count": 24,
   "id": "97e2edc8",
   "metadata": {},
   "outputs": [
    {
     "name": "stdout",
     "output_type": "stream",
     "text": [
      "hi anjana\n",
      "-------------- finish \n",
      "hi sanjana\n",
      "-------------- finish \n",
      "hi vandana\n",
      "-------------- finish \n",
      "hello anjana\n",
      "-------------- finish \n",
      "hello sanjana\n",
      "hello vandana\n",
      "-------------- finish \n",
      "welcome anjana\n",
      "-------------- finish \n",
      "welcome sanjana\n",
      "-------------- finish \n",
      "welcome vandana\n",
      "-------------- finish \n",
      "out from loop\n"
     ]
    }
   ],
   "source": [
    "list1 = [\"hi\",\"hello\" ,\"welcome\"]\n",
    "names = [\"anjana\",\"sanjana\" ,\"vandana\"]\n",
    "\n",
    "for item in list1:\n",
    "    for name in names:\n",
    "        print(item , name)\n",
    "        if item == \"hello\" and name == \"sanjana\":\n",
    "            continue\n",
    "    \n",
    "        print(\"-------------- finish \")\n",
    "\n",
    "print(\"out from loop\")\n",
    "# continue make to skip it remaing loop body  ..it start again ."
   ]
  },
  {
   "cell_type": "code",
   "execution_count": 20,
   "id": "9780b143",
   "metadata": {},
   "outputs": [
    {
     "name": "stdout",
     "output_type": "stream",
     "text": [
      "1\n",
      "hello\n",
      "2\n",
      "hello\n",
      "3\n",
      "hello\n",
      "4\n",
      "5\n",
      "hello\n",
      "6\n",
      "hello\n",
      "7\n",
      "hello\n",
      "out from loop\n"
     ]
    }
   ],
   "source": [
    "count = 1\n",
    "while count <= 7:\n",
    "    print(count)\n",
    "    count = count + 1\n",
    "    if count == 5:\n",
    "        continue\n",
    "    else:\n",
    "        print(\"hello\")\n",
    "\n",
    "        \n",
    "print(\"out from loop\")"
   ]
  },
  {
   "cell_type": "code",
   "execution_count": 9,
   "id": "587db64e",
   "metadata": {},
   "outputs": [
    {
     "name": "stdout",
     "output_type": "stream",
     "text": [
      "0\n",
      "hi , 1\n",
      "hi , 2\n",
      "hi , 3\n",
      "hi , 4\n",
      "hi , 5\n",
      "out from loop\n"
     ]
    }
   ],
   "source": [
    "for i in range(0,10):\n",
    "    print(i)\n",
    "    if i == 5:\n",
    "        break\n",
    "    print(\"hi\" , end =\" , \")\n",
    "    \n",
    "print(\"out from loop\")"
   ]
  },
  {
   "cell_type": "code",
   "execution_count": 26,
   "id": "91ad26e3",
   "metadata": {},
   "outputs": [
    {
     "name": "stdout",
     "output_type": "stream",
     "text": [
      "0\n",
      "0\n",
      "1\n",
      "1\n",
      "2\n",
      "2\n",
      "3\n",
      "4\n",
      "4\n"
     ]
    }
   ],
   "source": [
    "for i in range(0,5):\n",
    "    print(i)\n",
    "    if i ==3:\n",
    "        continue\n",
    "    else:\n",
    "        print(i)\n",
    "\n"
   ]
  },
  {
   "cell_type": "raw",
   "id": "ae59b2fd",
   "metadata": {},
   "source": [
    "pass = do nothing write now .....but we use it avoid error . keep it for future use..\n",
    "we use pass because we can not leave loop incomplete...."
   ]
  },
  {
   "cell_type": "code",
   "execution_count": 34,
   "id": "310ada0f",
   "metadata": {},
   "outputs": [
    {
     "ename": "SyntaxError",
     "evalue": "incomplete input (1925085379.py, line 1)",
     "output_type": "error",
     "traceback": [
      "\u001b[1;36m  Cell \u001b[1;32mIn[34], line 1\u001b[1;36m\u001b[0m\n\u001b[1;33m    for i in range(5):\u001b[0m\n\u001b[1;37m                      ^\u001b[0m\n\u001b[1;31mSyntaxError\u001b[0m\u001b[1;31m:\u001b[0m incomplete input\n"
     ]
    }
   ],
   "source": [
    "for i in range(5):"
   ]
  },
  {
   "cell_type": "code",
   "execution_count": 35,
   "id": "c8933337",
   "metadata": {},
   "outputs": [],
   "source": [
    "for i in range(5):\n",
    "    pass"
   ]
  },
  {
   "cell_type": "code",
   "execution_count": 36,
   "id": "823bd316",
   "metadata": {},
   "outputs": [
    {
     "name": "stdout",
     "output_type": "stream",
     "text": [
      "0\n",
      "1\n",
      "2\n",
      "3\n",
      "it is 3\n",
      "4\n",
      "done with loop\n"
     ]
    }
   ],
   "source": [
    "for i in range(5):\n",
    "    print(i)\n",
    "    if i ==3:\n",
    "        print(\"it is 3\")\n",
    "print(\"done with loop\")"
   ]
  },
  {
   "cell_type": "code",
   "execution_count": 6,
   "id": "6cf24f11",
   "metadata": {},
   "outputs": [
    {
     "name": "stdout",
     "output_type": "stream",
     "text": [
      "1\n",
      "hi\n",
      "2\n",
      "hi\n",
      "3\n",
      "hi\n",
      "4\n",
      "hi\n",
      "5\n",
      "hi\n",
      " ---------------------because of pass count ==3 does not apply ...\n"
     ]
    }
   ],
   "source": [
    "count = 1\n",
    "while count<=5:\n",
    "    print(count)\n",
    "    count= count+1\n",
    "    if count == 3:\n",
    "        pass\n",
    "    print(\"hi\")\n",
    "print(\" ---------------------because of pass count ==3 does not apply ...\")"
   ]
  },
  {
   "cell_type": "code",
   "execution_count": null,
   "id": "5c5f60d0",
   "metadata": {},
   "outputs": [],
   "source": []
  }
 ],
 "metadata": {
  "kernelspec": {
   "display_name": "Python 3 (ipykernel)",
   "language": "python",
   "name": "python3"
  },
  "language_info": {
   "codemirror_mode": {
    "name": "ipython",
    "version": 3
   },
   "file_extension": ".py",
   "mimetype": "text/x-python",
   "name": "python",
   "nbconvert_exporter": "python",
   "pygments_lexer": "ipython3",
   "version": "3.11.3"
  }
 },
 "nbformat": 4,
 "nbformat_minor": 5
}
