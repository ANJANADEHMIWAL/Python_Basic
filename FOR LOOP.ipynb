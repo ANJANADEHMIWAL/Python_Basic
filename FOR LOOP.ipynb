{
 "cells": [
  {
   "cell_type": "markdown",
   "id": "f81c68a7",
   "metadata": {},
   "source": [
    "#                  FOR LOOP "
   ]
  },
  {
   "cell_type": "code",
   "execution_count": 42,
   "id": "c1fe7080",
   "metadata": {},
   "outputs": [
    {
     "name": "stdout",
     "output_type": "stream",
     "text": [
      "anjana\n",
      "ranju\n",
      "anju\n",
      "kaju\n"
     ]
    }
   ],
   "source": [
    "# there is list \n",
    "names =[\"anjana\",\"ranju\",\"anju\",\"kaju\"]\n",
    "for name in names:\n",
    "    print(name)"
   ]
  },
  {
   "cell_type": "code",
   "execution_count": 6,
   "id": "1676f271",
   "metadata": {},
   "outputs": [
    {
     "name": "stdout",
     "output_type": "stream",
     "text": [
      "3 X 1  =  3\n",
      "3 X 2  =  6\n",
      "3 X 3  =  9\n",
      "3 X 4  =  12\n",
      "3 X 5  =  15\n",
      "3 X 6  =  18\n",
      "3 X 7  =  21\n",
      "3 X 8  =  24\n",
      "3 X 9  =  27\n",
      "3 X 10  =  30\n"
     ]
    }
   ],
   "source": [
    "for i in range(1,11):\n",
    "    print(3 , \"X\" , i ,\" = \" ,3*i )"
   ]
  },
  {
   "cell_type": "code",
   "execution_count": 3,
   "id": "db195753",
   "metadata": {},
   "outputs": [
    {
     "name": "stdout",
     "output_type": "stream",
     "text": [
      "anjana\n"
     ]
    }
   ],
   "source": [
    "#  it is also list .\n",
    "names = [\"anjana\"]\n",
    "for name in names :\n",
    "    print(name)"
   ]
  },
  {
   "cell_type": "code",
   "execution_count": 4,
   "id": "729b6c36",
   "metadata": {},
   "outputs": [
    {
     "name": "stdout",
     "output_type": "stream",
     "text": [
      "a\n",
      "n\n",
      "j\n",
      "a\n",
      "n\n",
      "a\n"
     ]
    }
   ],
   "source": [
    "#  there is string .\n",
    "names= \"anjana\"\n",
    "for letter in names :\n",
    "    print(letter)"
   ]
  },
  {
   "cell_type": "code",
   "execution_count": 5,
   "id": "65ddab68",
   "metadata": {},
   "outputs": [
    {
     "name": "stdout",
     "output_type": "stream",
     "text": [
      "anjana\n",
      "ranju\n",
      "anju\n",
      "hi it's me anjana\n",
      "kaju\n"
     ]
    }
   ],
   "source": [
    "names =[\"anjana\",\"ranju\",\"anju\",\"kaju\"]\n",
    "for name in names:\n",
    "    print(name)\n",
    "    if name==\"anju\":\n",
    "        print(\"hi it's me anjana\")"
   ]
  },
  {
   "cell_type": "code",
   "execution_count": 15,
   "id": "14d137c5",
   "metadata": {},
   "outputs": [
    {
     "name": "stdout",
     "output_type": "stream",
     "text": [
      "4\n",
      "9\n",
      "25\n",
      "16\n"
     ]
    }
   ],
   "source": [
    "list1 = [ 2,3,5,4]\n",
    "for number in list1 :\n",
    "    square = number**2\n",
    "    print(square)"
   ]
  },
  {
   "cell_type": "code",
   "execution_count": 16,
   "id": "a7f8db11",
   "metadata": {},
   "outputs": [
    {
     "name": "stdout",
     "output_type": "stream",
     "text": [
      "[4]\n",
      "[4, 9]\n",
      "[4, 9, 25]\n",
      "[4, 9, 25, 16]\n"
     ]
    }
   ],
   "source": [
    "list1 = [ 2,3,5,4]\n",
    "square_list1 = []\n",
    "\n",
    "for number in list1 :\n",
    "    square = number**2\n",
    "    square_list1.append(square)\n",
    "    print(square_list1)"
   ]
  },
  {
   "cell_type": "code",
   "execution_count": 18,
   "id": "cf863019",
   "metadata": {},
   "outputs": [
    {
     "name": "stdout",
     "output_type": "stream",
     "text": [
      "[4, 9, 25, 16]\n"
     ]
    }
   ],
   "source": [
    "list1 = [ 2,3,5,4]\n",
    "square_list1 = []\n",
    "\n",
    "for number in list1 :\n",
    "    square = number**2\n",
    "    square_list1.append(square)\n",
    "print(square_list1)"
   ]
  },
  {
   "cell_type": "markdown",
   "id": "9afbb549",
   "metadata": {},
   "source": [
    "FOR ELSE"
   ]
  },
  {
   "cell_type": "code",
   "execution_count": 32,
   "id": "0c7d84a3",
   "metadata": {},
   "outputs": [
    {
     "name": "stdout",
     "output_type": "stream",
     "text": [
      "23\n",
      "anjana\n",
      "-1\n",
      "0\n",
      " work is done\n"
     ]
    }
   ],
   "source": [
    "number = [23,\"anjana\",-1,0]\n",
    "\n",
    "for i in number:\n",
    "    print(i)\n",
    "else :\n",
    "    print(\" work is done\")\n",
    "    \n",
    "# In loop case , else condition will print only after succesfully printing of if condition. "
   ]
  },
  {
   "cell_type": "code",
   "execution_count": 52,
   "id": "53b1db29",
   "metadata": {},
   "outputs": [
    {
     "name": "stdout",
     "output_type": "stream",
     "text": [
      "2 not divisible by 6\n",
      "56 not divisible by 6\n",
      "34 not divisible by 6\n",
      "3.5 not divisible by 6\n",
      "-1 not divisible by 6\n"
     ]
    }
   ],
   "source": [
    "tuple1 = (2,56,34,3.5,-1)\n",
    "for i in tuple1:\n",
    "    if i%6==0:\n",
    "        print(i , \"divisible by 6\")\n",
    "        break\n",
    "    else:\n",
    "        print(i ,\"not divisible by 6\")\n",
    "        \n",
    "# here break staatement is never touched becoz i%6 is never true ."
   ]
  },
  {
   "cell_type": "code",
   "execution_count": 54,
   "id": "c8042e86",
   "metadata": {},
   "outputs": [
    {
     "name": "stdout",
     "output_type": "stream",
     "text": [
      "not divisible by 6\n"
     ]
    }
   ],
   "source": [
    "tuple1 = (2,56,34,3.5,-1)\n",
    "for i in tuple1:\n",
    "    if i%6==0:\n",
    "        print(i , \"divisible by 6\")\n",
    "        break\n",
    "else:\n",
    "    print(\"not divisible by 6\")"
   ]
  },
  {
   "cell_type": "code",
   "execution_count": 75,
   "id": "4c85bf5b",
   "metadata": {},
   "outputs": [
    {
     "name": "stdout",
     "output_type": "stream",
     "text": [
      "enter classmates height , seperated by space  : 23 43 65 90 76 34 87 \n",
      "['23', '43', '65', '90', '76', '34', '87']\n"
     ]
    }
   ],
   "source": [
    "#  want to store user given data into list \n",
    "heights = input(\"enter classmates height , seperated by space  : \")\n",
    "\n",
    "# split() is the function we have to use for conversion .\n",
    "height_list = heights.split()\n",
    "print(height_list)\n",
    "\n",
    "# imp point all the height in the list (height_list)  are str not int.....for conversion we have to use for loop with range .\n",
    "# As there is user input so range starting index no. will be 0 and for last index no. we need to another variable .eg count=0 . "
   ]
  },
  {
   "cell_type": "code",
   "execution_count": 82,
   "id": "4e08d611",
   "metadata": {},
   "outputs": [
    {
     "name": "stdout",
     "output_type": "stream",
     "text": [
      "enter height, seperated by a space  : 23 45 65 90 78\n",
      "no. of height in list  5\n",
      " this is my height_list  [23, 45, 65, 90, 78]\n",
      "average of height in height_list is :  60.2\n",
      "60\n"
     ]
    }
   ],
   "source": [
    "# program to calculate average height from a list of height .\n",
    "\n",
    "height = input(\"enter height, seperated by a space  : \")\n",
    "\n",
    "#  hint = use split function (use, to transfer  str (given by user) into list .)\n",
    "#  then we need to convert str in list into into int by using index no. slicing .\n",
    "# height_list will contain all the  input (height) given by user \n",
    "height_list = height.split()\n",
    "\n",
    "# now covert height_list item from str into int .\n",
    "# but fist need to find  length of  height_list for range which is starting from zero upto count (as theere is user input)\n",
    "\n",
    "# this count at last will show  no. of height in list(length of list) .\n",
    "count = 0\n",
    "for height in height_list :\n",
    "    count =count+1\n",
    "print( \"no. of height in list \" , count)\n",
    "\n",
    "# now convert str into int of height_list \n",
    "\n",
    "for height in range(0,count):\n",
    "    height_list[ height ] = int(height_list[ height ] )\n",
    "print(\" this is my height_list \" , height_list)\n",
    "# it is giving list having HEIGHTS in int form .\n",
    "\n",
    "# now find  average of height in height_list.\n",
    "total = 0\n",
    "for height in height_list :\n",
    "    total= total+ height\n",
    "    average = total/count\n",
    "print(\"average of height in height_list is : \" , average)\n",
    "\n",
    "# average answer in whole number(include zero to +ve no. ...does not include decimal,fraction and -ve no.).\n",
    "print(round(average))\n"
   ]
  },
  {
   "cell_type": "code",
   "execution_count": 90,
   "id": "c4952a60",
   "metadata": {},
   "outputs": [
    {
     "name": "stdout",
     "output_type": "stream",
     "text": [
      "enter number , seperated by space : 45 65 78 99 87 67\n",
      "no. given by user :  45 65 78 99 87 67\n",
      "number in list(in str form)  ['45', '65', '78', '99', '87', '67']\n",
      "total number in list is  6\n",
      "number in list (in int form ) :   [45, 65, 78, 99, 87, 67]\n",
      "maximum number is 99\n"
     ]
    }
   ],
   "source": [
    "# programme to find maximum no. from the list\n",
    "\n",
    "number = input(\"enter number , seperated by space : \")\n",
    "print(\"no. given by user : \" , number )\n",
    "\n",
    "# transfer int into list using split()\n",
    "number_list = number.split()\n",
    "print(\"number in list(in str form) \" , number_list)\n",
    "\n",
    "# now convert str(item) in list into int(item) using range .\n",
    "\n",
    "count = 0\n",
    "for number in number_list :\n",
    "    count = count+1\n",
    "print(\"total number in list is \" , count)\n",
    "# put range for actual conversion \n",
    "for number in range(0,count):\n",
    "    number_list[number] = int(number_list[number])\n",
    "print(\"number in list (in int form ) :  \",number_list)\n",
    "\n",
    "\n",
    "# now find maximum no. in list \n",
    "\n",
    "maximum_number = number_list[0]  # (let assume this line , 0 = first no. of list . equation 1) \n",
    "for number in number_list:\n",
    "    if number > maximum_number :\n",
    "        maximum_number = number       #( a=b , c=b  result  a=c ..see equation 1 )\n",
    "print(f\"maximum number is {maximum_number}\")\n",
    "    "
   ]
  },
  {
   "cell_type": "code",
   "execution_count": 106,
   "id": "96a7281a",
   "metadata": {},
   "outputs": [
    {
     "name": "stdout",
     "output_type": "stream",
     "text": [
      "sum of even  no. between 1 to 101 is :  2550\n"
     ]
    }
   ],
   "source": [
    "#  calculate sum of even no. from 1 to 100 .including 1 and 100\n",
    "\n",
    "sum_even_number = 0\n",
    "for number in range(1,101):\n",
    "    if number % 2 ==0 :\n",
    "        sum_even_number += number\n",
    "print(\"sum of even  no. between 1 to 101 is : \" , sum_even_number ) "
   ]
  },
  {
   "cell_type": "code",
   "execution_count": 108,
   "id": "7a343b98",
   "metadata": {},
   "outputs": [
    {
     "name": "stdout",
     "output_type": "stream",
     "text": [
      "sum of even  no. between 1 to 101 is :  2550\n"
     ]
    }
   ],
   "source": [
    "sum_even_number = 0\n",
    "for number in range(2,101,2):\n",
    "    sum_even_number += number\n",
    "print(\"sum of even  no. between 1 to 101 is : \" , sum_even_number ) "
   ]
  },
  {
   "cell_type": "code",
   "execution_count": 115,
   "id": "ac58f9f4",
   "metadata": {},
   "outputs": [
    {
     "name": "stdout",
     "output_type": "stream",
     "text": [
      "2, 4, 6, 8, 10, 12, 14, 16, 18, 20, 22, 24, 26, 28, 30, 32, 34, 36, 38, 40, 42, 44, 46, 48, 50, 52, 54, 56, 58, 60, 62, 64, 66, 68, 70, 72, 74, 76, 78, 80, 82, 84, 86, 88, 90, 92, 94, 96, 98, 100, "
     ]
    }
   ],
   "source": [
    "# even no. between 1 to 101\n",
    "\n",
    "for number in range(1,101):\n",
    "    if number % 2 ==0 :\n",
    "        print(number, end =\", \") "
   ]
  },
  {
   "cell_type": "code",
   "execution_count": 8,
   "id": "013868e5",
   "metadata": {},
   "outputs": [
    {
     "name": "stdout",
     "output_type": "stream",
     "text": [
      "1 , 2 , fizz , 4 , buzz , fizz , 7 , 8 , fizz , buzz , 11 , fizz , 13 , 14 , fuzz buzz , 16 , 17 , fizz , 19 , buzz , fizz , 22 , 23 , fizz , buzz , 26 , fizz , 28 , 29 , fuzz buzz , 31 , 32 , fizz , 34 , buzz , fizz , 37 , 38 , fizz , buzz , 41 , fizz , 43 , 44 , fuzz buzz , 46 , 47 , fizz , 49 , buzz , fizz , 52 , 53 , fizz , buzz , 56 , fizz , 58 , 59 , fuzz buzz , 61 , 62 , fizz , 64 , buzz , fizz , 67 , 68 , fizz , buzz , 71 , fizz , 73 , 74 , fuzz buzz , 76 , 77 , fizz , 79 , buzz , fizz , 82 , 83 , fizz , buzz , 86 , fizz , 88 , 89 , fuzz buzz , 91 , 92 , fizz , 94 , buzz , fizz , 97 , 98 , fizz , buzz , "
     ]
    }
   ],
   "source": [
    "# order of condition is imp here....\n",
    "\n",
    "for number in range(1,101):\n",
    "    if number % 3 ==0 and number % 5 ==0:\n",
    "        print(\"fuzz buzz\",end=\" , \")\n",
    "    elif number % 5 == 0:\n",
    "        print(\"buzz\",end=\" , \")\n",
    "    elif number % 3 ==0:\n",
    "        print(\"fizz\",end=\" , \")\n",
    "    else :\n",
    "        print(number,end=\" , \")"
   ]
  },
  {
   "cell_type": "code",
   "execution_count": null,
   "id": "c530ad32",
   "metadata": {},
   "outputs": [],
   "source": [
    "# generate passward\n",
    "\n"
   ]
  },
  {
   "cell_type": "code",
   "execution_count": null,
   "id": "be4edfa4",
   "metadata": {},
   "outputs": [],
   "source": []
  },
  {
   "cell_type": "code",
   "execution_count": null,
   "id": "bad809c3",
   "metadata": {},
   "outputs": [],
   "source": []
  },
  {
   "cell_type": "markdown",
   "id": "25ab9a6c",
   "metadata": {},
   "source": [
    "BREAK"
   ]
  },
  {
   "cell_type": "code",
   "execution_count": 38,
   "id": "df980334",
   "metadata": {},
   "outputs": [
    {
     "name": "stdout",
     "output_type": "stream",
     "text": [
      "23\n",
      "anjana\n"
     ]
    }
   ],
   "source": [
    "number = [23,\"anjana\",-1,0]\n",
    "\n",
    "for i in number:\n",
    "    print(i)\n",
    "    if i==\"anjana\":\n",
    "        break\n",
    "else :\n",
    "    print(\" work is done\")\n",
    "    \n",
    "# break stop loop at a given item ...and after completion of if ...else statement start..."
   ]
  },
  {
   "cell_type": "code",
   "execution_count": 43,
   "id": "333b309c",
   "metadata": {},
   "outputs": [
    {
     "name": "stdout",
     "output_type": "stream",
     "text": [
      "[4, 9]\n"
     ]
    }
   ],
   "source": [
    "list1 = [ 2,3,5,4]\n",
    "square_list1 = []\n",
    "\n",
    "for number in list1 :\n",
    "    square = number**2\n",
    "    \n",
    "    if square == 25 :\n",
    "        break\n",
    "    \n",
    "    square_list1.append(square)\n",
    "\n",
    "print(square_list1)"
   ]
  },
  {
   "cell_type": "code",
   "execution_count": 46,
   "id": "4af4d85e",
   "metadata": {},
   "outputs": [
    {
     "name": "stdout",
     "output_type": "stream",
     "text": [
      "[4, 9]\n"
     ]
    }
   ],
   "source": [
    "list1 = [ 2,3,5,4]\n",
    "square_list1 = []\n",
    "\n",
    "for number in list1 :\n",
    "    if number % 5 ==0 :\n",
    "        break\n",
    "    \n",
    "    square = number**2\n",
    "    square_list1.append(square)\n",
    "\n",
    "print(square_list1)"
   ]
  },
  {
   "cell_type": "code",
   "execution_count": null,
   "id": "b04c72e6",
   "metadata": {},
   "outputs": [],
   "source": []
  }
 ],
 "metadata": {
  "kernelspec": {
   "display_name": "Python 3 (ipykernel)",
   "language": "python",
   "name": "python3"
  },
  "language_info": {
   "codemirror_mode": {
    "name": "ipython",
    "version": 3
   },
   "file_extension": ".py",
   "mimetype": "text/x-python",
   "name": "python",
   "nbconvert_exporter": "python",
   "pygments_lexer": "ipython3",
   "version": "3.11.3"
  }
 },
 "nbformat": 4,
 "nbformat_minor": 5
}
