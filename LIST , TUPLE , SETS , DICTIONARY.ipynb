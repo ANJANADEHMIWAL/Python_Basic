{
 "cells": [
  {
   "cell_type": "markdown",
   "id": "9643e3f1",
   "metadata": {},
   "source": [
    "#    LIST"
   ]
  },
  {
   "cell_type": "raw",
   "id": "be7707ad",
   "metadata": {},
   "source": [
    "LIST , TUPLE , SETS AND DICTIONARY = COLLECTIVE DATA TYPE "
   ]
  },
  {
   "cell_type": "code",
   "execution_count": 7,
   "id": "8ef755e9",
   "metadata": {},
   "outputs": [
    {
     "name": "stdout",
     "output_type": "stream",
     "text": [
      "[1, 7, 'anjana', 3.4, True, False, 9.4]\n"
     ]
    }
   ],
   "source": [
    "number = [1,7,\"anjana\",3.4, True , False, 9.4]\n",
    "\n",
    "print(number)"
   ]
  },
  {
   "cell_type": "code",
   "execution_count": 8,
   "id": "cf31c16a",
   "metadata": {},
   "outputs": [
    {
     "name": "stdout",
     "output_type": "stream",
     "text": [
      "1\n"
     ]
    }
   ],
   "source": [
    "# slicing\n",
    "\n",
    "print(number[0])"
   ]
  },
  {
   "cell_type": "code",
   "execution_count": 9,
   "id": "a091969b",
   "metadata": {},
   "outputs": [
    {
     "name": "stdout",
     "output_type": "stream",
     "text": [
      "7\n"
     ]
    }
   ],
   "source": [
    "print(number[1])"
   ]
  },
  {
   "cell_type": "code",
   "execution_count": 10,
   "id": "425b58fc",
   "metadata": {},
   "outputs": [
    {
     "name": "stdout",
     "output_type": "stream",
     "text": [
      "9.4\n"
     ]
    }
   ],
   "source": [
    "print(number[-1])"
   ]
  },
  {
   "cell_type": "code",
   "execution_count": 12,
   "id": "576a7137",
   "metadata": {},
   "outputs": [
    {
     "name": "stdout",
     "output_type": "stream",
     "text": [
      "anjana\n"
     ]
    }
   ],
   "source": [
    "print(number[2])"
   ]
  },
  {
   "cell_type": "code",
   "execution_count": 13,
   "id": "11342b9f",
   "metadata": {},
   "outputs": [
    {
     "name": "stdout",
     "output_type": "stream",
     "text": [
      "7\n"
     ]
    }
   ],
   "source": [
    "print(len(number))"
   ]
  },
  {
   "cell_type": "code",
   "execution_count": 15,
   "id": "daab60cb",
   "metadata": {},
   "outputs": [
    {
     "name": "stdout",
     "output_type": "stream",
     "text": [
      "[1, 7, 'anjana', 3.4, True]\n"
     ]
    }
   ],
   "source": [
    "print(number[0 :5])"
   ]
  },
  {
   "cell_type": "code",
   "execution_count": 16,
   "id": "94ffdafb",
   "metadata": {},
   "outputs": [
    {
     "name": "stdout",
     "output_type": "stream",
     "text": [
      "[1, 7, 'anjana', 3.4, True, False, 9.4]\n"
     ]
    }
   ],
   "source": [
    "print(number[ : :])"
   ]
  },
  {
   "cell_type": "code",
   "execution_count": 23,
   "id": "42812a1a",
   "metadata": {},
   "outputs": [
    {
     "name": "stdout",
     "output_type": "stream",
     "text": [
      "[1, 7, 'anjana', 3.4, True, False, 9.4]\n"
     ]
    }
   ],
   "source": [
    "print(number[:])"
   ]
  },
  {
   "cell_type": "code",
   "execution_count": 20,
   "id": "66679d83",
   "metadata": {},
   "outputs": [
    {
     "name": "stdout",
     "output_type": "stream",
     "text": [
      "[1, 'anjana', True, 9.4]\n"
     ]
    }
   ],
   "source": [
    "print(number[ : 7 :2])"
   ]
  },
  {
   "cell_type": "code",
   "execution_count": 21,
   "id": "ff1a346e",
   "metadata": {},
   "outputs": [
    {
     "name": "stdout",
     "output_type": "stream",
     "text": [
      "[9.4, True, 'anjana', 1]\n"
     ]
    }
   ],
   "source": [
    "print(number[7: : -2])"
   ]
  },
  {
   "cell_type": "code",
   "execution_count": 22,
   "id": "11fc9289",
   "metadata": {},
   "outputs": [
    {
     "name": "stdout",
     "output_type": "stream",
     "text": [
      "[9.4, False, True, 3.4, 'anjana', 7, 1]\n"
     ]
    }
   ],
   "source": [
    "print(number[ : : -1])"
   ]
  },
  {
   "cell_type": "code",
   "execution_count": 35,
   "id": "79ac2fba",
   "metadata": {},
   "outputs": [
    {
     "name": "stdout",
     "output_type": "stream",
     "text": [
      "[-1, True, 3.5, 4, 4, 4.5, 35]\n"
     ]
    }
   ],
   "source": [
    "list1 =[4 ,-1, 35 , 4 , 4.5 , True , 3.5]\n",
    "\n",
    "list1.sort()\n",
    "print(list1)"
   ]
  },
  {
   "cell_type": "code",
   "execution_count": 36,
   "id": "14f025fc",
   "metadata": {},
   "outputs": [
    {
     "ename": "TypeError",
     "evalue": "'<' not supported between instances of 'str' and 'int'",
     "output_type": "error",
     "traceback": [
      "\u001b[1;31m---------------------------------------------------------------------------\u001b[0m",
      "\u001b[1;31mTypeError\u001b[0m                                 Traceback (most recent call last)",
      "Cell \u001b[1;32mIn[36], line 3\u001b[0m\n\u001b[0;32m      1\u001b[0m list1 \u001b[38;5;241m=\u001b[39m[\u001b[38;5;241m4\u001b[39m ,\u001b[38;5;241m-\u001b[39m\u001b[38;5;241m1\u001b[39m, \u001b[38;5;241m35\u001b[39m , \u001b[38;5;241m4\u001b[39m , \u001b[38;5;241m4.5\u001b[39m , \u001b[38;5;28;01mTrue\u001b[39;00m , \u001b[38;5;241m3.5\u001b[39m ,\u001b[38;5;124m\"\u001b[39m\u001b[38;5;124manjana\u001b[39m\u001b[38;5;124m\"\u001b[39m ]\n\u001b[1;32m----> 3\u001b[0m list1\u001b[38;5;241m.\u001b[39msort()\n\u001b[0;32m      4\u001b[0m \u001b[38;5;28mprint\u001b[39m(list1)\n",
      "\u001b[1;31mTypeError\u001b[0m: '<' not supported between instances of 'str' and 'int'"
     ]
    }
   ],
   "source": [
    "list1 =[4 ,-1, 35 , 4 , 4.5 , True , 3.5 ,\"anjana\" ]\n",
    "\n",
    "list1.sort()\n",
    "print(list1)\n",
    "#  stort mean arrangeing in < order......\n",
    "# sort does not support str with int...but support bullion (true)...."
   ]
  },
  {
   "cell_type": "code",
   "execution_count": 37,
   "id": "6b832f0d",
   "metadata": {},
   "outputs": [
    {
     "name": "stdout",
     "output_type": "stream",
     "text": [
      "['anjana', 3.5, True, 4.5, 4, 35, -1, 4]\n"
     ]
    }
   ],
   "source": [
    "list1 =[4 ,-1, 35 , 4 , 4.5 , True , 3.5 ,\"anjana\" ]\n",
    "\n",
    "list1.reverse()\n",
    "print(list1)"
   ]
  },
  {
   "cell_type": "code",
   "execution_count": 45,
   "id": "2b27358e",
   "metadata": {},
   "outputs": [
    {
     "name": "stdout",
     "output_type": "stream",
     "text": [
      "[23, 54, 65, 'anjana', 34]\n"
     ]
    }
   ],
   "source": [
    "b= [ 23,54,65,\"anjana\"]\n",
    "\n",
    "# append add in list at last..\n",
    "b.append(34)\n",
    "print(b)"
   ]
  },
  {
   "cell_type": "code",
   "execution_count": 48,
   "id": "1bde9d85",
   "metadata": {},
   "outputs": [
    {
     "name": "stdout",
     "output_type": "stream",
     "text": [
      "[34, 65, 55, 'anjana']\n"
     ]
    }
   ],
   "source": [
    "c= [34,65,\"anjana\"]\n",
    "\n",
    "# insert add in list at a selected position..\n",
    "c.insert(2,55)\n",
    "print(c)"
   ]
  },
  {
   "cell_type": "code",
   "execution_count": 51,
   "id": "c9ab931a",
   "metadata": {},
   "outputs": [
    {
     "name": "stdout",
     "output_type": "stream",
     "text": [
      "[34, 65, 55, 'anjana', 35, 85, 'sanjana']\n"
     ]
    }
   ],
   "source": [
    "# add more then one item ....\n",
    "\n",
    "c.extend( [35,85,\"sanjana\"] )\n",
    "print(c)"
   ]
  },
  {
   "cell_type": "code",
   "execution_count": 52,
   "id": "584e74b8",
   "metadata": {},
   "outputs": [
    {
     "name": "stdout",
     "output_type": "stream",
     "text": [
      "[34, 65, 55, 'anjana', 35, 85, 'sanjana']\n"
     ]
    }
   ],
   "source": [
    "print(c)"
   ]
  },
  {
   "cell_type": "code",
   "execution_count": 53,
   "id": "a97e18de",
   "metadata": {},
   "outputs": [
    {
     "name": "stdout",
     "output_type": "stream",
     "text": [
      "[34, 65, 55, 'manju', 35, 85, 'sanjana']\n"
     ]
    }
   ],
   "source": [
    "# change the data\n",
    "\n",
    "c[3]= \"manju\"\n",
    "print(c)"
   ]
  },
  {
   "cell_type": "code",
   "execution_count": 54,
   "id": "67e178f9",
   "metadata": {},
   "outputs": [
    {
     "name": "stdout",
     "output_type": "stream",
     "text": [
      "['jaipal', 'vandana', 'anjana', 55, 'manju', 35, 85, 'sanjana']\n"
     ]
    }
   ],
   "source": [
    "# want to change data from 0 to 2\n",
    "\n",
    "c[0:2]=[\"jaipal\" ,\"vandana\" ,\"anjana\"]\n",
    "print(c)"
   ]
  },
  {
   "cell_type": "code",
   "execution_count": 57,
   "id": "51c5ac03",
   "metadata": {},
   "outputs": [
    {
     "name": "stdout",
     "output_type": "stream",
     "text": [
      "['jaipal', 'vandana', 'anjana', 'manju', 35, 85, 'sanjana']\n"
     ]
    }
   ],
   "source": [
    "#  want to remove item from data...\n",
    "\n",
    "c.remove(55)\n",
    "print(c)"
   ]
  },
  {
   "cell_type": "code",
   "execution_count": 61,
   "id": "59d15361",
   "metadata": {},
   "outputs": [
    {
     "name": "stdout",
     "output_type": "stream",
     "text": [
      "[65, 48, 'anjana']\n"
     ]
    }
   ],
   "source": [
    "#  to remove last element by default..\n",
    "\n",
    "a= [65,48,\"anjana\",54.3]\n",
    "a.pop()\n",
    "print(a)"
   ]
  },
  {
   "cell_type": "code",
   "execution_count": 62,
   "id": "85484296",
   "metadata": {},
   "outputs": [
    {
     "name": "stdout",
     "output_type": "stream",
     "text": [
      "[65, 48]\n"
     ]
    }
   ],
   "source": [
    "# remove specific item.....\n",
    "\n",
    "a.pop(2)\n",
    "print(a)"
   ]
  },
  {
   "cell_type": "code",
   "execution_count": 69,
   "id": "5099e3a3",
   "metadata": {},
   "outputs": [
    {
     "name": "stdout",
     "output_type": "stream",
     "text": [
      "4\n"
     ]
    }
   ],
   "source": [
    "listok = [2,4,34,\"anjana\"]\n",
    "\n",
    "print(len(listok))"
   ]
  },
  {
   "cell_type": "code",
   "execution_count": 70,
   "id": "7a4bf32c",
   "metadata": {},
   "outputs": [
    {
     "name": "stdout",
     "output_type": "stream",
     "text": [
      "34\n"
     ]
    }
   ],
   "source": [
    "print(listok[-2])"
   ]
  },
  {
   "cell_type": "code",
   "execution_count": 71,
   "id": "3da7e044",
   "metadata": {},
   "outputs": [
    {
     "name": "stdout",
     "output_type": "stream",
     "text": [
      "34\n"
     ]
    }
   ],
   "source": [
    "print(listok[2])"
   ]
  },
  {
   "cell_type": "code",
   "execution_count": 75,
   "id": "2d28d065",
   "metadata": {},
   "outputs": [
    {
     "name": "stdout",
     "output_type": "stream",
     "text": [
      "hi,anjana \n"
     ]
    }
   ],
   "source": [
    "print(f\"hi,{ listok [-1] } \")"
   ]
  },
  {
   "cell_type": "code",
   "execution_count": null,
   "id": "9fd84948",
   "metadata": {},
   "outputs": [],
   "source": []
  },
  {
   "cell_type": "code",
   "execution_count": null,
   "id": "d84a98e3",
   "metadata": {},
   "outputs": [],
   "source": []
  },
  {
   "cell_type": "markdown",
   "id": "84ef4946",
   "metadata": {},
   "source": [
    "# Nested list"
   ]
  },
  {
   "cell_type": "code",
   "execution_count": 76,
   "id": "d2ca63f5",
   "metadata": {},
   "outputs": [
    {
     "data": {
      "text/plain": [
       "9"
      ]
     },
     "execution_count": 76,
     "metadata": {},
     "output_type": "execute_result"
    }
   ],
   "source": [
    "number =[1,23,65,23,8.9 , \"anjana\", True , [23,76,45,\"jaipal\"],5.6]\n",
    "\n",
    "len(number)"
   ]
  },
  {
   "cell_type": "code",
   "execution_count": 77,
   "id": "e763c37f",
   "metadata": {},
   "outputs": [
    {
     "name": "stdout",
     "output_type": "stream",
     "text": [
      "[23, 76, 45, 'jaipal']\n"
     ]
    }
   ],
   "source": [
    "print(number[-2])"
   ]
  },
  {
   "cell_type": "code",
   "execution_count": 78,
   "id": "0b398330",
   "metadata": {},
   "outputs": [
    {
     "name": "stdout",
     "output_type": "stream",
     "text": [
      "anjana\n"
     ]
    }
   ],
   "source": [
    "print(number[5])"
   ]
  },
  {
   "cell_type": "code",
   "execution_count": 79,
   "id": "7dbe1f78",
   "metadata": {},
   "outputs": [
    {
     "name": "stdout",
     "output_type": "stream",
     "text": [
      "5.6\n"
     ]
    }
   ],
   "source": [
    "print(number[8])"
   ]
  },
  {
   "cell_type": "code",
   "execution_count": 82,
   "id": "5b952b5d",
   "metadata": {},
   "outputs": [
    {
     "data": {
      "text/plain": [
       "'manju'"
      ]
     },
     "execution_count": 82,
     "metadata": {},
     "output_type": "execute_result"
    }
   ],
   "source": [
    "hello = [4,32,\"anjana\",[\"raju\", \"helocfdnv\" ,545,[\"jaipal\", \"manju\"] , \"nfjrng\" ,\"sanju \"],3456, \"duigdfuir\" , \"ok\" ,[\"zoya\"]]\n",
    "\n",
    "hello[3][3][-1]"
   ]
  },
  {
   "cell_type": "code",
   "execution_count": 83,
   "id": "75c410e1",
   "metadata": {},
   "outputs": [
    {
     "data": {
      "text/plain": [
       "['raju', 'helocfdnv', 545, ['jaipal', 'manju'], 'nfjrng', 'sanju ']"
      ]
     },
     "execution_count": 83,
     "metadata": {},
     "output_type": "execute_result"
    }
   ],
   "source": [
    "hello[3]"
   ]
  },
  {
   "cell_type": "code",
   "execution_count": 84,
   "id": "bdb0ede7",
   "metadata": {},
   "outputs": [
    {
     "data": {
      "text/plain": [
       "['zoya']"
      ]
     },
     "execution_count": 84,
     "metadata": {},
     "output_type": "execute_result"
    }
   ],
   "source": [
    "hello[-1]"
   ]
  },
  {
   "cell_type": "code",
   "execution_count": 85,
   "id": "b79d1eb9",
   "metadata": {},
   "outputs": [
    {
     "data": {
      "text/plain": [
       "3456"
      ]
     },
     "execution_count": 85,
     "metadata": {},
     "output_type": "execute_result"
    }
   ],
   "source": [
    "hello[-4]"
   ]
  },
  {
   "cell_type": "code",
   "execution_count": 86,
   "id": "c942e995",
   "metadata": {},
   "outputs": [
    {
     "name": "stdout",
     "output_type": "stream",
     "text": [
      "8\n"
     ]
    }
   ],
   "source": [
    "print(len(hello))"
   ]
  },
  {
   "cell_type": "code",
   "execution_count": 87,
   "id": "13511a10",
   "metadata": {},
   "outputs": [
    {
     "data": {
      "text/plain": [
       "'sanju '"
      ]
     },
     "execution_count": 87,
     "metadata": {},
     "output_type": "execute_result"
    }
   ],
   "source": [
    "hello[3][-1]"
   ]
  },
  {
   "cell_type": "code",
   "execution_count": 88,
   "id": "aa2176ad",
   "metadata": {},
   "outputs": [
    {
     "data": {
      "text/plain": [
       "[545, ['jaipal', 'manju'], 'nfjrng']"
      ]
     },
     "execution_count": 88,
     "metadata": {},
     "output_type": "execute_result"
    }
   ],
   "source": [
    "hello[3][2:5]"
   ]
  },
  {
   "cell_type": "code",
   "execution_count": 91,
   "id": "16741473",
   "metadata": {},
   "outputs": [
    {
     "name": "stdout",
     "output_type": "stream",
     "text": [
      "[1, 1, 1]\n",
      "[2, 2, 2]\n",
      "[3, 3, 3]\n"
     ]
    }
   ],
   "source": [
    "#  matrix from list\n",
    "\n",
    "row1 =[1,1,1]\n",
    "row2 =[2,2,2]\n",
    "row3 =[3,3,3]\n",
    "\n",
    "print(f\"{row1}\\n{row2}\\n{row3}\")"
   ]
  },
  {
   "cell_type": "code",
   "execution_count": 9,
   "id": "7ff8c76d",
   "metadata": {},
   "outputs": [
    {
     "name": "stdout",
     "output_type": "stream",
     "text": [
      "[1, 1, 1]\n",
      "[2, 2, 2]\n",
      "[3, 3, 3]\n",
      "enter the position user want to hide it money  : 32\n",
      "[1, 1, 1]\n",
      "[2, 2, 2]\n",
      "[3, 'X', 3]\n"
     ]
    }
   ],
   "source": [
    "#  now user want to hide its money in matrix ...\n",
    "\n",
    "row1 =[1,1,1]\n",
    "row2 =[2,2,2]\n",
    "row3 =[3,3,3]\n",
    "\n",
    "matrix = [row1,row2,row3]\n",
    "print(f\"{row1}\\n{row2}\\n{row3}\")\n",
    "\n",
    "position = input(\"enter the position user want to hide it money  : \")\n",
    "\n",
    "# here 3 represent row no. and 2 represent column ...\n",
    "\n",
    "# now covert str (32) into int..so that we can use index no. becoz during puting position there is no int ....\n",
    "row_number = int(position[0])\n",
    "column_number = int(position[1])\n",
    "\n",
    "row_selected =matrix [row_number-1]\n",
    "row_selected[column_number-1] = \"X\"\n",
    "\n",
    "print(f\"{row1}\\n{row2}\\n{row3}\")"
   ]
  },
  {
   "cell_type": "raw",
   "id": "96c22829",
   "metadata": {},
   "source": [
    " rock paper scissor \n",
    " \n",
    " rock win aganist scissor \n",
    " scissor win aganist paper\n",
    " paper wins aganist rock \n",
    " \n",
    " 0 for rock \n",
    " 1 for paper\n",
    " 2 for scissor \n",
    " \n",
    " user(0,1,2)           computer(0,1,2)\n",
    "    0                      0            draw\n",
    "    0                      1            computer win\n",
    "    0                      2            user win         (exception need seperate condition )\n",
    "    1                      0            user win\n",
    "    1                      1            draw\n",
    "    1                      2            computer win\n",
    "    2                      0            computer win     (expection need seperate condition)\n",
    "    2                      1            user win\n",
    "    2                      2            draw\n",
    "    \n",
    "order of putting condition is imp ....\n",
    "\n",
    "HINT = whoever putting bigger no. is winning ....\n",
    "       use import random module for computer side .....\n",
    "       \n",
    "       radint(0,2) with every run computer will give no. between 0,1,2 ....every time different no. "
   ]
  },
  {
   "cell_type": "code",
   "execution_count": 2,
   "id": "63b26252",
   "metadata": {},
   "outputs": [
    {
     "name": "stdout",
     "output_type": "stream",
     "text": [
      " chose rock , paper , scissor (from list(user) using index no.) :  0\n",
      "computer : \n",
      "2\n",
      "you win\n"
     ]
    }
   ],
   "source": [
    "#  rock paper scissor\n",
    "\n",
    "import random\n",
    "\n",
    "user  = [ \"rock\" , \"paper\" ,\"scissor\"]\n",
    "\n",
    "user = int(input(\" chose rock , paper , scissor (from list(user) using index no.) :  \") )\n",
    "    \n",
    "\n",
    "computer = random.randint(0,2) \n",
    "print(\"computer : \")\n",
    "print(computer)\n",
    "\n",
    "# now put condition\n",
    "if computer == user:\n",
    "    print(\"draw\")\n",
    "    \n",
    "#  these two condition are expection (preference)\n",
    "elif user ==0 and computer == 2:\n",
    "    print(\"you win\")\n",
    "elif user ==2 and computer == 0 :\n",
    "    print(\"you loss\")    \n",
    "\n",
    "elif computer >user :\n",
    "    print(\"you loss\")\n",
    "elif user>computer :\n",
    "    print(\"you win\")\n",
    "    \n",
    "    "
   ]
  },
  {
   "cell_type": "code",
   "execution_count": 7,
   "id": "17f0d758",
   "metadata": {},
   "outputs": [
    {
     "name": "stdout",
     "output_type": "stream",
     "text": [
      "<class 'list'>\n"
     ]
    }
   ],
   "source": [
    "list3 = [1,23,65,23,8.9 , \"anjana\", True , [23,76,45,\"jaipal\"],5.6]\n",
    "print(type(list3))"
   ]
  },
  {
   "cell_type": "code",
   "execution_count": null,
   "id": "533f9a9e",
   "metadata": {},
   "outputs": [],
   "source": []
  },
  {
   "cell_type": "code",
   "execution_count": null,
   "id": "10d102d9",
   "metadata": {},
   "outputs": [],
   "source": []
  },
  {
   "cell_type": "markdown",
   "id": "2a9c7a75",
   "metadata": {},
   "source": [
    "  TUPLE"
   ]
  },
  {
   "cell_type": "code",
   "execution_count": 6,
   "id": "853332e5",
   "metadata": {},
   "outputs": [
    {
     "name": "stdout",
     "output_type": "stream",
     "text": [
      "<class 'tuple'>\n",
      "<class 'int'>\n",
      "<class 'tuple'>\n",
      "<class 'tuple'>\n"
     ]
    }
   ],
   "source": [
    "a = (34,54,\"anjana\" ,4.5 , True , False , -34)\n",
    "b= (\"anjana\" , \"jaipal\" ,\"snjana\")\n",
    "\n",
    "c= (14 , )\n",
    "#  comma after int or any item in tuple is imp  to racognise it as tuple .\n",
    "\n",
    "d =(14 )\n",
    "#  no comma ...mean it will be recognise as int\n",
    "\n",
    "print(type(c))\n",
    "print(type(d))\n",
    "print(type(a))\n",
    "print(type(b))"
   ]
  },
  {
   "cell_type": "code",
   "execution_count": 19,
   "id": "04fefe29",
   "metadata": {},
   "outputs": [
    {
     "name": "stdout",
     "output_type": "stream",
     "text": [
      "(34, 54, 'anjana', 4.5, True, False, -34, 'anjana', 'anjana', 'jaipal', 'snjana', 14)\n"
     ]
    }
   ],
   "source": [
    "tuplex = a+b+c\n",
    "print(tuplex)"
   ]
  },
  {
   "cell_type": "code",
   "execution_count": 20,
   "id": "4624b43c",
   "metadata": {},
   "outputs": [
    {
     "ename": "TypeError",
     "evalue": "can only concatenate tuple (not \"int\") to tuple",
     "output_type": "error",
     "traceback": [
      "\u001b[1;31m---------------------------------------------------------------------------\u001b[0m",
      "\u001b[1;31mTypeError\u001b[0m                                 Traceback (most recent call last)",
      "Cell \u001b[1;32mIn[20], line 1\u001b[0m\n\u001b[1;32m----> 1\u001b[0m tuples \u001b[38;5;241m=\u001b[39m a\u001b[38;5;241m+\u001b[39md\n\u001b[0;32m      2\u001b[0m \u001b[38;5;28mprint\u001b[39m(tuples)\n",
      "\u001b[1;31mTypeError\u001b[0m: can only concatenate tuple (not \"int\") to tuple"
     ]
    }
   ],
   "source": [
    "# tuple add with only tuple .\n",
    "\n",
    "tuples = a+d\n",
    "print(tuples)"
   ]
  },
  {
   "cell_type": "code",
   "execution_count": 13,
   "id": "03a25411",
   "metadata": {},
   "outputs": [
    {
     "name": "stdout",
     "output_type": "stream",
     "text": [
      "anjana\n",
      "54\n"
     ]
    }
   ],
   "source": [
    "a = (34,54,\"anjana\" ,4.5 , True , False , -34, \"anjana\")\n",
    "print(a[2])\n",
    "print(a[1])"
   ]
  },
  {
   "cell_type": "code",
   "execution_count": 12,
   "id": "f750bf1b",
   "metadata": {},
   "outputs": [
    {
     "ename": "TypeError",
     "evalue": "'tuple' object does not support item assignment",
     "output_type": "error",
     "traceback": [
      "\u001b[1;31m---------------------------------------------------------------------------\u001b[0m",
      "\u001b[1;31mTypeError\u001b[0m                                 Traceback (most recent call last)",
      "Cell \u001b[1;32mIn[12], line 3\u001b[0m\n\u001b[0;32m      1\u001b[0m \u001b[38;5;66;03m#  tuple are immutable unlike list\u001b[39;00m\n\u001b[1;32m----> 3\u001b[0m a[\u001b[38;5;241m1\u001b[39m] \u001b[38;5;241m=\u001b[39m \u001b[38;5;124m\"\u001b[39m\u001b[38;5;124manj\u001b[39m\u001b[38;5;124m\"\u001b[39m\n",
      "\u001b[1;31mTypeError\u001b[0m: 'tuple' object does not support item assignment"
     ]
    }
   ],
   "source": [
    "#  tuple are immutable unlike list\n",
    "\n",
    "a[1] = \"anj\""
   ]
  },
  {
   "cell_type": "code",
   "execution_count": 14,
   "id": "cb6bb7ba",
   "metadata": {},
   "outputs": [
    {
     "data": {
      "text/plain": [
       "('anjana', 4.5, True)"
      ]
     },
     "execution_count": 14,
     "metadata": {},
     "output_type": "execute_result"
    }
   ],
   "source": [
    "a[2:5]"
   ]
  },
  {
   "cell_type": "code",
   "execution_count": 15,
   "id": "6b835e1a",
   "metadata": {},
   "outputs": [
    {
     "data": {
      "text/plain": [
       "(34, 'anjana', True, -34)"
      ]
     },
     "execution_count": 15,
     "metadata": {},
     "output_type": "execute_result"
    }
   ],
   "source": [
    "a[: : 2]"
   ]
  },
  {
   "cell_type": "markdown",
   "id": "f1313bb0",
   "metadata": {},
   "source": [
    "Nested tuple"
   ]
  },
  {
   "cell_type": "code",
   "execution_count": 25,
   "id": "5b5ac48c",
   "metadata": {},
   "outputs": [
    {
     "data": {
      "text/plain": [
       "'sanjana'"
      ]
     },
     "execution_count": 25,
     "metadata": {},
     "output_type": "execute_result"
    }
   ],
   "source": [
    "tuple1 = (23 , 54,\"anjana\" ,(\"sanjana\" , 34,54) ,\"jaipal\" ,54 , \"anjana\",\"manju\" ,23.5 )\n",
    "\n",
    "tuple1[3][0]"
   ]
  },
  {
   "cell_type": "code",
   "execution_count": 26,
   "id": "4c5dc844",
   "metadata": {},
   "outputs": [
    {
     "name": "stdout",
     "output_type": "stream",
     "text": [
      "9\n"
     ]
    }
   ],
   "source": [
    "print(len(tuple1))"
   ]
  },
  {
   "cell_type": "code",
   "execution_count": 28,
   "id": "dfcf1f22",
   "metadata": {},
   "outputs": [
    {
     "name": "stdout",
     "output_type": "stream",
     "text": [
      "2\n",
      "2\n"
     ]
    }
   ],
   "source": [
    "# count function in tuple \n",
    "\n",
    "print(tuple1.count(54))\n",
    "print(tuple1.count(\"anjana\"))"
   ]
  },
  {
   "cell_type": "code",
   "execution_count": 33,
   "id": "47a109d8",
   "metadata": {},
   "outputs": [
    {
     "name": "stdout",
     "output_type": "stream",
     "text": [
      "(12, 54, 'anjana')\n"
     ]
    }
   ],
   "source": [
    "# conversion of list into tuple.\n",
    "list =[12,54,\"anjana\"]\n",
    "print(tuple(list))"
   ]
  },
  {
   "cell_type": "code",
   "execution_count": 36,
   "id": "e3884f6a",
   "metadata": {},
   "outputs": [
    {
     "name": "stdout",
     "output_type": "stream",
     "text": [
      "2\n"
     ]
    }
   ],
   "source": [
    "#  finding of index no. in tuple \n",
    "\n",
    "tuple1 = (23 , 54,\"anjana\" ,(\"sanjana\" , 34,54) ,\"jaipal\" ,54 , \"anjana\",\"manju\" ,23.5 )\n",
    "print(tuple1.index(\"anjana\"))\n",
    "# but it will give index no. of very first no. "
   ]
  },
  {
   "cell_type": "code",
   "execution_count": 37,
   "id": "df35e3f1",
   "metadata": {},
   "outputs": [
    {
     "name": "stdout",
     "output_type": "stream",
     "text": [
      "(12, 12, 12, 12, 12)\n"
     ]
    }
   ],
   "source": [
    "tuple45 = (12,) *5\n",
    "print(tuple45)"
   ]
  },
  {
   "cell_type": "code",
   "execution_count": null,
   "id": "f4ef394b",
   "metadata": {},
   "outputs": [],
   "source": []
  },
  {
   "cell_type": "code",
   "execution_count": null,
   "id": "74865f00",
   "metadata": {},
   "outputs": [],
   "source": []
  },
  {
   "cell_type": "code",
   "execution_count": null,
   "id": "8b731dde",
   "metadata": {},
   "outputs": [],
   "source": []
  },
  {
   "cell_type": "markdown",
   "id": "b3787c88",
   "metadata": {},
   "source": [
    "SETS"
   ]
  },
  {
   "cell_type": "raw",
   "id": "cc65feeb",
   "metadata": {},
   "source": [
    "Duplicate items are not allowed in sets , like list and tuple\n",
    "Order is not define in sets  (sequence is not define i.e  can't use index no. ) .\n",
    "indexing is not allowed.\n",
    "mutation is not allowed.\n",
    "sets contain unique element ."
   ]
  },
  {
   "cell_type": "code",
   "execution_count": 45,
   "id": "8ac821e3",
   "metadata": {},
   "outputs": [
    {
     "name": "stdout",
     "output_type": "stream",
     "text": [
      "<class 'set'>\n"
     ]
    }
   ],
   "source": [
    "set1 ={1,34,\"anjana\", True , False , 7.8, -34 ,\"sanjana\"}\n",
    "print(type(set1))"
   ]
  },
  {
   "cell_type": "code",
   "execution_count": 53,
   "id": "2da6da4f",
   "metadata": {},
   "outputs": [
    {
     "data": {
      "text/plain": [
       "dict"
      ]
     },
     "execution_count": 53,
     "metadata": {},
     "output_type": "execute_result"
    }
   ],
   "source": [
    "set2 ={}\n",
    "type(set2)"
   ]
  },
  {
   "cell_type": "code",
   "execution_count": 54,
   "id": "f3c5e572",
   "metadata": {},
   "outputs": [
    {
     "data": {
      "text/plain": [
       "set"
      ]
     },
     "execution_count": 54,
     "metadata": {},
     "output_type": "execute_result"
    }
   ],
   "source": [
    "# to creat empty set\n",
    "set3 =set()\n",
    "type(set3)"
   ]
  },
  {
   "cell_type": "code",
   "execution_count": null,
   "id": "014c86a3",
   "metadata": {},
   "outputs": [],
   "source": []
  },
  {
   "cell_type": "code",
   "execution_count": 48,
   "id": "22320401",
   "metadata": {},
   "outputs": [
    {
     "name": "stdout",
     "output_type": "stream",
     "text": [
      "{False, 1, 34, 'sanjana', 7.8, 'anjana', -34}\n"
     ]
    }
   ],
   "source": [
    "print(set1)\n",
    "\n",
    "#  True is not show in result because in mathematic true mean 1 ....as repetition is not allowed.\n",
    "# false mean 0 (zero)"
   ]
  },
  {
   "cell_type": "code",
   "execution_count": 57,
   "id": "7387a49f",
   "metadata": {},
   "outputs": [
    {
     "data": {
      "text/plain": [
       "{-34, 1, 34, 7.8, False, 'anjana', 'sanjana', 'vandana'}"
      ]
     },
     "execution_count": 57,
     "metadata": {},
     "output_type": "execute_result"
    }
   ],
   "source": [
    "# we can add item one by one in set...\n",
    "set1.add(\"vandana\")\n",
    "set1"
   ]
  },
  {
   "cell_type": "code",
   "execution_count": 58,
   "id": "f47ab6f5",
   "metadata": {},
   "outputs": [
    {
     "name": "stdout",
     "output_type": "stream",
     "text": [
      "8\n"
     ]
    }
   ],
   "source": [
    "print(len(set1))"
   ]
  },
  {
   "cell_type": "code",
   "execution_count": 60,
   "id": "c1cb5bbc",
   "metadata": {},
   "outputs": [
    {
     "data": {
      "text/plain": [
       "{-34, 34, 7.8, False, 'anjana', 'sanjana', 'vandana'}"
      ]
     },
     "execution_count": 60,
     "metadata": {},
     "output_type": "execute_result"
    }
   ],
   "source": [
    "set1.discard(1)\n",
    "set1"
   ]
  },
  {
   "cell_type": "code",
   "execution_count": 61,
   "id": "e56ebdb5",
   "metadata": {},
   "outputs": [
    {
     "data": {
      "text/plain": [
       "{-34, 34, 7.8, 'anjana', 'sanjana', 'vandana'}"
      ]
     },
     "execution_count": 61,
     "metadata": {},
     "output_type": "execute_result"
    }
   ],
   "source": [
    "# pop will remove any random item from set amnd it will remove item with every run..\n",
    "set1.pop()\n",
    "set1"
   ]
  },
  {
   "cell_type": "code",
   "execution_count": 62,
   "id": "ccf0fb61",
   "metadata": {},
   "outputs": [
    {
     "data": {
      "text/plain": [
       "{(13, 43, 65), -34, 34, 7.8, 'anjana', 'sanjana', 'vandana'}"
      ]
     },
     "execution_count": 62,
     "metadata": {},
     "output_type": "execute_result"
    }
   ],
   "source": [
    "# want to add tuple in set \n",
    "# tuple can be add because tuple is immutable like sets.\n",
    "#  we can add string , tuple, bullion ,float ....or any immutable data.\n",
    "set1.add((13,43,65))\n",
    "set1"
   ]
  },
  {
   "cell_type": "code",
   "execution_count": 64,
   "id": "39007872",
   "metadata": {},
   "outputs": [
    {
     "data": {
      "text/plain": [
       "{(13, 43, 65), -34, 34, 7.8, True, 'anjana', 'sanjana', 'vandana'}"
      ]
     },
     "execution_count": 64,
     "metadata": {},
     "output_type": "execute_result"
    }
   ],
   "source": [
    "set1.add(True)\n",
    "set1"
   ]
  },
  {
   "cell_type": "code",
   "execution_count": 66,
   "id": "deca8305",
   "metadata": {},
   "outputs": [
    {
     "data": {
      "text/plain": [
       "{(13, 43, 65), -34, 34, 7.8, True, 'anjana', 'manju', 'sanjana', 'vandana'}"
      ]
     },
     "execution_count": 66,
     "metadata": {},
     "output_type": "execute_result"
    }
   ],
   "source": [
    "set1.add(\"manju\")\n",
    "set1"
   ]
  },
  {
   "cell_type": "code",
   "execution_count": 63,
   "id": "5b91bb3e",
   "metadata": {},
   "outputs": [
    {
     "ename": "TypeError",
     "evalue": "unhashable type: 'list'",
     "output_type": "error",
     "traceback": [
      "\u001b[1;31m---------------------------------------------------------------------------\u001b[0m",
      "\u001b[1;31mTypeError\u001b[0m                                 Traceback (most recent call last)",
      "Cell \u001b[1;32mIn[63], line 3\u001b[0m\n\u001b[0;32m      1\u001b[0m \u001b[38;5;66;03m# list can not be added to the set beacause it is mutable.\u001b[39;00m\n\u001b[1;32m----> 3\u001b[0m set1\u001b[38;5;241m.\u001b[39madd([\u001b[38;5;241m13\u001b[39m,\u001b[38;5;241m43\u001b[39m,\u001b[38;5;241m65\u001b[39m])\n\u001b[0;32m      4\u001b[0m set1\n",
      "\u001b[1;31mTypeError\u001b[0m: unhashable type: 'list'"
     ]
    }
   ],
   "source": [
    "# list can not be added to the set beacause it is mutable.\n",
    "\n",
    "set1.add([13,43,65])\n",
    "set1"
   ]
  },
  {
   "cell_type": "code",
   "execution_count": null,
   "id": "26e36054",
   "metadata": {},
   "outputs": [],
   "source": []
  },
  {
   "cell_type": "code",
   "execution_count": null,
   "id": "a5f22abf",
   "metadata": {},
   "outputs": [],
   "source": []
  },
  {
   "cell_type": "markdown",
   "id": "49a2bbd0",
   "metadata": {},
   "source": [
    "OPERATION ON SETS"
   ]
  },
  {
   "cell_type": "raw",
   "id": "bc1edf0d",
   "metadata": {},
   "source": [
    "UNION OF SETS"
   ]
  },
  {
   "cell_type": "code",
   "execution_count": 69,
   "id": "7fd6af46",
   "metadata": {},
   "outputs": [
    {
     "name": "stdout",
     "output_type": "stream",
     "text": [
      "{1, 3, 4, 5, 6, 8, 9, 10, 'anjana'}\n"
     ]
    }
   ],
   "source": [
    "# union (all) of sets\n",
    "set1= {1,\"anjana\",3,4,5,6}\n",
    "set2 = {5,6,8,4,9,10,\"anjana\"}\n",
    "\n",
    "set1.union(set2)\n",
    "print(set1.union(set2))\n",
    "# no repetition\n",
    "\n",
    "# in .union method we can add tuple ,list or any itemm to set for union ."
   ]
  },
  {
   "cell_type": "code",
   "execution_count": 84,
   "id": "bdd521f4",
   "metadata": {},
   "outputs": [
    {
     "name": "stdout",
     "output_type": "stream",
     "text": [
      "{'sanjana', 3, 4, 5, 6, 23, 'manju'}\n"
     ]
    }
   ],
   "source": [
    "print(set1.union((23,\"manju\")))\n",
    "\n",
    "#  addintion of tuple in set1"
   ]
  },
  {
   "cell_type": "code",
   "execution_count": 83,
   "id": "9ad2046e",
   "metadata": {},
   "outputs": [
    {
     "name": "stdout",
     "output_type": "stream",
     "text": [
      "{'sanjana', 3, 4, 5, 6, 23, 'manju'}\n"
     ]
    }
   ],
   "source": [
    "print(set1.union([23,\"manju\"]))\n",
    "\n",
    "#  addintion of list in set1"
   ]
  },
  {
   "cell_type": "code",
   "execution_count": 80,
   "id": "c3dd75be",
   "metadata": {},
   "outputs": [
    {
     "name": "stdout",
     "output_type": "stream",
     "text": [
      "{65, 'sanjana', 3, 4, 5, 6, 34, 8, 'jaipal'}\n"
     ]
    }
   ],
   "source": [
    "print(set1.union(set2,set3))"
   ]
  },
  {
   "cell_type": "code",
   "execution_count": 73,
   "id": "c1990387",
   "metadata": {},
   "outputs": [
    {
     "name": "stdout",
     "output_type": "stream",
     "text": [
      "{65, 'sanjana', 3, 4, 5, 6, 34, 8, 'jaipal'}\n"
     ]
    }
   ],
   "source": [
    "set3 = {\"jaipal\", 34 , 65}\n",
    "print(set1 | set2 | set3 )\n",
    "# another way of doing union \n",
    "\n",
    "# in this method we con not add tuple or any thing in set ....only sets can be added to the sets "
   ]
  },
  {
   "cell_type": "code",
   "execution_count": 78,
   "id": "d5c8914c",
   "metadata": {},
   "outputs": [
    {
     "name": "stdout",
     "output_type": "stream",
     "text": [
      "{'sanjana', 'jaipal', 'vandana', 'anjana', 'manju'}\n"
     ]
    }
   ],
   "source": [
    "set45 = {\"anjana\",\"sanjana\",\"vandana\"}\n",
    "set54 = {\"manju\",\"jaipal\",\"anjana\"}\n",
    "\n",
    "set45.update(set54)\n",
    "print(set45)"
   ]
  },
  {
   "cell_type": "code",
   "execution_count": 89,
   "id": "48f9b814",
   "metadata": {},
   "outputs": [
    {
     "data": {
      "text/plain": [
       "{'anjana', 'hello', 'jaipal', 'manju', 'sanjana', 'vandana'}"
      ]
     },
     "execution_count": 89,
     "metadata": {},
     "output_type": "execute_result"
    }
   ],
   "source": [
    "set45 | set54"
   ]
  },
  {
   "cell_type": "code",
   "execution_count": 85,
   "id": "be76a887",
   "metadata": {},
   "outputs": [
    {
     "name": "stdout",
     "output_type": "stream",
     "text": [
      "{'sanjana', 'jaipal', 'hello', 'vandana', 'anjana', 'manju'}\n"
     ]
    }
   ],
   "source": [
    "set45.update([\"hello\"])\n",
    "print(set45)\n",
    "# updating by adding list...we can also add tuple or any item..."
   ]
  },
  {
   "cell_type": "raw",
   "id": "ceb320f7",
   "metadata": {},
   "source": [
    "INTERSECTION OF SETS"
   ]
  },
  {
   "cell_type": "code",
   "execution_count": 91,
   "id": "8e1c04b8",
   "metadata": {},
   "outputs": [
    {
     "name": "stdout",
     "output_type": "stream",
     "text": [
      "{'sanjana', 4, 5, 6}\n"
     ]
    }
   ],
   "source": [
    "# intersection (common) of sets\n",
    "set1= {3,4,5,6,\"sanjana\"}\n",
    "set2 = {5,6,8,4,\"sanjana\"}\n",
    "\n",
    "print(set1.intersection(set2))"
   ]
  },
  {
   "cell_type": "code",
   "execution_count": 92,
   "id": "b6a762da",
   "metadata": {},
   "outputs": [
    {
     "data": {
      "text/plain": [
       "{4, 5, 6, 'sanjana'}"
      ]
     },
     "execution_count": 92,
     "metadata": {},
     "output_type": "execute_result"
    }
   ],
   "source": [
    "set1 & set2"
   ]
  },
  {
   "cell_type": "code",
   "execution_count": 94,
   "id": "f82c849b",
   "metadata": {},
   "outputs": [
    {
     "name": "stdout",
     "output_type": "stream",
     "text": [
      "{'sanjana', 3, 4, 5, 6}\n"
     ]
    }
   ],
   "source": [
    "set1.intersection([\"anjana\"])\n",
    "print(set1)"
   ]
  },
  {
   "cell_type": "raw",
   "id": "2069f9f1",
   "metadata": {},
   "source": [
    "DIFFERENCE OF SETS"
   ]
  },
  {
   "cell_type": "code",
   "execution_count": 98,
   "id": "df682ad8",
   "metadata": {},
   "outputs": [
    {
     "name": "stdout",
     "output_type": "stream",
     "text": [
      "{99, 'anjana'}\n"
     ]
    }
   ],
   "source": [
    "set1 = {\"anjana\" ,\"sanjana\", 99 , 23 ,78}\n",
    "set2 ={ \"sanjana\" , 45 , 23,78 }\n",
    "set3 ={\"manju\" ,\"jaipal\" , 99 }\n",
    "\n",
    "print(set1.difference(set2))\n",
    "#  give item in set1 but not in set2 ."
   ]
  },
  {
   "cell_type": "code",
   "execution_count": 99,
   "id": "8b3d4aa0",
   "metadata": {},
   "outputs": [
    {
     "name": "stdout",
     "output_type": "stream",
     "text": [
      "{99, 'anjana'}\n"
     ]
    }
   ],
   "source": [
    "print(set1 - set2)"
   ]
  },
  {
   "cell_type": "code",
   "execution_count": 100,
   "id": "c1cfa18e",
   "metadata": {},
   "outputs": [
    {
     "name": "stdout",
     "output_type": "stream",
     "text": [
      "{'sanjana', 99, 23}\n"
     ]
    }
   ],
   "source": [
    "print(set1.difference((\"anjana\", 78 )))"
   ]
  },
  {
   "cell_type": "code",
   "execution_count": 101,
   "id": "6b905da7",
   "metadata": {},
   "outputs": [
    {
     "name": "stdout",
     "output_type": "stream",
     "text": [
      "{99, 'anjana'}\n"
     ]
    }
   ],
   "source": [
    "print(set1.difference(set2,set3))"
   ]
  },
  {
   "cell_type": "code",
   "execution_count": 105,
   "id": "8ab1c47e",
   "metadata": {},
   "outputs": [
    {
     "name": "stdout",
     "output_type": "stream",
     "text": [
      "{'sanjana', 'jaipal', 'manju', 'vandana'}\n"
     ]
    }
   ],
   "source": [
    "set22 = {\"anjana\" ,\"sanjana\" ,\"manju\"}\n",
    "set11 = {\"anjana\" ,\"jaipal\",\"vandana\"}\n",
    "\n",
    "print(set22.symmetric_difference( set11 ) )\n",
    "#  In symmetric_difference result will show item except common in both .\n",
    "#  in symmetric_difference only two sets are allowed so alternaetive method is operator = ^"
   ]
  },
  {
   "cell_type": "code",
   "execution_count": 109,
   "id": "4548c35d",
   "metadata": {},
   "outputs": [
    {
     "name": "stdout",
     "output_type": "stream",
     "text": [
      "{'sanjana', 'jaipal', 'manju', 'vandana', 'anju'}\n"
     ]
    }
   ],
   "source": [
    "set33 = {\"anju\"}\n",
    "print(set11^set22 ^set33)"
   ]
  },
  {
   "cell_type": "raw",
   "id": "1e74814b",
   "metadata": {},
   "source": [
    "DISJOINT SET "
   ]
  },
  {
   "cell_type": "raw",
   "id": "d27ab6fd",
   "metadata": {},
   "source": [
    "disjoint sets = if two sets intersection is null or empty {}, it is called disjoint set."
   ]
  },
  {
   "cell_type": "code",
   "execution_count": 112,
   "id": "8d882485",
   "metadata": {},
   "outputs": [
    {
     "name": "stdout",
     "output_type": "stream",
     "text": [
      "True\n",
      "False\n"
     ]
    }
   ],
   "source": [
    "set1 ={1,34,\"anjana\"}\n",
    "set2 ={55,\"sanjana\"}\n",
    "set3 ={\"sanjana\"}\n",
    "\n",
    "print(set1.isdisjoint(set2))\n",
    "#  true show yes they are disjoint.\n",
    "\n",
    "print(set2.isdisjoint(set3))"
   ]
  },
  {
   "cell_type": "raw",
   "id": "811872bd",
   "metadata": {},
   "source": [
    "SUBSET"
   ]
  },
  {
   "cell_type": "raw",
   "id": "68f50e4a",
   "metadata": {},
   "source": [
    "set2 is subset of set1 , if set1 contain all the element of set2 ,"
   ]
  },
  {
   "cell_type": "raw",
   "id": "091f209b",
   "metadata": {},
   "source": [
    "SUPERSET = set1 is superset if it contaiin all the element of set2"
   ]
  },
  {
   "cell_type": "code",
   "execution_count": 113,
   "id": "99243db9",
   "metadata": {},
   "outputs": [
    {
     "name": "stdout",
     "output_type": "stream",
     "text": [
      "False\n"
     ]
    }
   ],
   "source": [
    "print(set1.issubset(set2))"
   ]
  },
  {
   "cell_type": "code",
   "execution_count": 115,
   "id": "3fab542f",
   "metadata": {},
   "outputs": [
    {
     "name": "stdout",
     "output_type": "stream",
     "text": [
      "True\n"
     ]
    }
   ],
   "source": [
    "print(set3.issubset(set2))\n",
    "\n",
    "# set3 = subset\n",
    "#  set2 = superset "
   ]
  },
  {
   "cell_type": "code",
   "execution_count": 116,
   "id": "c914e5b5",
   "metadata": {},
   "outputs": [
    {
     "data": {
      "text/plain": [
       "True"
      ]
     },
     "execution_count": 116,
     "metadata": {},
     "output_type": "execute_result"
    }
   ],
   "source": [
    "set3<=set2"
   ]
  },
  {
   "cell_type": "raw",
   "id": "b3336b6c",
   "metadata": {},
   "source": [
    "superset = set having all element "
   ]
  },
  {
   "cell_type": "code",
   "execution_count": 117,
   "id": "512f6673",
   "metadata": {},
   "outputs": [
    {
     "name": "stdout",
     "output_type": "stream",
     "text": [
      "False\n"
     ]
    }
   ],
   "source": [
    "print(set3.issuperset(set2))"
   ]
  },
  {
   "cell_type": "code",
   "execution_count": 118,
   "id": "20f5c1fa",
   "metadata": {},
   "outputs": [
    {
     "name": "stdout",
     "output_type": "stream",
     "text": [
      "True\n"
     ]
    }
   ],
   "source": [
    "set66 = {1,2,3,4,5}\n",
    "set0 ={1,2}\n",
    "set9={4,5}\n",
    "\n",
    "print(set66.issuperset(set9))"
   ]
  },
  {
   "cell_type": "code",
   "execution_count": 121,
   "id": "4f98b1eb",
   "metadata": {},
   "outputs": [
    {
     "data": {
      "text/plain": [
       "True"
      ]
     },
     "execution_count": 121,
     "metadata": {},
     "output_type": "execute_result"
    }
   ],
   "source": [
    "set66>=set9"
   ]
  },
  {
   "cell_type": "code",
   "execution_count": 128,
   "id": "e196d2ca",
   "metadata": {},
   "outputs": [
    {
     "name": "stdout",
     "output_type": "stream",
     "text": [
      "set()\n"
     ]
    }
   ],
   "source": [
    "set100 = {2,4,6,\"anjnaa\"}\n",
    "set100.clear()\n",
    "print(set100)\n",
    "\n",
    "#  clear will delete all the item from the sets (only items are delete , set is still there .)"
   ]
  },
  {
   "cell_type": "code",
   "execution_count": 131,
   "id": "256754a7",
   "metadata": {},
   "outputs": [
    {
     "ename": "NameError",
     "evalue": "name 'set101' is not defined",
     "output_type": "error",
     "traceback": [
      "\u001b[1;31m---------------------------------------------------------------------------\u001b[0m",
      "\u001b[1;31mNameError\u001b[0m                                 Traceback (most recent call last)",
      "Cell \u001b[1;32mIn[131], line 3\u001b[0m\n\u001b[0;32m      1\u001b[0m set101 \u001b[38;5;241m=\u001b[39m {\u001b[38;5;241m2\u001b[39m,\u001b[38;5;241m4\u001b[39m,\u001b[38;5;241m6\u001b[39m,\u001b[38;5;124m\"\u001b[39m\u001b[38;5;124manjnaa\u001b[39m\u001b[38;5;124m\"\u001b[39m}\n\u001b[0;32m      2\u001b[0m \u001b[38;5;28;01mdel\u001b[39;00m set101\n\u001b[1;32m----> 3\u001b[0m \u001b[38;5;28mprint\u001b[39m(set101)\n",
      "\u001b[1;31mNameError\u001b[0m: name 'set101' is not defined"
     ]
    }
   ],
   "source": [
    "set101 = {2,4,6,\"anjnaa\"}\n",
    "del set101\n",
    "print(set101)\n",
    "# it is showing set101 is not define becoz in line 2  we have delete set(item with set whole ...and print is in line 3 .)"
   ]
  },
  {
   "cell_type": "markdown",
   "id": "fb41d891",
   "metadata": {},
   "source": [
    "DICTIONARY "
   ]
  },
  {
   "cell_type": "raw",
   "id": "eaf6a9ea",
   "metadata": {},
   "source": [
    "1- Ordered i.e position in dict is fixed ..\n",
    "2- mutable ...key remain same but value can change..\n",
    "3- we can add and remove from dict ..\n",
    "4- duplicate key should not happen...only the last value will be considered"
   ]
  },
  {
   "cell_type": "code",
   "execution_count": 1,
   "id": "7401e077",
   "metadata": {},
   "outputs": [
    {
     "data": {
      "text/plain": [
       "{'name': 'anjana', 'key': 'value', 'sanju': 1234}"
      ]
     },
     "execution_count": 1,
     "metadata": {},
     "output_type": "execute_result"
    }
   ],
   "source": [
    "dict1 = { 'name' : 'anjana', \"key\" : \"value\" , \"sanju\" : 1234 }\n",
    "dict1"
   ]
  },
  {
   "cell_type": "code",
   "execution_count": 9,
   "id": "b3f67985",
   "metadata": {},
   "outputs": [
    {
     "data": {
      "text/plain": [
       "{'name': 'manju', 'key': 'value', 'sanju': 1234}"
      ]
     },
     "execution_count": 9,
     "metadata": {},
     "output_type": "execute_result"
    }
   ],
   "source": [
    "dict1 = { 'name' : 'anjana', \"key\" : \"value\" , \"sanju\" : 1234 , \"name\" : \"manju\"}\n",
    "dict1"
   ]
  },
  {
   "cell_type": "code",
   "execution_count": 3,
   "id": "b0abc4d6",
   "metadata": {},
   "outputs": [
    {
     "data": {
      "text/plain": [
       "{'name': 'anjana', 'key': 'value', 'sanju': 1234}"
      ]
     },
     "execution_count": 3,
     "metadata": {},
     "output_type": "execute_result"
    }
   ],
   "source": [
    "dict1 = {\n",
    "    'name' : 'anjana', \n",
    "    \"key\" : \"value\" , \n",
    "    \"sanju\" : 1234 \n",
    "}\n",
    "\n",
    "dict1"
   ]
  },
  {
   "cell_type": "code",
   "execution_count": 13,
   "id": "8e710a18",
   "metadata": {},
   "outputs": [
    {
     "name": "stdout",
     "output_type": "stream",
     "text": [
      "{'name': 'jaipal', 'key': 'value', 'sanju': 1234}\n"
     ]
    }
   ],
   "source": [
    "dict1[\"name\"] = \"jaipal\"\n",
    "print(dict1)"
   ]
  },
  {
   "cell_type": "code",
   "execution_count": 16,
   "id": "9c2700c2",
   "metadata": {},
   "outputs": [
    {
     "data": {
      "text/plain": [
       "{'name': 'jaipal', 'key': 'value', 'sanju': 1234, 'world': {1234, 'beautiful'}}"
      ]
     },
     "execution_count": 16,
     "metadata": {},
     "output_type": "execute_result"
    }
   ],
   "source": [
    "dict1[\"world\"]= {1234 ,\"beautiful\"}\n",
    "dict1"
   ]
  },
  {
   "cell_type": "code",
   "execution_count": 18,
   "id": "9663d9f4",
   "metadata": {},
   "outputs": [
    {
     "data": {
      "text/plain": [
       "{'name': {'jaipal', 'manju'},\n",
       " 'key': 'value',\n",
       " 'sanju': 1234,\n",
       " 'world': {1234, 'beautiful'}}"
      ]
     },
     "execution_count": 18,
     "metadata": {},
     "output_type": "execute_result"
    }
   ],
   "source": [
    "dict1[\"name\"] ={\"jaipal\" , \"manju\"}\n",
    "dict1"
   ]
  },
  {
   "cell_type": "code",
   "execution_count": 21,
   "id": "ef626ac0",
   "metadata": {},
   "outputs": [
    {
     "name": "stdout",
     "output_type": "stream",
     "text": [
      "anjana\n"
     ]
    }
   ],
   "source": [
    "data = {1: \"anjana\" , 2: \"sanjan\" , 3 : \"vandana\"}\n",
    "print(data[1])"
   ]
  },
  {
   "cell_type": "code",
   "execution_count": 24,
   "id": "8826101f",
   "metadata": {},
   "outputs": [
    {
     "name": "stdout",
     "output_type": "stream",
     "text": [
      "{2: 'sanjan', 3: 'vandana'}\n"
     ]
    }
   ],
   "source": [
    "del data[1]\n",
    "print(data)"
   ]
  },
  {
   "cell_type": "code",
   "execution_count": 25,
   "id": "64787ab0",
   "metadata": {},
   "outputs": [
    {
     "name": "stdout",
     "output_type": "stream",
     "text": [
      "{3: 'vandana'}\n"
     ]
    }
   ],
   "source": [
    "data.pop(2)\n",
    "print(data)"
   ]
  },
  {
   "cell_type": "code",
   "execution_count": 30,
   "id": "d2b2c6f5",
   "metadata": {},
   "outputs": [
    {
     "data": {
      "text/plain": [
       "{}"
      ]
     },
     "execution_count": 30,
     "metadata": {},
     "output_type": "execute_result"
    }
   ],
   "source": [
    "a={1:\"anjana\" ,2 : \"sanjana\" ,\"name\" : \"jaipal\"}\n",
    "a.clear()\n",
    "a"
   ]
  },
  {
   "cell_type": "code",
   "execution_count": 33,
   "id": "882eeefe",
   "metadata": {},
   "outputs": [
    {
     "name": "stdout",
     "output_type": "stream",
     "text": [
      "dict_keys([1, 2, 'name'])\n"
     ]
    },
    {
     "data": {
      "text/plain": [
       "{1: 'anjana', 2: 'sanjana', 'name': 'jaipal'}"
      ]
     },
     "execution_count": 33,
     "metadata": {},
     "output_type": "execute_result"
    }
   ],
   "source": [
    " bob ={1:\"anjana\" ,2 : \"sanjana\" ,\"name\" : \"jaipal\"}\n",
    "print(bob.keys())\n",
    "bob"
   ]
  },
  {
   "cell_type": "code",
   "execution_count": 37,
   "id": "b8d88cfc",
   "metadata": {},
   "outputs": [
    {
     "name": "stdout",
     "output_type": "stream",
     "text": [
      "dict_values(['anjana', 'sanjana', 'jaipal'])\n"
     ]
    }
   ],
   "source": [
    "print(bob.values())\n"
   ]
  },
  {
   "cell_type": "code",
   "execution_count": 39,
   "id": "8ac7bb4a",
   "metadata": {},
   "outputs": [
    {
     "name": "stdout",
     "output_type": "stream",
     "text": [
      "dict_items([(1, 'anjana'), (2, 'sanjana'), ('name', 'jaipal')])\n"
     ]
    }
   ],
   "source": [
    "print(bob.items())\n",
    "\n",
    "# return dict with list ....and tuple ....key and value in tuple ...and all tuple in list ..."
   ]
  },
  {
   "cell_type": "code",
   "execution_count": 40,
   "id": "5164b98c",
   "metadata": {},
   "outputs": [
    {
     "name": "stdout",
     "output_type": "stream",
     "text": [
      "1\n",
      "2\n",
      "name\n"
     ]
    }
   ],
   "source": [
    "for i in bob:\n",
    "    print(i)\n",
    "# only key will show..."
   ]
  },
  {
   "cell_type": "code",
   "execution_count": 42,
   "id": "4f9191af",
   "metadata": {},
   "outputs": [
    {
     "name": "stdout",
     "output_type": "stream",
     "text": [
      "(1, 'anjana')\n",
      "(2, 'sanjana')\n",
      "('name', 'jaipal')\n"
     ]
    }
   ],
   "source": [
    "for i in bob.items():\n",
    "    print(i)"
   ]
  },
  {
   "cell_type": "code",
   "execution_count": 43,
   "id": "6b29512c",
   "metadata": {},
   "outputs": [
    {
     "name": "stdout",
     "output_type": "stream",
     "text": [
      "{1: 'anjana', 2: 'sanjana', 'name': 'jaipal'}\n"
     ]
    }
   ],
   "source": [
    "rate = bob.copy()\n",
    "print(rate)"
   ]
  },
  {
   "cell_type": "code",
   "execution_count": 44,
   "id": "86b88b8e",
   "metadata": {},
   "outputs": [
    {
     "name": "stdout",
     "output_type": "stream",
     "text": [
      "3\n"
     ]
    }
   ],
   "source": [
    "print(len(rate))"
   ]
  },
  {
   "cell_type": "code",
   "execution_count": 5,
   "id": "3529d67d",
   "metadata": {},
   "outputs": [
    {
     "name": "stdout",
     "output_type": "stream",
     "text": [
      "{'jenney': 'A+', 'harry': 'B+', 'dimppy': 'C', 'rahul': 'D', 'aniket': 'A+', 'prem': 'E'}\n"
     ]
    }
   ],
   "source": [
    "student_marks = {\"jenney\" : 92 , \"harry\" : 78 , \"dimppy\" : 56 , \"rahul\" : 41 ,\"aniket\" : 99 , \"prem\" : 34 }\n",
    "student_grade = {}\n",
    "# we have taken the empty dict....to put output/result...\n",
    "# for loop in dict always take key..in dict...\n",
    "\n",
    "for student in student_marks:       # jenney          \n",
    "    marks = student_marks[student]        # 92\n",
    "    if marks>90:\n",
    "        student_grade[student] = \"A+\"\n",
    "    elif marks>80:\n",
    "        student_grade[student] = \"A\"\n",
    "    elif marks>70:\n",
    "        student_grade[student]= \"B+\"\n",
    "    elif marks >60:\n",
    "        student_grade[student]= \"B\"\n",
    "    elif marks >50 :\n",
    "        student_grade[student]= \"C\"\n",
    "    elif marks >40:\n",
    "        student_grade[student] = \"D\"\n",
    "    else :\n",
    "        student_grade[student] =\"E\"\n",
    "\n",
    "print(student_grade)"
   ]
  },
  {
   "cell_type": "markdown",
   "id": "bf38bd9c",
   "metadata": {},
   "source": [
    "NESTED DICTIONARY  AND LIST "
   ]
  },
  {
   "cell_type": "code",
   "execution_count": 6,
   "id": "f294dfbf",
   "metadata": {},
   "outputs": [],
   "source": [
    "x={\n",
    "\t\"id\": \"0001\",\n",
    "\t\"type\": \"donut\",\n",
    "\t\"name\": \"Cake\",\n",
    "\t\"ppu\": 0.55,\n",
    "\t\"batters\":\n",
    "\t\t{\n",
    "\t\t\t\"batter\":\n",
    "\t\t\t\t[\n",
    "\t\t\t\t\t{ \"id\": \"1001\", \"type\": \"Regular\" },\n",
    "\t\t\t\t\t{ \"id\": \"1002\", \"type\": \"Chocolate\" },\n",
    "\t\t\t\t\t{ \"id\": \"1003\", \"type\": \"Blueberry\" },\n",
    "\t\t\t\t\t{ \"id\": \"1004\", \"type\": \"Devil's Food\" }\n",
    "\t\t\t\t]\n",
    "\t\t},\n",
    "\t\"topping\":\n",
    "\t\t[\n",
    "\t\t\t{ \"id\": \"5001\", \"type\": \"None\" },\n",
    "\t\t\t{ \"id\": \"5002\", \"type\": \"Glazed\" },\n",
    "\t\t\t{ \"id\": \"5005\", \"type\": \"Sugar\" },\n",
    "\t\t\t{ \"id\": \"5007\", \"type\": \"Powdered Sugar\" },\n",
    "\t\t\t{ \"id\": \"5006\", \"type\": \"Chocolate with Sprinkles\" },\n",
    "\t\t\t{ \"id\": \"5003\", \"type\": \"Chocolate\" },\n",
    "\t\t\t{ \"id\": \"5004\", \"type\": \"Maple\" }\n",
    "\t\t]}"
   ]
  },
  {
   "cell_type": "code",
   "execution_count": 10,
   "id": "8d53daaf",
   "metadata": {},
   "outputs": [
    {
     "data": {
      "text/plain": [
       "{'id': '0001',\n",
       " 'type': 'donut',\n",
       " 'name': 'Cake',\n",
       " 'ppu': 0.55,\n",
       " 'batters': {'batter': [{'id': '1001', 'type': 'Regular'},\n",
       "   {'id': '1002', 'type': 'Chocolate'},\n",
       "   {'id': '1003', 'type': 'Blueberry'},\n",
       "   {'id': '1004', 'type': \"Devil's Food\"}]},\n",
       " 'topping': [{'id': '5001', 'type': 'None'},\n",
       "  {'id': '5002', 'type': 'Glazed'},\n",
       "  {'id': '5005', 'type': 'Sugar'},\n",
       "  {'id': '5007', 'type': 'Powdered Sugar'},\n",
       "  {'id': '5006', 'type': 'Chocolate with Sprinkles'},\n",
       "  {'id': '5003', 'type': 'Chocolate'},\n",
       "  {'id': '5004', 'type': 'Maple'}]}"
      ]
     },
     "execution_count": 10,
     "metadata": {},
     "output_type": "execute_result"
    }
   ],
   "source": [
    "x"
   ]
  },
  {
   "cell_type": "code",
   "execution_count": 19,
   "id": "9dee2d61",
   "metadata": {},
   "outputs": [
    {
     "data": {
      "text/plain": [
       "'Glazed'"
      ]
     },
     "execution_count": 19,
     "metadata": {},
     "output_type": "execute_result"
    }
   ],
   "source": [
    "x[\"topping\"][1][\"type\"]"
   ]
  },
  {
   "cell_type": "code",
   "execution_count": 27,
   "id": "9d4c4a5f",
   "metadata": {},
   "outputs": [
    {
     "data": {
      "text/plain": [
       "\"Devil's Food\""
      ]
     },
     "execution_count": 27,
     "metadata": {},
     "output_type": "execute_result"
    }
   ],
   "source": [
    "x[\"batters\"][\"batter\"][3][\"type\"]"
   ]
  },
  {
   "cell_type": "code",
   "execution_count": 28,
   "id": "e8748212",
   "metadata": {},
   "outputs": [],
   "source": [
    "x={\n",
    "\t\"id\": \"0001\",\n",
    "\t\"type\": \"donut\",\n",
    "\t\"name\": \"Cake\",\n",
    "\t\"image\":\n",
    "\t\t{\n",
    "\t\t\t\"url\": \"images/0001.jpg\",\n",
    "\t\t\t\"width\": 200,\n",
    "\t\t\t\"height\": 200\n",
    "\t\t},\n",
    "\t\"thumbnail\":\n",
    "\t\t{\n",
    "\t\t\t\"url\": \"images/thumbnails/0001.jpg\",\n",
    "\t\t\t\"width\": 32,\n",
    "\t\t\t\"height\": 32\n",
    "\t\t}\n",
    "}"
   ]
  },
  {
   "cell_type": "code",
   "execution_count": 29,
   "id": "ab357535",
   "metadata": {},
   "outputs": [
    {
     "data": {
      "text/plain": [
       "{'id': '0001',\n",
       " 'type': 'donut',\n",
       " 'name': 'Cake',\n",
       " 'image': {'url': 'images/0001.jpg', 'width': 200, 'height': 200},\n",
       " 'thumbnail': {'url': 'images/thumbnails/0001.jpg', 'width': 32, 'height': 32}}"
      ]
     },
     "execution_count": 29,
     "metadata": {},
     "output_type": "execute_result"
    }
   ],
   "source": [
    "x"
   ]
  },
  {
   "cell_type": "code",
   "execution_count": 32,
   "id": "1f1f8056",
   "metadata": {},
   "outputs": [
    {
     "data": {
      "text/plain": [
       "200"
      ]
     },
     "execution_count": 32,
     "metadata": {},
     "output_type": "execute_result"
    }
   ],
   "source": [
    "x[\"image\"][\"height\"]"
   ]
  },
  {
   "cell_type": "code",
   "execution_count": null,
   "id": "4c3d4e0e",
   "metadata": {},
   "outputs": [],
   "source": [
    "# add new dict in existing one ....nest dict in existing dict...\n",
    "\n",
    "def "
   ]
  }
 ],
 "metadata": {
  "kernelspec": {
   "display_name": "Python 3 (ipykernel)",
   "language": "python",
   "name": "python3"
  },
  "language_info": {
   "codemirror_mode": {
    "name": "ipython",
    "version": 3
   },
   "file_extension": ".py",
   "mimetype": "text/x-python",
   "name": "python",
   "nbconvert_exporter": "python",
   "pygments_lexer": "ipython3",
   "version": "3.11.3"
  }
 },
 "nbformat": 4,
 "nbformat_minor": 5
}
