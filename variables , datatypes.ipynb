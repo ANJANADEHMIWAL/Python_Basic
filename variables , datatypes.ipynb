{
 "cells": [
  {
   "cell_type": "raw",
   "id": "fc3e7e2a",
   "metadata": {},
   "source": [
    "varable - name given to the memory location.\n",
    "\n",
    "identifiers example are   variables , classes , object  , modules, function , constant .\n",
    "\n",
    "rule -\n",
    "1- variable(identifier) name should not match with keywards\n",
    "2- variable name should start with character (or) underscore (_).\n",
    "3- variable name  can be alphanumeric (character + digit)\n",
    "4 - variable are case sensitive.\n"
   ]
  },
  {
   "cell_type": "raw",
   "id": "32941d09",
   "metadata": {},
   "source": [
    "Data types\n",
    "\n",
    "number - \n",
    "   integer\n",
    "   float\n",
    "   complex\n",
    "   \n",
    "string -\n",
    "  character\n",
    "  string\n",
    "  \n",
    "list\n",
    "\n",
    "tuple\n",
    "\n",
    "dictionary "
   ]
  },
  {
   "cell_type": "raw",
   "id": "ff418f05",
   "metadata": {},
   "source": [
    "in c language there are two steps in starting declaration and initialization \n",
    "\n",
    "declaration include a is integer \n",
    "initialisation include a= 3 or any integer no.\n",
    "\n",
    "but in python decelaration and initialisation happen together \n",
    "when we put a= 3 or any no. declaration happen automatically.\n",
    "\n"
   ]
  },
  {
   "cell_type": "code",
   "execution_count": 7,
   "id": "622e8ff8",
   "metadata": {},
   "outputs": [
    {
     "name": "stdout",
     "output_type": "stream",
     "text": [
      "5\n"
     ]
    },
    {
     "data": {
      "text/plain": [
       "140709708141480"
      ]
     },
     "execution_count": 7,
     "metadata": {},
     "output_type": "execute_result"
    }
   ],
   "source": [
    "a=5\n",
    "print(a)\n",
    "id(a)\n",
    "\n",
    "#  address(id)"
   ]
  },
  {
   "cell_type": "code",
   "execution_count": 8,
   "id": "e681c663",
   "metadata": {},
   "outputs": [
    {
     "name": "stdout",
     "output_type": "stream",
     "text": [
      "10\n"
     ]
    }
   ],
   "source": [
    "a= 10\n",
    "b=a\n",
    "print(b)"
   ]
  },
  {
   "cell_type": "code",
   "execution_count": 11,
   "id": "620f9f93",
   "metadata": {},
   "outputs": [
    {
     "data": {
      "text/plain": [
       "140709708141640"
      ]
     },
     "execution_count": 11,
     "metadata": {},
     "output_type": "execute_result"
    }
   ],
   "source": [
    "id(a)"
   ]
  },
  {
   "cell_type": "code",
   "execution_count": 12,
   "id": "d5e52a4c",
   "metadata": {},
   "outputs": [
    {
     "data": {
      "text/plain": [
       "140709708141640"
      ]
     },
     "execution_count": 12,
     "metadata": {},
     "output_type": "execute_result"
    }
   ],
   "source": [
    "id(b)"
   ]
  },
  {
   "cell_type": "code",
   "execution_count": 5,
   "id": "02272ee9",
   "metadata": {},
   "outputs": [
    {
     "name": "stdout",
     "output_type": "stream",
     "text": [
      "print('hello')\n"
     ]
    }
   ],
   "source": [
    "print(\"print('hello')\")"
   ]
  },
  {
   "cell_type": "code",
   "execution_count": 9,
   "id": "0a8bb637",
   "metadata": {},
   "outputs": [
    {
     "name": "stdout",
     "output_type": "stream",
     "text": [
      "  hello \n",
      "  anjana \n",
      "   sanj  \n"
     ]
    }
   ],
   "source": [
    "print(\"  hello \\n  anjana \\n   sanj  \")"
   ]
  },
  {
   "cell_type": "code",
   "execution_count": 11,
   "id": "625c19cd",
   "metadata": {},
   "outputs": [
    {
     "name": "stdout",
     "output_type": "stream",
     "text": [
      "hello  +  anjana\n"
     ]
    }
   ],
   "source": [
    "print(\"hello  +  anjana\")"
   ]
  },
  {
   "cell_type": "code",
   "execution_count": 14,
   "id": "3e769f05",
   "metadata": {},
   "outputs": [
    {
     "name": "stdout",
     "output_type": "stream",
     "text": [
      "hello anjana\n"
     ]
    }
   ],
   "source": [
    "print(\"hello\" + \" \" + \"anjana\")"
   ]
  },
  {
   "cell_type": "code",
   "execution_count": 20,
   "id": "99f79c48",
   "metadata": {},
   "outputs": [
    {
     "name": "stdout",
     "output_type": "stream",
     "text": [
      " string manipulation exercise \n",
      " string cancetenation is done with '+' sign \n",
      " eg print('hello'+ 'jerry') \n",
      " new line  can be created with a backlash and n '\n"
     ]
    }
   ],
   "source": [
    "print(\" string manipulation exercise \\n string cancetenation is done with '+' sign \\n eg print('hello'+ 'jerry') \\n new line  can be created with a backlash and n '\")"
   ]
  },
  {
   "cell_type": "code",
   "execution_count": 23,
   "id": "abc53bd9",
   "metadata": {},
   "outputs": [
    {
     "name": "stdout",
     "output_type": "stream",
     "text": [
      "name: anjana\n"
     ]
    },
    {
     "data": {
      "text/plain": [
       "'anjana'"
      ]
     },
     "execution_count": 23,
     "metadata": {},
     "output_type": "execute_result"
    }
   ],
   "source": [
    "input(\"name: \" )"
   ]
  },
  {
   "cell_type": "code",
   "execution_count": 29,
   "id": "9ddb1924",
   "metadata": {},
   "outputs": [
    {
     "name": "stdout",
     "output_type": "stream",
     "text": [
      " what : anjana\n",
      "hello anjana\n"
     ]
    }
   ],
   "source": [
    "print(\"hello\" +  \" \" + input(\" what : \") )"
   ]
  },
  {
   "cell_type": "code",
   "execution_count": 33,
   "id": "dbed4fb7",
   "metadata": {},
   "outputs": [
    {
     "name": "stdout",
     "output_type": "stream",
     "text": [
      "enter your name :  Anjana\n",
      "hey Anjana , how are you ?\n"
     ]
    }
   ],
   "source": [
    "print(\"hey\"+ \" \" + input(\"enter your name :  \") + \" , how are you ?\")"
   ]
  },
  {
   "cell_type": "code",
   "execution_count": 36,
   "id": "0c5cd0f9",
   "metadata": {},
   "outputs": [
    {
     "name": "stdout",
     "output_type": "stream",
     "text": [
      "enter your name : Anjana\n",
      "hello Anjana , how are you ? \n"
     ]
    }
   ],
   "source": [
    "print(\"hello\" + \" \"+ input(\"enter your name : \")+ \" , how are you ? \")\n"
   ]
  },
  {
   "cell_type": "code",
   "execution_count": 38,
   "id": "9cc1453f",
   "metadata": {},
   "outputs": [
    {
     "name": "stdout",
     "output_type": "stream",
     "text": [
      "enter your name :  Anjana\n",
      "6\n"
     ]
    }
   ],
   "source": [
    "name = input(\"enter your name :  \")\n",
    "print(len(name))"
   ]
  },
  {
   "cell_type": "code",
   "execution_count": 39,
   "id": "42b5b9e2",
   "metadata": {},
   "outputs": [
    {
     "name": "stdout",
     "output_type": "stream",
     "text": [
      "enter your name : Anjana\n",
      "6\n"
     ]
    }
   ],
   "source": [
    "name = input(\"enter your name : \")\n",
    "length = len(name)\n",
    "print(length)"
   ]
  },
  {
   "cell_type": "code",
   "execution_count": 48,
   "id": "30440373",
   "metadata": {},
   "outputs": [
    {
     "name": "stdout",
     "output_type": "stream",
     "text": [
      "enter your name : Anjana\n",
      "Anjana   hello\n"
     ]
    }
   ],
   "source": [
    "name = str(input(\"enter your name : \"))\n",
    "b= \"   hello\"\n",
    "c= name +b\n",
    "print(c)"
   ]
  },
  {
   "cell_type": "code",
   "execution_count": 53,
   "id": "4ed81dc9",
   "metadata": {},
   "outputs": [
    {
     "name": "stdout",
     "output_type": "stream",
     "text": [
      "2\n"
     ]
    }
   ],
   "source": [
    "a = 1\n",
    "b= 2\n",
    "\n",
    "c= a\n",
    "a = b\n",
    "b= c\n",
    "\n",
    "print(a)"
   ]
  },
  {
   "cell_type": "code",
   "execution_count": 54,
   "id": "56fcf608",
   "metadata": {},
   "outputs": [
    {
     "name": "stdout",
     "output_type": "stream",
     "text": [
      "1\n"
     ]
    }
   ],
   "source": [
    "print(b)"
   ]
  },
  {
   "cell_type": "code",
   "execution_count": 58,
   "id": "331c1d9c",
   "metadata": {},
   "outputs": [
    {
     "name": "stdout",
     "output_type": "stream",
     "text": [
      "enter value of a : 1\n",
      "enter value of b : 2\n",
      "2\n"
     ]
    }
   ],
   "source": [
    "a = input(\"enter value of a : \")\n",
    "b= input(\"enter value of b : \")\n",
    "\n",
    "c = a\n",
    "a=b\n",
    "b =c\n",
    "\n",
    "print(a)"
   ]
  },
  {
   "cell_type": "code",
   "execution_count": 62,
   "id": "89e41446",
   "metadata": {},
   "outputs": [
    {
     "name": "stdout",
     "output_type": "stream",
     "text": [
      "<class 'int'>\n"
     ]
    }
   ],
   "source": [
    "age = 20\n",
    "print(type(age))"
   ]
  },
  {
   "cell_type": "code",
   "execution_count": 64,
   "id": "f066dc4f",
   "metadata": {},
   "outputs": [
    {
     "name": "stdout",
     "output_type": "stream",
     "text": [
      "<class 'str'>\n"
     ]
    }
   ],
   "source": [
    "name = \"anjana\"\n",
    "print(type(name))"
   ]
  },
  {
   "cell_type": "code",
   "execution_count": 4,
   "id": "705aa357",
   "metadata": {},
   "outputs": [
    {
     "name": "stdout",
     "output_type": "stream",
     "text": [
      "<class 'int'>\n"
     ]
    }
   ],
   "source": [
    "print(type(0o123))"
   ]
  },
  {
   "cell_type": "code",
   "execution_count": 8,
   "id": "8e357728",
   "metadata": {},
   "outputs": [
    {
     "name": "stdout",
     "output_type": "stream",
     "text": [
      "47.4\n",
      "<class 'float'>\n",
      "<class 'float'>\n"
     ]
    }
   ],
   "source": [
    "a= 12.5\n",
    "b= 34.9\n",
    "print(a+b)\n",
    "\n",
    "print(type(a))\n",
    "print(type(a+b))"
   ]
  },
  {
   "cell_type": "code",
   "execution_count": 13,
   "id": "2ff5a98d",
   "metadata": {},
   "outputs": [
    {
     "name": "stdout",
     "output_type": "stream",
     "text": [
      "A\n",
      "a\n"
     ]
    }
   ],
   "source": [
    "name = \"Anjana\"\n",
    "print(name[0])\n",
    "\n",
    "print(name[-1])"
   ]
  },
  {
   "cell_type": "code",
   "execution_count": 17,
   "id": "1ee30dc5",
   "metadata": {},
   "outputs": [
    {
     "name": "stdout",
     "output_type": "stream",
     "text": [
      "A\n",
      "H\n"
     ]
    }
   ],
   "source": [
    "name= \"Anjana\"\n",
    "\n",
    "name2 =\"Helll\"\n",
    "\n",
    "print(name[0])\n",
    "print(name2[0])"
   ]
  },
  {
   "cell_type": "code",
   "execution_count": 20,
   "id": "fb82051f",
   "metadata": {},
   "outputs": [
    {
     "name": "stdout",
     "output_type": "stream",
     "text": [
      "anjana's  'class' \n"
     ]
    }
   ],
   "source": [
    "print(\"anjana's  'class' \")"
   ]
  },
  {
   "cell_type": "code",
   "execution_count": 25,
   "id": "67238cc9",
   "metadata": {},
   "outputs": [
    {
     "name": "stdout",
     "output_type": "stream",
     "text": [
      "<class 'bool'>\n"
     ]
    }
   ],
   "source": [
    "a = True\n",
    "print(type(a))"
   ]
  },
  {
   "cell_type": "code",
   "execution_count": 27,
   "id": "8ed28a4c",
   "metadata": {},
   "outputs": [
    {
     "name": "stdout",
     "output_type": "stream",
     "text": [
      "6\n"
     ]
    }
   ],
   "source": [
    "a= \"anjana\"\n",
    "print(len(a))"
   ]
  },
  {
   "cell_type": "code",
   "execution_count": 35,
   "id": "b35555f7",
   "metadata": {},
   "outputs": [
    {
     "name": "stdout",
     "output_type": "stream",
     "text": [
      "your name  has 15 character\n"
     ]
    }
   ],
   "source": [
    "a= \"anjana dehmiwal\"\n",
    "length = len(a)\n",
    "print(\"your name  has \" + str(length) +  \" character\")"
   ]
  },
  {
   "cell_type": "code",
   "execution_count": 36,
   "id": "0c4c6e50",
   "metadata": {},
   "outputs": [
    {
     "name": "stdout",
     "output_type": "stream",
     "text": [
      "20\n"
     ]
    }
   ],
   "source": [
    "print(10+10)"
   ]
  },
  {
   "cell_type": "code",
   "execution_count": 37,
   "id": "edcb89ff",
   "metadata": {},
   "outputs": [
    {
     "name": "stdout",
     "output_type": "stream",
     "text": [
      "1010\n"
     ]
    }
   ],
   "source": [
    "print(\"10\"+\"10\")"
   ]
  },
  {
   "cell_type": "code",
   "execution_count": 38,
   "id": "59ccf675",
   "metadata": {},
   "outputs": [
    {
     "name": "stdout",
     "output_type": "stream",
     "text": [
      "20\n"
     ]
    }
   ],
   "source": [
    "print(int(\"10\")+int(\"10\"))"
   ]
  },
  {
   "cell_type": "code",
   "execution_count": 39,
   "id": "98b1bd8e",
   "metadata": {},
   "outputs": [
    {
     "name": "stdout",
     "output_type": "stream",
     "text": [
      "22.4\n"
     ]
    }
   ],
   "source": [
    "print(10+12.4)"
   ]
  },
  {
   "cell_type": "code",
   "execution_count": 44,
   "id": "26f8fd5d",
   "metadata": {},
   "outputs": [
    {
     "name": "stdout",
     "output_type": "stream",
     "text": [
      "2\n",
      "3\n",
      "addition  5.0\n"
     ]
    }
   ],
   "source": [
    "no1= float(input())\n",
    "no2 = float(input())\n",
    "\n",
    "print(\"addition \" ,no1+no2)\n"
   ]
  },
  {
   "cell_type": "code",
   "execution_count": 6,
   "id": "a3ab2e1a",
   "metadata": {},
   "outputs": [
    {
     "name": "stdout",
     "output_type": "stream",
     "text": [
      "enter two digit no. 28\n",
      "enter first digit : 2\n",
      "enter second digit : 8\n",
      "10\n"
     ]
    }
   ],
   "source": [
    "a = int(input(\"enter two digit no. \"))\n",
    "\n",
    "print(int(input(\"enter first digit : \" ))+ int(input(\"enter second digit : \" ) ))"
   ]
  },
  {
   "cell_type": "code",
   "execution_count": 1,
   "id": "8efb3d3c",
   "metadata": {},
   "outputs": [
    {
     "name": "stdout",
     "output_type": "stream",
     "text": [
      "enter  no. 28\n",
      "10\n"
     ]
    }
   ],
   "source": [
    "a = input(\"enter  no. \")\n",
    "\n",
    "firstdigit = a[0]\n",
    "\n",
    "seconddigit = a[1]\n",
    "\n",
    "print(int(firstdigit) + int(seconddigit))"
   ]
  },
  {
   "cell_type": "code",
   "execution_count": null,
   "id": "94294388",
   "metadata": {},
   "outputs": [],
   "source": []
  }
 ],
 "metadata": {
  "kernelspec": {
   "display_name": "Python 3 (ipykernel)",
   "language": "python",
   "name": "python3"
  },
  "language_info": {
   "codemirror_mode": {
    "name": "ipython",
    "version": 3
   },
   "file_extension": ".py",
   "mimetype": "text/x-python",
   "name": "python",
   "nbconvert_exporter": "python",
   "pygments_lexer": "ipython3",
   "version": "3.11.3"
  }
 },
 "nbformat": 4,
 "nbformat_minor": 5
}
